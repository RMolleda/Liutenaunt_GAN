{
 "metadata": {
  "language_info": {
   "codemirror_mode": {
    "name": "ipython",
    "version": 3
   },
   "file_extension": ".py",
   "mimetype": "text/x-python",
   "name": "python",
   "nbconvert_exporter": "python",
   "pygments_lexer": "ipython3",
   "version": "3.8.8-final"
  },
  "orig_nbformat": 2,
  "kernelspec": {
   "name": "python3",
   "display_name": "Python 3.8.8 64-bit",
   "metadata": {
    "interpreter": {
     "hash": "1baa965d5efe3ac65b79dfc60c0d706280b1da80fedb7760faf2759126c4f253"
    }
   }
  }
 },
 "nbformat": 4,
 "nbformat_minor": 2,
 "cells": [
  {
   "cell_type": "code",
   "execution_count": 1,
   "metadata": {},
   "outputs": [],
   "source": [
    "import tensorflow as tf\n",
    "from tensorflow.keras.layers import (Dense, \n",
    "                                     BatchNormalization, \n",
    "                                     LeakyReLU, \n",
    "                                     Reshape, \n",
    "                                     Conv2DTranspose,\n",
    "                                     Conv2D,\n",
    "                                     Dropout,\n",
    "                                     Flatten)\n",
    "import matplotlib.pyplot as plt\n",
    "import numpy as np "
   ]
  },
  {
   "cell_type": "code",
   "execution_count": 77,
   "metadata": {},
   "outputs": [],
   "source": [
    "import cv2\n",
    "import os\n",
    "\n",
    "def load_images_from_folder(folder):\n",
    "    images = []\n",
    "    for filename in os.listdir(folder):\n",
    "        img = cv2.imread(os.path.join(folder,filename))\n",
    "        img = cv2.resize(img, dsize=(64, 64), interpolation=cv2.INTER_NEAREST)\n",
    "        img = cv2.cvtColor(img, cv2.COLOR_BGR2GRAY)\n",
    "        if img is not None:\n",
    "            images.append(img)\n",
    "    return images       "
   ]
  },
  {
   "source": [
    "images = load_images_from_folder(folder=\"../src/api/uploads\")"
   ],
   "cell_type": "code",
   "metadata": {},
   "execution_count": 78,
   "outputs": []
  },
  {
   "cell_type": "code",
   "execution_count": 79,
   "metadata": {},
   "outputs": [
    {
     "output_type": "stream",
     "name": "stdout",
     "text": [
      "(64, 64)\n"
     ]
    },
    {
     "output_type": "execute_result",
     "data": {
      "text/plain": [
       "<matplotlib.image.AxesImage at 0x1ef37933d90>"
      ]
     },
     "metadata": {},
     "execution_count": 79
    },
    {
     "output_type": "display_data",
     "data": {
      "text/plain": "<Figure size 432x288 with 1 Axes>",
      "image/svg+xml": "<?xml version=\"1.0\" encoding=\"utf-8\" standalone=\"no\"?>\r\n<!DOCTYPE svg PUBLIC \"-//W3C//DTD SVG 1.1//EN\"\r\n  \"http://www.w3.org/Graphics/SVG/1.1/DTD/svg11.dtd\">\r\n<!-- Created with matplotlib (https://matplotlib.org/) -->\r\n<svg height=\"250.618594pt\" version=\"1.1\" viewBox=\"0 0 251.565 250.618594\" width=\"251.565pt\" xmlns=\"http://www.w3.org/2000/svg\" xmlns:xlink=\"http://www.w3.org/1999/xlink\">\r\n <metadata>\r\n  <rdf:RDF xmlns:cc=\"http://creativecommons.org/ns#\" xmlns:dc=\"http://purl.org/dc/elements/1.1/\" xmlns:rdf=\"http://www.w3.org/1999/02/22-rdf-syntax-ns#\">\r\n   <cc:Work>\r\n    <dc:type rdf:resource=\"http://purl.org/dc/dcmitype/StillImage\"/>\r\n    <dc:date>2021-03-10T13:27:08.112920</dc:date>\r\n    <dc:format>image/svg+xml</dc:format>\r\n    <dc:creator>\r\n     <cc:Agent>\r\n      <dc:title>Matplotlib v3.3.3, https://matplotlib.org/</dc:title>\r\n     </cc:Agent>\r\n    </dc:creator>\r\n   </cc:Work>\r\n  </rdf:RDF>\r\n </metadata>\r\n <defs>\r\n  <style type=\"text/css\">*{stroke-linecap:butt;stroke-linejoin:round;}</style>\r\n </defs>\r\n <g id=\"figure_1\">\r\n  <g id=\"patch_1\">\r\n   <path d=\"M 0 250.618594 \r\nL 251.565 250.618594 \r\nL 251.565 0 \r\nL 0 0 \r\nz\r\n\" style=\"fill:none;\"/>\r\n  </g>\r\n  <g id=\"axes_1\">\r\n   <g id=\"patch_2\">\r\n    <path d=\"M 26.925 226.740469 \r\nL 244.365 226.740469 \r\nL 244.365 9.300469 \r\nL 26.925 9.300469 \r\nz\r\n\" style=\"fill:#ffffff;\"/>\r\n   </g>\r\n   <g clip-path=\"url(#p36d8337f5e)\">\r\n    <image height=\"218\" id=\"image8004124b34\" transform=\"scale(1 -1)translate(0 -218)\" width=\"218\" x=\"26.925\" xlink:href=\"data:image/png;base64,\r\niVBORw0KGgoAAAANSUhEUgAAANoAAADaCAYAAADAHVzbAAAoF0lEQVR4nO2dW+xfRdX+V/Xr+XxABRVLC7QWSg+AHEQFQUJVlIRYqsRoUzXBGFMuDF6gEr1QE9GY6IU0iIeQNDEIIkhQomjBSkFaoC1tseUgeD6fz743/87/sz50T/q+gblaz9V8fzO/2bNn75151ppnrZlz/vnn/zf+H/7zn/8E8atf/aqVn/a0p6W6xz/+8a38j3/8o5X/9re/pXZ//vOf99kuImLDhg2tvGzZsn327T7/+c9/prp//etfrfyXv/yllf/+97+ndvz93ve+N9U95znPaeXHPe5xqe7f//53K3M+PFfs3/fJPnkvHK/xu9/9Lv3mPPL/+PeIiN///veTfXKuWJ7NZqkdx8/7j4h45jOf2cr//W97dR52L3/9618nx/HRj360lZ/0pCe1Muc3IuLFL37xPq8VEbFy5crJ/gnOz1Oe8pT9+p+IiMc+9rH7vDbHG5HfA78TnMfH7PeVC4XC/xn1oRUKAzAjlTHte/rTn97KplRz5szZrws89alPbWXToXnz5rUyqZfHQfrSo2wskxoZn/3sZ9PvCy64oJV9X6Ri7NP0kGM2vSCNIiUxZWP/pmy/+c1v9llnqsj5OfbYY1PdE57whFb+4x//OHktwv2z7RQljoj4yU9+Mtn/unXrWnnt2rWtbLr/61//upVNTfmcbE7weqSLpp9T9+K2rDMlZp37pwlUK1qhMAD1oRUKA1AfWqEwADPaTXTdRmSXPm2LiMyLaWv0bAvbTQcccEArk4/33KSu21/7h+Myl77//vtbmXZjRL5Pjt+2HO1Z2wxs+8tf/rKVbZPQHvrFL36R6tj2wAMPbOXnPe95qd3cuXNb+clPfnKq8++98HbKn/70p1b+wx/+kOpoKz3mMY+ZbMd3x+/E1q1bW3nnzp2tzPchIuK+++5rZbr6I/Iz9PPs2W9T7XgvEfk969n7fh8J9lkrWqEwAPWhFQoDMOPO+Qte8IJUyWXXSzDdmqQ1bsf+7QJmW9Z5OWa73rYCl2rTCf52/+vXr29lq0Y4fvZhpczUNkNE3tYglaaLPSLit7/9bStzWyQiU6cnPvGJrWy69exnP7uVTRX5f4RpE13ipMQRmcaTcvbc+71tHW45uB37t3ufz8Wued4PTYieqsimxhRsQtF08Xyzba1ohcIA1IdWKAxAfWiFwgDM5s+fP1lJzmkXJzk53cF000dke8W2Ed3Z5LrPeMYzUjvaBeT0Bnm2pTJ0MZuP91ToBK/dsyMfeOCBVEe7rGezHnzwwZNjnLKbvCXTkxxxzHy2vWgJ2yR8Fuzf7bgF4TqO4+qrr27lxYsXp3YHHXRQK2/bti3V9d4Djovz7Tmlzdpz09Mv4K0K9un7JGpFKxQGoD60QmEAZskFKTdvT9VBekFVAJUPrnMfrKM7u6fqsGre9GgvHOTXU1nzd49Wkm7RfR0R8bOf/WyfZY+flMr0h1TGLmvWMTrA7aYUOxH5XjgmP7PeVshUkK+3Xfjb0Qy8l+c///mt7MBPvi/emuC4fO0p1Yjfb5o1rpsK/PQ73DMnOD+1ohUKA1AfWqEwADNSDasRuEw6AJC7+PSy2ZNGj5Z3/qliINwH6ZF339n/FDWKyMu6vUOkHqam9PBR6GvPImkI6VBEprEch+lKT9lCitKjjuzDdIt19MZRkRKRn7VpMMfPufKc0hvao2XEz3/+8/Sbz8Vqmx44rp7J0APfff6f6T7vze9OBX4WCoNRH1qhMAD1oRUKAzCjqsN2x5TqPCLbc1RyPPe5z03taCeYZ0+pp61UYN5Fu1D5f+T0vK+IbBe4jkp8c3Aq7H/6059OjpF2k20j2glTCvqIbAvYZc254xitSKdt5D44BxyTbTTaoraJn/WsZ7Uy3w9vEdBV73eC4+A82mb/0pe+1MrnnntuquO92eXOe+spPojee8X59pz2FEcV+FkoDEZ9aIXCAMw57rjjGl+xW51LJgWvETngkK5i5t+IyFTJWwSkEFySnS+DlMLLM/voKRV6qbiXLFnSygsXLkx1VK/03Nn8TXoVMe0etruZVKOX0pxzalExKawVGbzegw8+ODlezrfVGlNBvk5Nzue0a9euyTFyPiwEp7lyzTXXpDrOt7dyptz4fic4xp6KppdbhOM3heVzqhWtUBiA+tAKhQGoD61QGIAZXdsOuKRb3bYAg/Jou1hGQ/ew3bdTEi/bJ5QB2d1Mtyz5svtgO9fRLusducQtDdto5Ph2FXNc5Pg95b3tJs4VbVjbJ72jjtgHEzE5wc9hhx3Wyjt27Eh1tG/5vvi502Z76Utfmuq2b9/eynTve8uENo6DQu+6665W7tlonHu3o+1lG20qn6dttKn+HvZ/k/9VKBQeMdSHVigMwOxFL3rRZCXpixUNXFpJo5yimioMqxhIW6fU0hHZzWsVA6lk73gnUghvY3DJ7wWM9k7CZDtToB7dIOyOJ9hnb8vknnvuaWUGmUZMn+D64x//OLW7/PLLW9m0j/NNCsv03b62ad/dd98d+4LnjXRuwYIFqW7Pnj2t3Avo7B3NRHh7YkpR4mfEd9qqIo6/VrRCYQDqQysUBmBGb6KXxd5SS3BH39SLS3AvlRupjOknl2dTx6kU1V76SU3pTY3oB/ZROMsxOkh2SuUSMR0caMrDOnvB+HvqVJiIiC1btrTypZdemup431TDfPe7303tKOD90Ic+lOqWLl3aymvWrGllmxZXXnnlPscUkYNpTeMJ3rPn+5RTTmnljRs3prqptPGeU5o1fm/3N3iUz93vDulorWiFwgDUh1YoDEB9aIXCAMym1O8RmZvanqDtQhvNCmy6Wq2mYPpwcmQr6Pl/tr3Ig2kD9pLWLF++PNXRTvUcUP3Qs5M4rl6wIe3gnpKgB9qKHseyZcta2c/shS98YStfcsklrXzTTTeldjyR0+p9Pl/mtqRSKCLi9ttvb+UNGzakOs43g0Jt47BPP08fMUZMKep7eTQ991MnlvZSgvcSKtWKVigMQH1ohcIAJH+nXbSkbM4nMnXChrcISKN8oPhUIKUVJIsWLWplUyWLXveil5/EeRd71JTLP93SPVFx7yQb0jn3wTH2Tljt9cH5X7VqVaoj1Tv77LNb+cILL0zt2L/pLRUfPCn1fe97X2p35plntvJJJ52U6j71qU+1MufbJxv1TuHkc3H/P/jBD1qZ2wK9tOWmlb2cJP+XdrWiFQoDUB9aoTAA9aEVCgMwo91h2+Lee+9tZbt56V7tBT1SXW51Nl36PXnW5s2b93ndiIfLtfbCNhrdtVaCU4rjMdK9T9vF7bjNYL7Pe+vZPz2bZCpnv+3qqXybERGHHHJIKx966KGtvGnTptTujjvuaOUvfvGLqY52Hq/91re+NbXj1o23Uzj/jBCx7cx79nzTvvd98v9oH9ue7R3XRfSiKnq591O7yZpCofCIoT60QmEA0nrp4D2mw2Yuioi8nHLJ9EmYXJJ7Sm0u96ap3Bb40Y9+lOqYb5IUwsv4EUcc0cqmEHSd99y8pC92v+8v7eupRnpKBdLPKSoa0U8JTjrNgN958+aldlSXUCUSkaMnOB++fwaF+l5IEfke9dJye1unF4RLRQlTlfeCdf08+R708j/6/4jK61goDEZ9aIXCANSHVigMwIzJXMylyfcdlcw8fnSP2zYip3UCFP62XUaQnzvSlolluF3gPJQrVqyYHAdtA6vEac9xftyud2QutyBoJ9iGYh+2BaZyEHpLppcsxlHEe2Hbma5/Kv7dlvYP7fmILKeybcQx8v/8/vFatoVo/7iOCYV4xkAvat3o2Z9ELwsBtw9qRSsUBqA+tEJhAGZc1qmeiMgufef+M1WY+juVIaZshHf+iV5ylJe97GWt/NBDD7Uy04hHZDpnKtM7SmnK5W6awz5MJ/i7dwRQz/XPLQ7+n93epOCmjvxNt7rHQRc+A3wj8vYNqZ2pOu/Fp4FyzFSGWM3TOy2W89GLgmCdny0pp9+/qdNojZ7Sp6hjoTAY9aEVCgMw4/LpUz3pWfRh8aSSpAmmGlzivXRP0UUf5v6Zz3ymle115BLPw9yZMjoiUw/3QcrcW/5JZUzzpk6xjHg4tdkLUxLOh0XWUwobt+O1PUbSSs4V83tEZIWN74X3yWdrk4GnfNokoaiYXlO/Hz2aTfppGs86vt/7SwGNnjeYdfbq8tq1ohUKA1AfWqEwAPWhFQoDMKN71VyXbl5y+oisAOH/2Q1LV7pd0eSw/L9169aldlM59iIyR6bt5SBC2jIeRy/335Rr3nYe7SvbGgyu5bUcUMg6n/jJ+eE2ie0/zoe3U3jiKpU+PpqJeRg937RlqCChWj8iB37abqcNztNFPaece98n59vvLe0+JnbauXNnase5ch9TwbW24Vln+y0lZYpCofCooz60QmEAZlzWvfyzzsqQKbe3Ra6kQKQT7uPDH/7wZB9crr3NMKVQoUokIlMNpqGO6OdJJL0gBbT6YypQ0G3pAjYtI5XsHWzOMfpafBaeK1IzPhefDMpA0I9//OOpbvXq1a1MOuucnRzXNddck+qY85HtegG5dr+TFjtvClUq3LLy8VE91Qjnm9spPbH31DZORK1ohcIQ1IdWKAxAfWiFwgAkG42Sq4hso9kVTRkNc533lOCWVr397W9vZdoklgStXLlyn/1FZDuELnwnGmI+SI+R9lVP8U6bwbIiwtKnqaDNnsrffUydTWCbgbaL7Q7+5vN0bszDDz+8lT/96U+nuqkoAj8X9ungUW6v8Jn1AlV7URV+r2hTHXDAAa3srSeOw3Uey170VP62FflsakUrFAagPrRCYQBmDMw0XSE1sPuW6gG64718csk3VaIqgNdyDskvf/nLrXzbbbelOrpvmR/COUh4basAerlAptz2PWpnesE5YNnt7NInSD9J+3o5TlxHWkmqZOUGtwFMK7kVQHUQtz4iMrW22cFnzW0j07VePsWeqmMqmNQmQy8lOP+P89iLqjC95fVqRSsUBqA+tEJhAGakWxSdRuQAQFNCenborbTokjjvvPPSb+b1oMLja1/7WmpHJYeXbuaj4DJuxcju3btb+dRTT011pHC99GFs11OQuA9SJ9KLXor0XiAiKabpCq9tajrl7TPoyWXq8IjpZ2Hax3b2SPJwep5wY/rWy8PC+XaKQ1JfqkR6ol+/t1Omhtv1nlNRx0JhMOpDKxQGoD60QmEAZr38e3Szm5tO5c6zi5q7+3bD0gVMhbeTBJHjL168ONXxVFLaBVak87dtF47fnHvqtEfPR8/lTvuWdo1TWdPNbtuL/dN29pzub1rxqWO3IrJt5ODRKcW7tzu45WPFEVU6tKf8XDiPvVycPbUGx+gA1x07dkyOf8qG9bPl+2J1CcdVK1qhMAD1oRUKAzCjy9cBl3feeWcrL126NNXRfU5K4tTQpIHbtm1LdUcddVQrM9W0qQBpn2kIl/xeQKSp5P6CFGtKHByRKYTrqKrpnf7ZO/WUz4bP7CUveUlqx7reFgTLPUWGKTLHQVppqsWTWR2AOrXd4WuRWv9vTu/hfJNGOo8MVSkWJrNPjsM0O7nwNY5kkkShUHjUUR9aoTAA9aEVCgOQbDS7chcuXNjKd999d6ojz2Yf5qkMvPNRSpRF0ZaznTdl40Rk1zmvbT7eOxKp596nW5m2TE8Jbjcv67hV4WRFDzzwQCs7GRJBe2X79u2p7sQTT2xlB1wSvZNB2b+3IGijsezEThy/t0imoiB8Lc8j4dycBLeN+M55vjkO55TkO9eL/OD70Tvttla0QmEA6kMrFAYg+aHtQuXy2UvXTBplRcOtt97aynY3kyqRCvSC8BioGpHpLcdhusJl3WPsudynqIFd0fzt/qdOOnU7KnHstiftIV285ZZbUjumbl+1alWqY0DkVN7CiH6uRb4TveBR3pu3KmgasP/e1o2pOk0D5+kkFeZ71Tu11oGrU4Glpof8DvzOpW8kCoXCo4760AqFAZjxVBHv7pOu2MtD9UYvdwSpVy/NNQMMGYwaMS0Sjci0h5SBHs2I7NW098kBr1P9k1I5hwq9n6bgvG/+n72r9Jb10lfz/44++ujUjnPwla98JdXtbyruqTToEZm6s50Dbfnb88FneM8990z2QVgt1FOl8J3mtUxv+VwcnEoaT7G952p/87zUilYoDEB9aIXCANSHVigMwIwuyR7XpcIjIvNW9nHQQQelduzTrnNy8l27drWyXed0IztJEO1DBvKZS/Nap512Wqojj3cEA1XdtAu4NRGRbTnbNbQNGKh6zjnnpHZr1qxpZc8VA17Xrl3bytdee21qxzGecMIJqY5u9illT0S286z44FzRXvMWBhUZtkXpxud8+92h254BxBE5IsC2He05zqOVJqzzHHD8vLbfj967U8l5CoXBqA+tUBiAGSmPl3jSJgbyReRll0ur3bB0WfdyJpJemfaRSvZoAqmuqQDFtlYS9FzzpL505XqMHL+VEMxjyHG95z3vSe16+Svvv//+fbZ7wxvekNpdfPHFrewtDqpNSL2YgySiLyrmuPgseqfF9vKw8N0x/eQ7ZpOB1+MJpRHTipVe3hFvG/H5Hnnkka28adOm1K7n3q/D4guFwagPrVAYgPrQCoUBmNHGsWqeHNy2EfntySef3MqWJvVyzfN6dNM7UoCcm3w5IrvZaWPatU1b0TYDJV6eA4L3bBc+bRnbRuyTtuLll1+e2tHusP32kY98pJUfeuihVr7oootSu2XLlrWyT07lHPO523VOiZptEL4HfC4OiKS9Zckbj96i7cVTZCMi3v/+97eyfQTcJnFQMvuZktBFZFvU7yZt6ZtvvrmVbTtz28s2Zqn3C4XBqA+tUBiAGd2YvZx1dtsziJA74qZNPHjcqnzSkF4OiOXLl7fynj17Uh3pHMdvRT7vsxeJYLAtqYDzbJCaepvk0EMPbWXmyvQY3/GOd7Sy6dCKFSta+dJLL21ln476wx/+sJWdPp0ufZ7kabrfC7gkXSSN8rvDdlu3bk11vDYpG3N7eryLFi1KdRs3bmxlBrtGZArH5+RnltT1uk+mD+e2yLe//e3Ujn2afvJ3rWiFwgDUh1YoDMCM3jIfDE4K4aA5Ls9c4h1AR6+SRZ1TJ1faO8TgQCsVSAk5fo+jd7IkYTEvaSWpgNUUpBBWMTC/BWklPYQRWWzbU8dwHBZgk6r7PjkuPs/eaSz2SE6dtGnvJPv0fDB3x+mnn97KGzZsSO2owjjmmGNSHb2OPgWJY+Q74bni+E0riTPOOKOVmQMnIp+Mc99996U6es9rRSsUBqA+tEJhAOpDKxQGYObjaogphX5E5vi9oE3aVLabyGFpT9BVHpHdt3bD0uVOu8b5H6eS+HiMVjiwjuPyNgbR64PX9n1yDhiJEJFtAQYl2nbubdfQbuqlN+c4ehEXtKtth/E37caI/F7RtrMK/7rrrmtlB9qyre1DvlfOFTk1jt59rl+/vpWdu5G/L7nkklT37ne/u5VrRSsUBqA+tEJhAGbc3TftI90yHeJvUo/eodvun1sEpFF213JZ9xJPVQppsF3WPXFz74B10hKOd+7cuakdr907TYYqDNN20hwLcUk/OY8OYt1fETfFsFay9AJceW8UVvueaWpYiEthOCm+6TjfiTvuuCPVMb+I1TEc1+bNm2MKfJf83Emtzz333Fb+5Cc/mdrxO7j++utTXTrpaHIUhULhEUN9aIXCANSHVigMQHLv291M3t07pohwH73AO9o8tBNsX9FOoNzLbelqdaQApTjOUcl7sZuaHJzX8v1z/O6D4HxbTka7z3Xc4uC13Y735i0Ozo9tL4Lu8Z4kje8Hozki8n3a/c4AV9qUp5xySmpH6ZrfiV4CoaloDOdd7J3kSb8DT071vPG9cpQCbdNa0QqFAagPrVAYgBlpiPMRkgbafUv1Opdgqz/428szl11SI6eG5jLuCAPSI6oHTFMZwGlqQWpjBQzVFaQNDtpkH77PqbyXppjs3xScLmvSOSsVSK17Chg+MytISOccJEtTgOO3C59U0mPkvXAbwzk3tm3b1srOI8NgWvfPsfQoLJ+Lt434vpPq+lqcHwb1RlTgZ6EwHPWhFQoDMCP14qmbEXnJtGeHSzJpgj16PZrDJZ40xLRvKi2d++eYLJSl8JmBpBHZ20dPV0QW95LaeT4o+rXQlzSbVN0ePcI054orrmjls846q5WdBpCeNdPgKQF2T1DbU9EQ9sbxtynsgQce2Mo0V6yUoXja882Ue35fOOaemJz3bXOC7yrfTc8pn6e9vHXiZ6EwGPWhFQoDUB9aoTAAM/Jbc2Qqzc1haQPRJrGdRzA/XkRWq7N/21C0C+xWJw+m/WZOT1vALmu64x0oSBuICWJsy9GetZua80h7zXPKe3GuRQZP0n7ztksvjyFB28X24FRgpq/HPIzeqmAEhrdk6NLns7C6hKp853zks7bdSDu1pyDhu+93gttSvDe38/wTdeJnoTAY9aEVCgMw47LrIEKeMsmd+IhMxUiV7H4npXLeO7rV6U61YHcqt2LEw+nuXvQCEU01OEYHnXIsN954Yys72JDBjFa2TAmwTWU4B6aVpDm9vI68T/fP50TXuV3zpP+eK5oJfJ42C6jk4NZKRJ5vCnbtpue1bZKQlplm83cvqJeUsBfYzHnzKUJ8Tr0g2VrRCoUBqA+tUBiA+tAKhQGY0V1uLk0Oa1uIbl/KlMyXyVttd9BOoNu0x9V7Oel7ueAp93IAIK+9v6eBeowHH3xwK1t5zz7J9213UDV/1VVXpbpXvOIVrZxOktR4OR92iV988cWtvHr16laeP39+asd5tO3CY7OYW9HteO0tW7akOh6JRDvye9/7Xmp32GGHxf7AkQOMBGH/tlk5V7Yx+Qz5Tnsbg74L28t14mehMBj1oRUKAzCjC9+0bEoZH/Fw1fhe9I4z8v+Q3vGkSqv86Sbd3514K9J7p1iSshm9PCEE1SymrVSRcH5MP9m/lSd0g/NeTIeYK8VbFW9+85tb2WYCQRrs506KxQPcbTIwCNd1HBfHYUrPXI4eB+mtqSODX0n1rJQhjXeOmam8lDYLqHrxVgjb1opWKAxAfWiFwgDMKOS06oIUzvSKFIhUyX1QSWCawxRtLPeEsqZbpBsch2lej1YS/xu1BkEq44PeGehIGuW03/RCnnjiiamO46fqgp7biIgbbrihlUkBI3LK6l7QIxVCpnM7duxoZVJAnuIZkefDVH379u37bOfU5KSpfidITf2sOWbem8XefKdN+3g/H/vYx2IKpIdWVpGO1opWKAxAfWiFwgDUh1YoDMCcuXPnNqJqdzB5cS/PILmu8++Rn9uFSnuIXNquXHJfu87Jx6dO1ozoBwDyt9XZnAO6fN2O9+0tDtYxiY9V/kxs5CRHvDa3SS644ILUju5squQj8hy85jWvaWXbYbQVHY1xyy23tHLvCCq6xP1OcPy0uQ855JDJPpwK3gmQiP1NrEM7z/bV1NFYfv/47tg/QZuwVrRCYQDqQysUBmDWE8pymTQdIrhEWtXBPkznpk4N9bVITXupvknzvMTzt/M+8LfVK6RbdD879Tld+KZbU6eG9rYLnCOQbb/whS+0cu8UlFWrVqU6CsgZdGu3N7cMfIolKRvv09s/VBmZlvHeeF+ee96b6T4poeeb78H+jtFbEHy+FM0bfD+8zZD6n+yhUCg8YqgPrVAYgPrQCoUBmNHuMNelu9JBhAx4Yx50BzP28kbS7UsebzU227mOY6YNaDuM/N98n1zarmjaE7wXy7iYrMhbIRwLx2vbiLaAXe5MhEMZlAMRP/jBD+5zvB4z7cZ77703taOMy2Mk2L9tHM63n9nxxx/fypxvby/xPntudcunpgJ5/W5yjnsnm04F/0bkZ+25qryOhcJg1IdWKAzAjPSQLuqIvHQb3KmnO96KBrpJTdm4JJNemEL0TtPkdgKXdVNA0tZeYKnrGN3QOxaKau9XvepVk/3zXqzcoDLC7n3m0+B9nn/++akdXdhXX311qqOaha5onqwZkdOie76nFDxUvLh/b2O89rWvbWXOAYOQDStxerlEuQXBcfn95rvZiwrhs+6dFut3onKGFAqDUR9aoTAA9aEVCgMwY+48u/AXLlzYyubxBPmyI21POOGEVuY2QES22abyREZkzu2kNVOuV9uD3D6w8puuXSuwaX+Sc1tN7mhmgtsHtBls/zDZjfunLUPFvnMf0h58/etfn+p2797dyrT5/Nxp51kOx2dNN7q3bmjrrl27NtXRNuK2haPFe/Im3qfr+I6wj82bN6d2jugmpraKemci2M7jFketaIXCANSHVigMwIyqAAfekUb51Ea6n+l69fK5cePGVvZRRzt37mxl0ijnl+QyboUAQZWE3ftUbjiKgNTDWwu8b25B+ORR0l3mqIzIiXZIsTxXdKtv3bo11TGvI+miFel0SzvQ9q677mpl0merIkipvM1ASshrWaGyYsWKVnYSIgZcMnej1Tzs36oLPjObCaRsnDfPFZ9nL5CXAaN+N3s5QdMWwWSrQqHwiKE+tEJhAFLOEAfocUlevnx5qvvOd77TyqRbVghwqV2yZEmqY/4J7u67Dy7x9gpyt5+Uih68iId7+AjSSgZERmSPHGmkqRIpoftg/738lb3042eeeWYrk2J5HPTs3nzzzamOygvm+7AnjR5OU3C+E6RU9hTzXTJVp7lCampvMKmXnzvnzpST6iRSTs8VlRyeb1Jkvo+mjnyvuunqJ2sKhcIjhvrQCoUBqA+tUBiAGbm01Qjkvs4nz1Mbe8cq9WySo446qpU3bNjw/wcltzd5sBUYU8lX6NZ1H7YFyLsdsbBgwYJWpr1ilQvtArvVab/xWnars3/bJJwT2qxUe0RkO8xbFfw/2+MEbS+enhmRc1HS/uk9Mx/bRPUQ3eq25RzdQDDwuKeiIdw/7TBvG3EO2M6RAuzT7/fJJ5/cyrWiFQoDUB9aoTAAc975znc2vkWXfURWcvBEy4iII444opW57FpcSgEpgygjMnXicm/aR/ppKsP/W7x4cSs7bwddxaYQdDHbnc3/I+2zS5kua9LNiKyAoaLEuTTobnbwKLcxqPBwfkmqIno5H7ltYZc1Ybc954Nz4D44DlM5Pnf+n/OwkGJ6y4RtTVu5zUMViukh/89UnSYK5819cI5dx7TrtaIVCgNQH1qhMAD1oRUKAzCjq5tBmhE5UM458ShZobSFcqOI7IZ18hXaQzxGtZcfz25p2pEc7+te97rUjjaD+6fL1jybfXJLwzYJ7UjPwbx581p5z549rWxbke5h216cA9oTdinTZvAzY/Au59vucdrSHgfvs2cPMhLBdh7HwbmxFOzVr351TOHaa69tZUv2OP8co9vRn/Cud70r1XFrhDamE/Bw/ntHftWKVigMQH1ohcIAzKigd+An3Z92q1OFQVU7KUlEdtH2jr9J6ZO1PJPa+JRMBpbSrc5cFP6/3hE9pnOnn356K5Nq0MUekbcWDCre6bbfvn17asc5tpqCrnRSRyvSSaV9n9wiIPV1XhA+Twd+kiLS1e9tHdJx5wIhhTv66KNb2dtLrPN8cJvEY+QcUJ1x0003pXZUfPh9IeWkyWCaTXiLIFHOyf8qFAqPGOpDKxQGYM6CBQsaB/TyTIWGvUr0VtLb4hRepJJOWUcqSYrZC6q0aoQKEKYZo9crItMjj5HeUAuOqTL41re+1cpWKlBUbJrNtH2kOVaG0NO1aNGiyTrSJqsp6DW1AJb/R4+Yx0FKaNUF83+QKjlwkp4/e3mXLVvWyhSrm35z/FTXRORn6Pvk+8j31rTvpJNOamWngqcJ4UPmp+DnTq96rWiFwgDUh1YoDEB9aIXCAMze8pa3tB833nhjqqTbu8f3yX2t0CdXtz1BlzU5t7cBqIx3MCPHwVyIRx55ZGpHxbj7oPvd+RrpmmaCIt8LbTtHDnBctHlsK/aOrqL9SZvBrnnaFlbRfOMb32hl2rpUq0Rku9r2G3/Tdva1aJc5WJfzyOdilQsjDPxcjjvuuFa2a57zf+edd7aylRu0s72tw3eC/TlYlzagtzG4hVIrWqEwAPWhFQoDMOu5vUkXrfhgrgr+n9M/091sUSeX4Z5rnn2YopBi9YTJpAIWr1LYaspGGkv37fe///3Ujq5pzyOvTZWB1SX8P7vVmaOkd8oP547Kioh83wzcdVAvabFpMO+F7n1v//BeOL8RWRHD7Q672HuH0dOcID2MyEL2l7/85a3slPR0v1skPkXx/VxoGjk1eTq0PgqFwqOO+tAKhQGoD61QGIA5l1122aQEi/KYLVu2pDryVnJ6y1BoA1rKQpc4JTzm43S9mkuTI9MWsIyL9kkvSNFue8qRuHXhUzI5fvN42p90idtVzPvs5ZdkPsyvf/3rqd2xxx4bUzj88MNbmUr5pUuXpna02Wyz0majbM7Kdf6+8sorU915553XynxmDtZdv359KzNKIyLPgZ8F5+q2225r5QsvvDC1ozveduTUUWHeIrjuuuta2TI0RkvUilYoDEB9aIXCAMxIZZyrkO5h0yHSPipIrDqn6sC0jPST6hKPgzTQVIYBqByTtxmoAjDNIVV1AOP8+fNbmRTT9JNbF+6D1IPjMmVjDkJHERDf/OY3W9lUkQGuDnQkHT3++ONbmcG/7sNbMj4Oay9IjyPyPV911VWpjvNPJT9pWEQ+OdVbFXwfeS8RWYlyzjnntLLV+6R2vRM/+X7YJOF75a0Q0s9a0QqFAagPrVAYgBmVBc4ZQk+dT/y89dZbW5k0wZ40eh1Nh/h/bGelAtUUDLCMyAoVKlksTCbltEKA92kKRLrFnX968CIyvXC6Od431SumyKSpTqPNwEcqQ+wppuqCuT8ismiXc2UqTZGuT83hfVKBsXbt2tSOXsJdu3aluk984hOtfNFFF7UyqXNEfh8tTLZpQNCc6OU1IXU0JSQ1pcljVRGpr+eR818rWqEwAPWhFQoDUB9aoTAAM7qYzWHpnvSu95IlS1qZSmqWI3LAntXN3NGnTUJbJSJvH1B1HpFtBibZsR1GG42KhoisNnHwIeeE1+IJpRERp512Wis70oEu8k2bNrWy3c2rV69uZStxaBucccYZk+2ohrfNwxyVVIY4qJd2NtXvEflemPvQoE3lrRCOmeojji8i29m2FWnHf+ADH0h1tJVo5zmhEl349h9wvmmj+TugTW+FCv+vVrRCYQDqQysUBmDO7t27my/Ugt1169a1sgMuSaO4BFu5QdWB3dlUWtCdavpGdy0pa0R2b5PmOZcGA0FNkUmxfFonqRjVAx4jfzMNdUTEDTfc0MqkHqawK1eubGXTMlIlzlUvDyWvG5HdzaSAzL8Rkame6dznPve5Vn7lK1/Zyg5iveyyy1rZ1I75Mdn/9ddfn9px7k2zmevm1FNPTXWkwvw/bxGQHvrd59YT65xbhHWmlaTItaIVCgNQH1qhMAD1oRUKAzDn9ttvbwaQ7QK6y300Drkp3fZW6NPV6mN5aNvRbvIpk4RtkmOOOWaf43A+QrphbRsRli1RmuPtCYJRC5biUK7FQEQf23T22We38le/+tVUx8BEBiw6J+OaNWta+Yorrkh1nIMVK1a0su3SBx98sJWZCzIi4m1ve1srcz4+//nPp3ZMXuTtmje+8Y2tTGW/1e8MIn7Tm96U6s4666xWdjKnKcmbEzbR1nV0Cu0tlv1+8ztwXdoaikKh8KijPrRCYQD+B9r23Z1UL8BUAAAAAElFTkSuQmCC\" y=\"-8.740469\"/>\r\n   </g>\r\n   <g id=\"matplotlib.axis_1\">\r\n    <g id=\"xtick_1\">\r\n     <g id=\"line2d_1\">\r\n      <defs>\r\n       <path d=\"M 0 0 \r\nL 0 3.5 \r\n\" id=\"m7d56f942a3\" style=\"stroke:#000000;stroke-width:0.8;\"/>\r\n      </defs>\r\n      <g>\r\n       <use style=\"stroke:#000000;stroke-width:0.8;\" x=\"28.62375\" xlink:href=\"#m7d56f942a3\" y=\"226.740469\"/>\r\n      </g>\r\n     </g>\r\n     <g id=\"text_1\">\r\n      <!-- 0 -->\r\n      <g transform=\"translate(25.4425 241.338906)scale(0.1 -0.1)\">\r\n       <defs>\r\n        <path d=\"M 31.78125 66.40625 \r\nQ 24.171875 66.40625 20.328125 58.90625 \r\nQ 16.5 51.421875 16.5 36.375 \r\nQ 16.5 21.390625 20.328125 13.890625 \r\nQ 24.171875 6.390625 31.78125 6.390625 \r\nQ 39.453125 6.390625 43.28125 13.890625 \r\nQ 47.125 21.390625 47.125 36.375 \r\nQ 47.125 51.421875 43.28125 58.90625 \r\nQ 39.453125 66.40625 31.78125 66.40625 \r\nz\r\nM 31.78125 74.21875 \r\nQ 44.046875 74.21875 50.515625 64.515625 \r\nQ 56.984375 54.828125 56.984375 36.375 \r\nQ 56.984375 17.96875 50.515625 8.265625 \r\nQ 44.046875 -1.421875 31.78125 -1.421875 \r\nQ 19.53125 -1.421875 13.0625 8.265625 \r\nQ 6.59375 17.96875 6.59375 36.375 \r\nQ 6.59375 54.828125 13.0625 64.515625 \r\nQ 19.53125 74.21875 31.78125 74.21875 \r\nz\r\n\" id=\"DejaVuSans-48\"/>\r\n       </defs>\r\n       <use xlink:href=\"#DejaVuSans-48\"/>\r\n      </g>\r\n     </g>\r\n    </g>\r\n    <g id=\"xtick_2\">\r\n     <g id=\"line2d_2\">\r\n      <g>\r\n       <use style=\"stroke:#000000;stroke-width:0.8;\" x=\"62.59875\" xlink:href=\"#m7d56f942a3\" y=\"226.740469\"/>\r\n      </g>\r\n     </g>\r\n     <g id=\"text_2\">\r\n      <!-- 10 -->\r\n      <g transform=\"translate(56.23625 241.338906)scale(0.1 -0.1)\">\r\n       <defs>\r\n        <path d=\"M 12.40625 8.296875 \r\nL 28.515625 8.296875 \r\nL 28.515625 63.921875 \r\nL 10.984375 60.40625 \r\nL 10.984375 69.390625 \r\nL 28.421875 72.90625 \r\nL 38.28125 72.90625 \r\nL 38.28125 8.296875 \r\nL 54.390625 8.296875 \r\nL 54.390625 0 \r\nL 12.40625 0 \r\nz\r\n\" id=\"DejaVuSans-49\"/>\r\n       </defs>\r\n       <use xlink:href=\"#DejaVuSans-49\"/>\r\n       <use x=\"63.623047\" xlink:href=\"#DejaVuSans-48\"/>\r\n      </g>\r\n     </g>\r\n    </g>\r\n    <g id=\"xtick_3\">\r\n     <g id=\"line2d_3\">\r\n      <g>\r\n       <use style=\"stroke:#000000;stroke-width:0.8;\" x=\"96.57375\" xlink:href=\"#m7d56f942a3\" y=\"226.740469\"/>\r\n      </g>\r\n     </g>\r\n     <g id=\"text_3\">\r\n      <!-- 20 -->\r\n      <g transform=\"translate(90.21125 241.338906)scale(0.1 -0.1)\">\r\n       <defs>\r\n        <path d=\"M 19.1875 8.296875 \r\nL 53.609375 8.296875 \r\nL 53.609375 0 \r\nL 7.328125 0 \r\nL 7.328125 8.296875 \r\nQ 12.9375 14.109375 22.625 23.890625 \r\nQ 32.328125 33.6875 34.8125 36.53125 \r\nQ 39.546875 41.84375 41.421875 45.53125 \r\nQ 43.3125 49.21875 43.3125 52.78125 \r\nQ 43.3125 58.59375 39.234375 62.25 \r\nQ 35.15625 65.921875 28.609375 65.921875 \r\nQ 23.96875 65.921875 18.8125 64.3125 \r\nQ 13.671875 62.703125 7.8125 59.421875 \r\nL 7.8125 69.390625 \r\nQ 13.765625 71.78125 18.9375 73 \r\nQ 24.125 74.21875 28.421875 74.21875 \r\nQ 39.75 74.21875 46.484375 68.546875 \r\nQ 53.21875 62.890625 53.21875 53.421875 \r\nQ 53.21875 48.921875 51.53125 44.890625 \r\nQ 49.859375 40.875 45.40625 35.40625 \r\nQ 44.1875 33.984375 37.640625 27.21875 \r\nQ 31.109375 20.453125 19.1875 8.296875 \r\nz\r\n\" id=\"DejaVuSans-50\"/>\r\n       </defs>\r\n       <use xlink:href=\"#DejaVuSans-50\"/>\r\n       <use x=\"63.623047\" xlink:href=\"#DejaVuSans-48\"/>\r\n      </g>\r\n     </g>\r\n    </g>\r\n    <g id=\"xtick_4\">\r\n     <g id=\"line2d_4\">\r\n      <g>\r\n       <use style=\"stroke:#000000;stroke-width:0.8;\" x=\"130.54875\" xlink:href=\"#m7d56f942a3\" y=\"226.740469\"/>\r\n      </g>\r\n     </g>\r\n     <g id=\"text_4\">\r\n      <!-- 30 -->\r\n      <g transform=\"translate(124.18625 241.338906)scale(0.1 -0.1)\">\r\n       <defs>\r\n        <path d=\"M 40.578125 39.3125 \r\nQ 47.65625 37.796875 51.625 33 \r\nQ 55.609375 28.21875 55.609375 21.1875 \r\nQ 55.609375 10.40625 48.1875 4.484375 \r\nQ 40.765625 -1.421875 27.09375 -1.421875 \r\nQ 22.515625 -1.421875 17.65625 -0.515625 \r\nQ 12.796875 0.390625 7.625 2.203125 \r\nL 7.625 11.71875 \r\nQ 11.71875 9.328125 16.59375 8.109375 \r\nQ 21.484375 6.890625 26.8125 6.890625 \r\nQ 36.078125 6.890625 40.9375 10.546875 \r\nQ 45.796875 14.203125 45.796875 21.1875 \r\nQ 45.796875 27.640625 41.28125 31.265625 \r\nQ 36.765625 34.90625 28.71875 34.90625 \r\nL 20.21875 34.90625 \r\nL 20.21875 43.015625 \r\nL 29.109375 43.015625 \r\nQ 36.375 43.015625 40.234375 45.921875 \r\nQ 44.09375 48.828125 44.09375 54.296875 \r\nQ 44.09375 59.90625 40.109375 62.90625 \r\nQ 36.140625 65.921875 28.71875 65.921875 \r\nQ 24.65625 65.921875 20.015625 65.03125 \r\nQ 15.375 64.15625 9.8125 62.3125 \r\nL 9.8125 71.09375 \r\nQ 15.4375 72.65625 20.34375 73.4375 \r\nQ 25.25 74.21875 29.59375 74.21875 \r\nQ 40.828125 74.21875 47.359375 69.109375 \r\nQ 53.90625 64.015625 53.90625 55.328125 \r\nQ 53.90625 49.265625 50.4375 45.09375 \r\nQ 46.96875 40.921875 40.578125 39.3125 \r\nz\r\n\" id=\"DejaVuSans-51\"/>\r\n       </defs>\r\n       <use xlink:href=\"#DejaVuSans-51\"/>\r\n       <use x=\"63.623047\" xlink:href=\"#DejaVuSans-48\"/>\r\n      </g>\r\n     </g>\r\n    </g>\r\n    <g id=\"xtick_5\">\r\n     <g id=\"line2d_5\">\r\n      <g>\r\n       <use style=\"stroke:#000000;stroke-width:0.8;\" x=\"164.52375\" xlink:href=\"#m7d56f942a3\" y=\"226.740469\"/>\r\n      </g>\r\n     </g>\r\n     <g id=\"text_5\">\r\n      <!-- 40 -->\r\n      <g transform=\"translate(158.16125 241.338906)scale(0.1 -0.1)\">\r\n       <defs>\r\n        <path d=\"M 37.796875 64.3125 \r\nL 12.890625 25.390625 \r\nL 37.796875 25.390625 \r\nz\r\nM 35.203125 72.90625 \r\nL 47.609375 72.90625 \r\nL 47.609375 25.390625 \r\nL 58.015625 25.390625 \r\nL 58.015625 17.1875 \r\nL 47.609375 17.1875 \r\nL 47.609375 0 \r\nL 37.796875 0 \r\nL 37.796875 17.1875 \r\nL 4.890625 17.1875 \r\nL 4.890625 26.703125 \r\nz\r\n\" id=\"DejaVuSans-52\"/>\r\n       </defs>\r\n       <use xlink:href=\"#DejaVuSans-52\"/>\r\n       <use x=\"63.623047\" xlink:href=\"#DejaVuSans-48\"/>\r\n      </g>\r\n     </g>\r\n    </g>\r\n    <g id=\"xtick_6\">\r\n     <g id=\"line2d_6\">\r\n      <g>\r\n       <use style=\"stroke:#000000;stroke-width:0.8;\" x=\"198.49875\" xlink:href=\"#m7d56f942a3\" y=\"226.740469\"/>\r\n      </g>\r\n     </g>\r\n     <g id=\"text_6\">\r\n      <!-- 50 -->\r\n      <g transform=\"translate(192.13625 241.338906)scale(0.1 -0.1)\">\r\n       <defs>\r\n        <path d=\"M 10.796875 72.90625 \r\nL 49.515625 72.90625 \r\nL 49.515625 64.59375 \r\nL 19.828125 64.59375 \r\nL 19.828125 46.734375 \r\nQ 21.96875 47.46875 24.109375 47.828125 \r\nQ 26.265625 48.1875 28.421875 48.1875 \r\nQ 40.625 48.1875 47.75 41.5 \r\nQ 54.890625 34.8125 54.890625 23.390625 \r\nQ 54.890625 11.625 47.5625 5.09375 \r\nQ 40.234375 -1.421875 26.90625 -1.421875 \r\nQ 22.3125 -1.421875 17.546875 -0.640625 \r\nQ 12.796875 0.140625 7.71875 1.703125 \r\nL 7.71875 11.625 \r\nQ 12.109375 9.234375 16.796875 8.0625 \r\nQ 21.484375 6.890625 26.703125 6.890625 \r\nQ 35.15625 6.890625 40.078125 11.328125 \r\nQ 45.015625 15.765625 45.015625 23.390625 \r\nQ 45.015625 31 40.078125 35.4375 \r\nQ 35.15625 39.890625 26.703125 39.890625 \r\nQ 22.75 39.890625 18.8125 39.015625 \r\nQ 14.890625 38.140625 10.796875 36.28125 \r\nz\r\n\" id=\"DejaVuSans-53\"/>\r\n       </defs>\r\n       <use xlink:href=\"#DejaVuSans-53\"/>\r\n       <use x=\"63.623047\" xlink:href=\"#DejaVuSans-48\"/>\r\n      </g>\r\n     </g>\r\n    </g>\r\n    <g id=\"xtick_7\">\r\n     <g id=\"line2d_7\">\r\n      <g>\r\n       <use style=\"stroke:#000000;stroke-width:0.8;\" x=\"232.47375\" xlink:href=\"#m7d56f942a3\" y=\"226.740469\"/>\r\n      </g>\r\n     </g>\r\n     <g id=\"text_7\">\r\n      <!-- 60 -->\r\n      <g transform=\"translate(226.11125 241.338906)scale(0.1 -0.1)\">\r\n       <defs>\r\n        <path d=\"M 33.015625 40.375 \r\nQ 26.375 40.375 22.484375 35.828125 \r\nQ 18.609375 31.296875 18.609375 23.390625 \r\nQ 18.609375 15.53125 22.484375 10.953125 \r\nQ 26.375 6.390625 33.015625 6.390625 \r\nQ 39.65625 6.390625 43.53125 10.953125 \r\nQ 47.40625 15.53125 47.40625 23.390625 \r\nQ 47.40625 31.296875 43.53125 35.828125 \r\nQ 39.65625 40.375 33.015625 40.375 \r\nz\r\nM 52.59375 71.296875 \r\nL 52.59375 62.3125 \r\nQ 48.875 64.0625 45.09375 64.984375 \r\nQ 41.3125 65.921875 37.59375 65.921875 \r\nQ 27.828125 65.921875 22.671875 59.328125 \r\nQ 17.53125 52.734375 16.796875 39.40625 \r\nQ 19.671875 43.65625 24.015625 45.921875 \r\nQ 28.375 48.1875 33.59375 48.1875 \r\nQ 44.578125 48.1875 50.953125 41.515625 \r\nQ 57.328125 34.859375 57.328125 23.390625 \r\nQ 57.328125 12.15625 50.6875 5.359375 \r\nQ 44.046875 -1.421875 33.015625 -1.421875 \r\nQ 20.359375 -1.421875 13.671875 8.265625 \r\nQ 6.984375 17.96875 6.984375 36.375 \r\nQ 6.984375 53.65625 15.1875 63.9375 \r\nQ 23.390625 74.21875 37.203125 74.21875 \r\nQ 40.921875 74.21875 44.703125 73.484375 \r\nQ 48.484375 72.75 52.59375 71.296875 \r\nz\r\n\" id=\"DejaVuSans-54\"/>\r\n       </defs>\r\n       <use xlink:href=\"#DejaVuSans-54\"/>\r\n       <use x=\"63.623047\" xlink:href=\"#DejaVuSans-48\"/>\r\n      </g>\r\n     </g>\r\n    </g>\r\n   </g>\r\n   <g id=\"matplotlib.axis_2\">\r\n    <g id=\"ytick_1\">\r\n     <g id=\"line2d_8\">\r\n      <defs>\r\n       <path d=\"M 0 0 \r\nL -3.5 0 \r\n\" id=\"m3498544053\" style=\"stroke:#000000;stroke-width:0.8;\"/>\r\n      </defs>\r\n      <g>\r\n       <use style=\"stroke:#000000;stroke-width:0.8;\" x=\"26.925\" xlink:href=\"#m3498544053\" y=\"10.999219\"/>\r\n      </g>\r\n     </g>\r\n     <g id=\"text_8\">\r\n      <!-- 0 -->\r\n      <g transform=\"translate(13.5625 14.798437)scale(0.1 -0.1)\">\r\n       <use xlink:href=\"#DejaVuSans-48\"/>\r\n      </g>\r\n     </g>\r\n    </g>\r\n    <g id=\"ytick_2\">\r\n     <g id=\"line2d_9\">\r\n      <g>\r\n       <use style=\"stroke:#000000;stroke-width:0.8;\" x=\"26.925\" xlink:href=\"#m3498544053\" y=\"44.974219\"/>\r\n      </g>\r\n     </g>\r\n     <g id=\"text_9\">\r\n      <!-- 10 -->\r\n      <g transform=\"translate(7.2 48.773437)scale(0.1 -0.1)\">\r\n       <use xlink:href=\"#DejaVuSans-49\"/>\r\n       <use x=\"63.623047\" xlink:href=\"#DejaVuSans-48\"/>\r\n      </g>\r\n     </g>\r\n    </g>\r\n    <g id=\"ytick_3\">\r\n     <g id=\"line2d_10\">\r\n      <g>\r\n       <use style=\"stroke:#000000;stroke-width:0.8;\" x=\"26.925\" xlink:href=\"#m3498544053\" y=\"78.949219\"/>\r\n      </g>\r\n     </g>\r\n     <g id=\"text_10\">\r\n      <!-- 20 -->\r\n      <g transform=\"translate(7.2 82.748437)scale(0.1 -0.1)\">\r\n       <use xlink:href=\"#DejaVuSans-50\"/>\r\n       <use x=\"63.623047\" xlink:href=\"#DejaVuSans-48\"/>\r\n      </g>\r\n     </g>\r\n    </g>\r\n    <g id=\"ytick_4\">\r\n     <g id=\"line2d_11\">\r\n      <g>\r\n       <use style=\"stroke:#000000;stroke-width:0.8;\" x=\"26.925\" xlink:href=\"#m3498544053\" y=\"112.924219\"/>\r\n      </g>\r\n     </g>\r\n     <g id=\"text_11\">\r\n      <!-- 30 -->\r\n      <g transform=\"translate(7.2 116.723437)scale(0.1 -0.1)\">\r\n       <use xlink:href=\"#DejaVuSans-51\"/>\r\n       <use x=\"63.623047\" xlink:href=\"#DejaVuSans-48\"/>\r\n      </g>\r\n     </g>\r\n    </g>\r\n    <g id=\"ytick_5\">\r\n     <g id=\"line2d_12\">\r\n      <g>\r\n       <use style=\"stroke:#000000;stroke-width:0.8;\" x=\"26.925\" xlink:href=\"#m3498544053\" y=\"146.899219\"/>\r\n      </g>\r\n     </g>\r\n     <g id=\"text_12\">\r\n      <!-- 40 -->\r\n      <g transform=\"translate(7.2 150.698437)scale(0.1 -0.1)\">\r\n       <use xlink:href=\"#DejaVuSans-52\"/>\r\n       <use x=\"63.623047\" xlink:href=\"#DejaVuSans-48\"/>\r\n      </g>\r\n     </g>\r\n    </g>\r\n    <g id=\"ytick_6\">\r\n     <g id=\"line2d_13\">\r\n      <g>\r\n       <use style=\"stroke:#000000;stroke-width:0.8;\" x=\"26.925\" xlink:href=\"#m3498544053\" y=\"180.874219\"/>\r\n      </g>\r\n     </g>\r\n     <g id=\"text_13\">\r\n      <!-- 50 -->\r\n      <g transform=\"translate(7.2 184.673437)scale(0.1 -0.1)\">\r\n       <use xlink:href=\"#DejaVuSans-53\"/>\r\n       <use x=\"63.623047\" xlink:href=\"#DejaVuSans-48\"/>\r\n      </g>\r\n     </g>\r\n    </g>\r\n    <g id=\"ytick_7\">\r\n     <g id=\"line2d_14\">\r\n      <g>\r\n       <use style=\"stroke:#000000;stroke-width:0.8;\" x=\"26.925\" xlink:href=\"#m3498544053\" y=\"214.849219\"/>\r\n      </g>\r\n     </g>\r\n     <g id=\"text_14\">\r\n      <!-- 60 -->\r\n      <g transform=\"translate(7.2 218.648437)scale(0.1 -0.1)\">\r\n       <use xlink:href=\"#DejaVuSans-54\"/>\r\n       <use x=\"63.623047\" xlink:href=\"#DejaVuSans-48\"/>\r\n      </g>\r\n     </g>\r\n    </g>\r\n   </g>\r\n   <g id=\"patch_3\">\r\n    <path d=\"M 26.925 226.740469 \r\nL 26.925 9.300469 \r\n\" style=\"fill:none;stroke:#000000;stroke-linecap:square;stroke-linejoin:miter;stroke-width:0.8;\"/>\r\n   </g>\r\n   <g id=\"patch_4\">\r\n    <path d=\"M 244.365 226.740469 \r\nL 244.365 9.300469 \r\n\" style=\"fill:none;stroke:#000000;stroke-linecap:square;stroke-linejoin:miter;stroke-width:0.8;\"/>\r\n   </g>\r\n   <g id=\"patch_5\">\r\n    <path d=\"M 26.925 226.740469 \r\nL 244.365 226.740469 \r\n\" style=\"fill:none;stroke:#000000;stroke-linecap:square;stroke-linejoin:miter;stroke-width:0.8;\"/>\r\n   </g>\r\n   <g id=\"patch_6\">\r\n    <path d=\"M 26.925 9.300469 \r\nL 244.365 9.300469 \r\n\" style=\"fill:none;stroke:#000000;stroke-linecap:square;stroke-linejoin:miter;stroke-width:0.8;\"/>\r\n   </g>\r\n  </g>\r\n </g>\r\n <defs>\r\n  <clipPath id=\"p36d8337f5e\">\r\n   <rect height=\"217.44\" width=\"217.44\" x=\"26.925\" y=\"9.300469\"/>\r\n  </clipPath>\r\n </defs>\r\n</svg>\r\n",
      "image/png": "[encoded data removed]"
     },
     "metadata": {
      "needs_background": "light"
     }
    }
   ],
   "source": [
    "print(images[0].shape)\n",
    "plt.imshow(images[0], cmap=\"gray\")"
   ]
  },
  {
   "cell_type": "code",
   "execution_count": 25,
   "metadata": {},
   "outputs": [
    {
     "output_type": "error",
     "ename": "ValueError",
     "evalue": "cannot reshape array of size 12288 into shape (1,64,64,1)",
     "traceback": [
      "\u001b[1;31m---------------------------------------------------------------------------\u001b[0m",
      "\u001b[1;31mValueError\u001b[0m                                Traceback (most recent call last)",
      "\u001b[1;32m<ipython-input-25-81ed55c03642>\u001b[0m in \u001b[0;36m<module>\u001b[1;34m\u001b[0m\n\u001b[1;32m----> 1\u001b[1;33m \u001b[0mimages\u001b[0m\u001b[1;33m[\u001b[0m\u001b[1;36m0\u001b[0m\u001b[1;33m]\u001b[0m\u001b[1;33m.\u001b[0m\u001b[0mreshape\u001b[0m\u001b[1;33m(\u001b[0m\u001b[1;36m1\u001b[0m\u001b[1;33m,\u001b[0m \u001b[1;36m64\u001b[0m\u001b[1;33m,\u001b[0m \u001b[1;36m64\u001b[0m\u001b[1;33m,\u001b[0m \u001b[1;36m1\u001b[0m\u001b[1;33m)\u001b[0m\u001b[1;33m\u001b[0m\u001b[1;33m\u001b[0m\u001b[0m\n\u001b[0m",
      "\u001b[1;31mValueError\u001b[0m: cannot reshape array of size 12288 into shape (1,64,64,1)"
     ]
    }
   ],
   "source": []
  },
  {
   "cell_type": "code",
   "execution_count": 80,
   "metadata": {},
   "outputs": [],
   "source": [
    "images_shaped = []\n",
    "for i in images:\n",
    "    img = i.astype('float32')\n",
    "    images_shaped.append(img)"
   ]
  },
  {
   "cell_type": "code",
   "execution_count": 81,
   "metadata": {},
   "outputs": [],
   "source": [
    "train_images = np.asarray(images_shaped)"
   ]
  },
  {
   "cell_type": "code",
   "execution_count": 82,
   "metadata": {},
   "outputs": [],
   "source": [
    "del images, images_shaped"
   ]
  },
  {
   "cell_type": "code",
   "execution_count": 83,
   "metadata": {},
   "outputs": [
    {
     "output_type": "execute_result",
     "data": {
      "text/plain": [
       "(10, 64, 64)"
      ]
     },
     "metadata": {},
     "execution_count": 83
    }
   ],
   "source": [
    "train_images.shape"
   ]
  },
  {
   "cell_type": "code",
   "execution_count": 84,
   "metadata": {},
   "outputs": [
    {
     "output_type": "stream",
     "name": "stdout",
     "text": [
      "Wall time: 2.5 ms\n"
     ]
    }
   ],
   "source": [
    "%%time\n",
    "# underscore to omit the label arrays\n",
    "#(train_images, train_labels), (_, _) = tf.keras.datasets.mnist.load_data() \n",
    "\n",
    "train_images = train_images.reshape(train_images.shape[0], 64, 64, 1).astype('float32')\n",
    "train_images = (train_images - 127.5) / 127.5 # Normalize the images to [-1, 1]\n",
    "\n",
    "BUFFER_SIZE = 60000\n",
    "BATCH_SIZE = 256\n",
    "\n",
    "# Batch and shuffle the data\n",
    "train_dataset = tf.data.Dataset.from_tensor_slices(train_images).shuffle(BUFFER_SIZE).batch(BATCH_SIZE)"
   ]
  },
  {
   "cell_type": "code",
   "execution_count": 86,
   "metadata": {},
   "outputs": [
    {
     "output_type": "execute_result",
     "data": {
      "text/plain": [
       "array([[[ 0.4117647 ],\n",
       "        [ 0.3254902 ],\n",
       "        [ 0.11372549],\n",
       "        ...,\n",
       "        [ 0.5372549 ],\n",
       "        [ 0.5686275 ],\n",
       "        [ 0.49019608]],\n",
       "\n",
       "       [[ 0.5137255 ],\n",
       "        [ 0.5372549 ],\n",
       "        [-0.14509805],\n",
       "        ...,\n",
       "        [ 0.5058824 ],\n",
       "        [ 0.5137255 ],\n",
       "        [ 0.19215687]],\n",
       "\n",
       "       [[ 0.05098039],\n",
       "        [-0.03529412],\n",
       "        [ 0.03529412],\n",
       "        ...,\n",
       "        [ 0.46666667],\n",
       "        [ 0.29411766],\n",
       "        [ 0.44313726]],\n",
       "\n",
       "       ...,\n",
       "\n",
       "       [[-0.38039216],\n",
       "        [-0.2627451 ],\n",
       "        [-0.18431373],\n",
       "        ...,\n",
       "        [-0.8352941 ],\n",
       "        [-0.8352941 ],\n",
       "        [-0.8117647 ]],\n",
       "\n",
       "       [[-0.2627451 ],\n",
       "        [-0.3254902 ],\n",
       "        [-0.2627451 ],\n",
       "        ...,\n",
       "        [-0.81960785],\n",
       "        [-0.827451  ],\n",
       "        [-0.81960785]],\n",
       "\n",
       "       [[-0.21568628],\n",
       "        [-0.23137255],\n",
       "        [-0.3647059 ],\n",
       "        ...,\n",
       "        [-0.8039216 ],\n",
       "        [-0.81960785],\n",
       "        [-0.85882354]]], dtype=float32)"
      ]
     },
     "metadata": {},
     "execution_count": 86
    }
   ],
   "source": [
    "train_images[0]"
   ]
  },
  {
   "cell_type": "code",
   "execution_count": 64,
   "metadata": {},
   "outputs": [],
   "source": [
    "def make_generator_model():\n",
    "    model = tf.keras.Sequential()\n",
    "    model.add(Dense(7*7*256, use_bias=False, input_shape=(None, 64, 64, 1)))\n",
    "    model.add(BatchNormalization())\n",
    "    model.add(LeakyReLU())\n",
    "\n",
    "    model.add(Reshape((7, 7, 256)))\n",
    "    assert model.output_shape == (None, 7, 7, 256) # Note: None is the batch size\n",
    "\n",
    "    model.add(Conv2DTranspose(128, (5, 5), strides=(1, 1), padding='same', use_bias=False, activation=\"relu\"))\n",
    "    assert model.output_shape == (None, 7, 7, 128)\n",
    "    model.add(BatchNormalization())\n",
    "    model.add(LeakyReLU())\n",
    "\n",
    "    model.add(Conv2DTranspose(64, (5, 5), strides=(2, 2), padding='same', use_bias=False, activation=\"relu\"))\n",
    "    assert model.output_shape == (None, 14, 14, 64)\n",
    "    model.add(BatchNormalization())\n",
    "    model.add(LeakyReLU())\n",
    "\n",
    "    model.add(Conv2DTranspose(1, (5, 5), strides=(2, 2), padding='same', use_bias=False, activation='softmax'))\n",
    "    assert model.output_shape == (None, 64, 64, 1)\n",
    "\n",
    "    return model"
   ]
  },
  {
   "cell_type": "code",
   "execution_count": 65,
   "metadata": {},
   "outputs": [
    {
     "output_type": "error",
     "ename": "AssertionError",
     "evalue": "",
     "traceback": [
      "\u001b[1;31m---------------------------------------------------------------------------\u001b[0m",
      "\u001b[1;31mAssertionError\u001b[0m                            Traceback (most recent call last)",
      "\u001b[1;32m<ipython-input-65-c676d61d45e0>\u001b[0m in \u001b[0;36m<module>\u001b[1;34m\u001b[0m\n\u001b[1;32m----> 1\u001b[1;33m \u001b[0mgenerator\u001b[0m \u001b[1;33m=\u001b[0m \u001b[0mmake_generator_model\u001b[0m\u001b[1;33m(\u001b[0m\u001b[1;33m)\u001b[0m\u001b[1;33m\u001b[0m\u001b[1;33m\u001b[0m\u001b[0m\n\u001b[0m",
      "\u001b[1;32m<ipython-input-64-b55fa997f198>\u001b[0m in \u001b[0;36mmake_generator_model\u001b[1;34m()\u001b[0m\n\u001b[0;32m     19\u001b[0m \u001b[1;33m\u001b[0m\u001b[0m\n\u001b[0;32m     20\u001b[0m     \u001b[0mmodel\u001b[0m\u001b[1;33m.\u001b[0m\u001b[0madd\u001b[0m\u001b[1;33m(\u001b[0m\u001b[0mConv2DTranspose\u001b[0m\u001b[1;33m(\u001b[0m\u001b[1;36m1\u001b[0m\u001b[1;33m,\u001b[0m \u001b[1;33m(\u001b[0m\u001b[1;36m5\u001b[0m\u001b[1;33m,\u001b[0m \u001b[1;36m5\u001b[0m\u001b[1;33m)\u001b[0m\u001b[1;33m,\u001b[0m \u001b[0mstrides\u001b[0m\u001b[1;33m=\u001b[0m\u001b[1;33m(\u001b[0m\u001b[1;36m2\u001b[0m\u001b[1;33m,\u001b[0m \u001b[1;36m2\u001b[0m\u001b[1;33m)\u001b[0m\u001b[1;33m,\u001b[0m \u001b[0mpadding\u001b[0m\u001b[1;33m=\u001b[0m\u001b[1;34m'same'\u001b[0m\u001b[1;33m,\u001b[0m \u001b[0muse_bias\u001b[0m\u001b[1;33m=\u001b[0m\u001b[1;32mFalse\u001b[0m\u001b[1;33m,\u001b[0m \u001b[0mactivation\u001b[0m\u001b[1;33m=\u001b[0m\u001b[1;34m'softmax'\u001b[0m\u001b[1;33m)\u001b[0m\u001b[1;33m)\u001b[0m\u001b[1;33m\u001b[0m\u001b[1;33m\u001b[0m\u001b[0m\n\u001b[1;32m---> 21\u001b[1;33m     \u001b[1;32massert\u001b[0m \u001b[0mmodel\u001b[0m\u001b[1;33m.\u001b[0m\u001b[0moutput_shape\u001b[0m \u001b[1;33m==\u001b[0m \u001b[1;33m(\u001b[0m\u001b[1;32mNone\u001b[0m\u001b[1;33m,\u001b[0m \u001b[1;36m64\u001b[0m\u001b[1;33m,\u001b[0m \u001b[1;36m64\u001b[0m\u001b[1;33m,\u001b[0m \u001b[1;36m1\u001b[0m\u001b[1;33m)\u001b[0m\u001b[1;33m\u001b[0m\u001b[1;33m\u001b[0m\u001b[0m\n\u001b[0m\u001b[0;32m     22\u001b[0m \u001b[1;33m\u001b[0m\u001b[0m\n\u001b[0;32m     23\u001b[0m     \u001b[1;32mreturn\u001b[0m \u001b[0mmodel\u001b[0m\u001b[1;33m\u001b[0m\u001b[1;33m\u001b[0m\u001b[0m\n",
      "\u001b[1;31mAssertionError\u001b[0m: "
     ]
    }
   ],
   "source": [
    "generator = make_generator_model()"
   ]
  },
  {
   "cell_type": "code",
   "execution_count": null,
   "metadata": {},
   "outputs": [],
   "source": [
    "\"\"\"\n",
    "# Create a random noise and generate a sample\n",
    "noise = tf.random.normal([1, 100])\n",
    "generated_image = generator(noise, training=False)\n",
    "# Visualize the generated sample\n",
    "plt.imshow(generated_image[0, :, :, 0], cmap='gray')\n",
    "\"\"\""
   ]
  },
  {
   "cell_type": "code",
   "execution_count": 87,
   "metadata": {},
   "outputs": [],
   "source": [
    "def make_discriminator_model():\n",
    "    model = tf.keras.Sequential()\n",
    "    \n",
    "    model.add(Conv2D(64, (5, 5), strides=(2, 2), padding='same', input_shape=[64, 64, 1]))\n",
    "    model.add(LeakyReLU())\n",
    "    model.add(Dropout(0.3))\n",
    "\n",
    "    model.add(Conv2D(128, (5, 5), strides=(2, 2), padding='same'))\n",
    "    model.add(LeakyReLU())\n",
    "    model.add(Dropout(0.3))\n",
    "\n",
    "    model.add(Flatten())\n",
    "    model.add(Dense(1))\n",
    "\n",
    "    return model"
   ]
  },
  {
   "cell_type": "code",
   "execution_count": 88,
   "metadata": {},
   "outputs": [],
   "source": [
    "discriminator = make_discriminator_model()"
   ]
  },
  {
   "cell_type": "code",
   "execution_count": 89,
   "metadata": {},
   "outputs": [
    {
     "output_type": "error",
     "ename": "NameError",
     "evalue": "name 'generated_image' is not defined",
     "traceback": [
      "\u001b[1;31m---------------------------------------------------------------------------\u001b[0m",
      "\u001b[1;31mNameError\u001b[0m                                 Traceback (most recent call last)",
      "\u001b[1;32m<ipython-input-89-a77073aeff66>\u001b[0m in \u001b[0;36m<module>\u001b[1;34m\u001b[0m\n\u001b[1;32m----> 1\u001b[1;33m \u001b[0mdecision\u001b[0m \u001b[1;33m=\u001b[0m \u001b[0mdiscriminator\u001b[0m\u001b[1;33m(\u001b[0m\u001b[0mgenerated_image\u001b[0m\u001b[1;33m)\u001b[0m\u001b[1;33m\u001b[0m\u001b[1;33m\u001b[0m\u001b[0m\n\u001b[0m\u001b[0;32m      2\u001b[0m \u001b[0mprint\u001b[0m \u001b[1;33m(\u001b[0m\u001b[0mdecision\u001b[0m\u001b[1;33m)\u001b[0m\u001b[1;33m\u001b[0m\u001b[1;33m\u001b[0m\u001b[0m\n",
      "\u001b[1;31mNameError\u001b[0m: name 'generated_image' is not defined"
     ]
    }
   ],
   "source": [
    "decision = discriminator(generated_image)\n",
    "print (decision)"
   ]
  },
  {
   "cell_type": "code",
   "execution_count": 90,
   "metadata": {},
   "outputs": [],
   "source": [
    "\n",
    "# This method returns a helper function to compute cross entropy loss\n",
    "cross_entropy = tf.keras.losses.BinaryCrossentropy(from_logits=True)\n",
    "\n",
    "def discriminator_loss(real_output, fake_output):\n",
    "    real_loss = cross_entropy(tf.ones_like(real_output), real_output)\n",
    "    fake_loss = cross_entropy(tf.zeros_like(fake_output), fake_output)\n",
    "    total_loss = real_loss + fake_loss\n",
    "    return total_loss\n",
    "\n",
    "def generator_loss(fake_output):\n",
    "    return cross_entropy(tf.ones_like(fake_output), fake_output)\n",
    "\n",
    "generator_optimizer = tf.keras.optimizers.Adam(1e-4)\n",
    "discriminator_optimizer = tf.keras.optimizers.Adam(1e-4)"
   ]
  },
  {
   "cell_type": "code",
   "execution_count": 91,
   "metadata": {},
   "outputs": [],
   "source": [
    "\n",
    "import os\n",
    "\n",
    "checkpoint_dir = './training_checkpoints'\n",
    "checkpoint_prefix = os.path.join(checkpoint_dir, \"ckpt\")\n",
    "checkpoint = tf.train.Checkpoint(generator_optimizer=generator_optimizer,\n",
    "                                 discriminator_optimizer=discriminator_optimizer,\n",
    "                                 generator=generator,\n",
    "                                 discriminator=discriminator)"
   ]
  },
  {
   "cell_type": "code",
   "execution_count": 92,
   "metadata": {},
   "outputs": [],
   "source": [
    "EPOCHS = 1\n",
    "# We will reuse this seed overtime (so it's easier)\n",
    "# to visualize progress in the animated GIF)\n",
    "num_examples_to_generate = 16\n",
    "noise_dim = 100\n",
    "seed = tf.random.normal([num_examples_to_generate, noise_dim])"
   ]
  },
  {
   "cell_type": "code",
   "execution_count": 93,
   "metadata": {},
   "outputs": [],
   "source": [
    "# tf.function annotation causes the function \n",
    "# to be \"compiled\" as part of the training\n",
    "@tf.function\n",
    "def train_step(images):\n",
    "  \n",
    "    # 1 - Create a random noise to feed it into the model\n",
    "    # for the image generation\n",
    "    noise = tf.random.normal([BATCH_SIZE, noise_dim])\n",
    "    \n",
    "    # 2 - Generate images and calculate loss values\n",
    "    # GradientTape method records operations for automatic differentiation.\n",
    "    with tf.GradientTape() as gen_tape, tf.GradientTape() as disc_tape:\n",
    "      generated_images = generator(noise, training=True)\n",
    "\n",
    "      real_output = discriminator(images, training=True)\n",
    "      fake_output = discriminator(generated_images, training=True)\n",
    "\n",
    "      gen_loss = generator_loss(fake_output)\n",
    "      disc_loss = discriminator_loss(real_output, fake_output)\n",
    "\n",
    "    # 3 - Calculate gradients using loss values and model variables\n",
    "    # \"gradient\" method computes the gradient using \n",
    "    # operations recorded in context of this tape (gen_tape and disc_tape).\n",
    "    \n",
    "    # It accepts a target (e.g., gen_loss) variable and \n",
    "    # a source variable (e.g.,generator.trainable_variables)\n",
    "    # target --> a list or nested structure of Tensors or Variables to be differentiated.\n",
    "    # source --> a list or nested structure of Tensors or Variables.\n",
    "    # target will be differentiated against elements in sources.\n",
    "\n",
    "    # \"gradient\" method returns a list or nested structure of Tensors  \n",
    "    # (or IndexedSlices, or None), one for each element in sources. \n",
    "    # Returned structure is the same as the structure of sources.\n",
    "    gradients_of_generator = gen_tape.gradient(gen_loss, \n",
    "                                               generator.trainable_variables)\n",
    "    gradients_of_discriminator = disc_tape.gradient(disc_loss, \n",
    "                                                discriminator.trainable_variables)\n",
    "    \n",
    "    # 4 - Process  Gradients and Run the Optimizer\n",
    "    # \"apply_gradients\" method processes aggregated gradients. \n",
    "    # ex: optimizer.apply_gradients(zip(grads, vars))\n",
    "    \"\"\"\n",
    "    Example use of apply_gradients:\n",
    "    grads = tape.gradient(loss, vars)\n",
    "    grads = tf.distribute.get_replica_context().all_reduce('sum', grads)\n",
    "    # Processing aggregated gradients.\n",
    "    optimizer.apply_gradients(zip(grads, vars), experimental_aggregate_gradients=False)\n",
    "    \"\"\"\n",
    "    generator_optimizer.apply_gradients(zip(gradients_of_generator, generator.trainable_variables))\n",
    "    discriminator_optimizer.apply_gradients(zip(gradients_of_discriminator, discriminator.trainable_variables))"
   ]
  },
  {
   "cell_type": "code",
   "execution_count": 94,
   "metadata": {},
   "outputs": [],
   "source": [
    "import time\n",
    "from IPython import display # A command shell for interactive computing in Python.\n",
    "\n",
    "def train(dataset, epochs):\n",
    "  # A. For each epoch, do the following:\n",
    "  for epoch in range(epochs):\n",
    "    start = time.time()\n",
    "    # 1 - For each batch of the epoch, \n",
    "    for image_batch in dataset:\n",
    "      # 1.a - run the custom \"train_step\" function\n",
    "      # we just declared above\n",
    "      train_step(image_batch)\n",
    "\n",
    "    # 2 - Produce images for the GIF as we go\n",
    "    display.clear_output(wait=True)\n",
    "    generate_and_save_images(generator,\n",
    "                             epoch + 1,\n",
    "                             seed)\n",
    "\n",
    "    # 3 - Save the model every 5 epochs as \n",
    "    # a checkpoint, which we will use later\n",
    "    if (epoch + 1) % 5 == 0:\n",
    "      checkpoint.save(file_prefix = checkpoint_prefix)\n",
    "\n",
    "    # 4 - Print out the completed epoch no. and the time spent\n",
    "    print ('Time for epoch {} is {} sec'.format(epoch + 1, time.time()-start))\n",
    "\n",
    "  # B. Generate a final image after the training is completed\n",
    "  display.clear_output(wait=True)\n",
    "  generate_and_save_images(generator,\n",
    "                           epochs,\n",
    "                           seed)\n"
   ]
  },
  {
   "cell_type": "code",
   "execution_count": 95,
   "metadata": {},
   "outputs": [],
   "source": [
    "def generate_and_save_images(model, epoch, test_input):\n",
    "  # Notice `training` is set to False.\n",
    "  # This is so all layers run in inference mode (batchnorm).\n",
    "  # 1 - Generate images\n",
    "  predictions = model(test_input, training=False)\n",
    "  # 2 - Plot the generated images\n",
    "  fig = plt.figure(figsize=(4,4))\n",
    "  for i in range(predictions.shape[0]):\n",
    "      plt.subplot(4, 4, i+1)\n",
    "      plt.imshow(predictions[i, :, :, 0] * 127.5 + 127.5, cmap='gray')\n",
    "      plt.axis('off')\n",
    "  # 3 - Save the generated images\n",
    "  plt.savefig('image_at_epoch_{:04d}.png'.format(epoch))\n",
    "  plt.show()"
   ]
  },
  {
   "cell_type": "code",
   "execution_count": 96,
   "metadata": {},
   "outputs": [
    {
     "output_type": "error",
     "ename": "ValueError",
     "evalue": "in user code:\n\n    <ipython-input-46-9d70de7f58f6>:13 train_step  *\n        generated_images = generator(noise, training=True)\n    C:\\Users\\RMOLLEDA\\AppData\\Roaming\\Python\\Python38\\site-packages\\tensorflow\\python\\keras\\engine\\base_layer.py:998 __call__  **\n        input_spec.assert_input_compatibility(self.input_spec, inputs, self.name)\n    C:\\Users\\RMOLLEDA\\AppData\\Roaming\\Python\\Python38\\site-packages\\tensorflow\\python\\keras\\engine\\input_spec.py:255 assert_input_compatibility\n        raise ValueError(\n\n    ValueError: Input 0 of layer sequential_2 is incompatible with the layer: expected axis -1 of input shape to have value 1 but received input with shape (256, 100)\n",
     "traceback": [
      "\u001b[1;31m---------------------------------------------------------------------------\u001b[0m",
      "\u001b[1;31mValueError\u001b[0m                                Traceback (most recent call last)",
      "\u001b[1;32m<ipython-input-96-d152560ca122>\u001b[0m in \u001b[0;36m<module>\u001b[1;34m\u001b[0m\n\u001b[1;32m----> 1\u001b[1;33m \u001b[0mtrain\u001b[0m\u001b[1;33m(\u001b[0m\u001b[0mtrain_dataset\u001b[0m\u001b[1;33m,\u001b[0m \u001b[0mEPOCHS\u001b[0m\u001b[1;33m)\u001b[0m\u001b[1;33m\u001b[0m\u001b[1;33m\u001b[0m\u001b[0m\n\u001b[0m",
      "\u001b[1;32m<ipython-input-94-704948122ae5>\u001b[0m in \u001b[0;36mtrain\u001b[1;34m(dataset, epochs)\u001b[0m\n\u001b[0;32m     10\u001b[0m       \u001b[1;31m# 1.a - run the custom \"train_step\" function\u001b[0m\u001b[1;33m\u001b[0m\u001b[1;33m\u001b[0m\u001b[1;33m\u001b[0m\u001b[0m\n\u001b[0;32m     11\u001b[0m       \u001b[1;31m# we just declared above\u001b[0m\u001b[1;33m\u001b[0m\u001b[1;33m\u001b[0m\u001b[1;33m\u001b[0m\u001b[0m\n\u001b[1;32m---> 12\u001b[1;33m       \u001b[0mtrain_step\u001b[0m\u001b[1;33m(\u001b[0m\u001b[0mimage_batch\u001b[0m\u001b[1;33m)\u001b[0m\u001b[1;33m\u001b[0m\u001b[1;33m\u001b[0m\u001b[0m\n\u001b[0m\u001b[0;32m     13\u001b[0m \u001b[1;33m\u001b[0m\u001b[0m\n\u001b[0;32m     14\u001b[0m     \u001b[1;31m# 2 - Produce images for the GIF as we go\u001b[0m\u001b[1;33m\u001b[0m\u001b[1;33m\u001b[0m\u001b[1;33m\u001b[0m\u001b[0m\n",
      "\u001b[1;32m~\\AppData\\Roaming\\Python\\Python38\\site-packages\\tensorflow\\python\\eager\\def_function.py\u001b[0m in \u001b[0;36m__call__\u001b[1;34m(self, *args, **kwds)\u001b[0m\n\u001b[0;32m    826\u001b[0m     \u001b[0mtracing_count\u001b[0m \u001b[1;33m=\u001b[0m \u001b[0mself\u001b[0m\u001b[1;33m.\u001b[0m\u001b[0mexperimental_get_tracing_count\u001b[0m\u001b[1;33m(\u001b[0m\u001b[1;33m)\u001b[0m\u001b[1;33m\u001b[0m\u001b[1;33m\u001b[0m\u001b[0m\n\u001b[0;32m    827\u001b[0m     \u001b[1;32mwith\u001b[0m \u001b[0mtrace\u001b[0m\u001b[1;33m.\u001b[0m\u001b[0mTrace\u001b[0m\u001b[1;33m(\u001b[0m\u001b[0mself\u001b[0m\u001b[1;33m.\u001b[0m\u001b[0m_name\u001b[0m\u001b[1;33m)\u001b[0m \u001b[1;32mas\u001b[0m \u001b[0mtm\u001b[0m\u001b[1;33m:\u001b[0m\u001b[1;33m\u001b[0m\u001b[1;33m\u001b[0m\u001b[0m\n\u001b[1;32m--> 828\u001b[1;33m       \u001b[0mresult\u001b[0m \u001b[1;33m=\u001b[0m \u001b[0mself\u001b[0m\u001b[1;33m.\u001b[0m\u001b[0m_call\u001b[0m\u001b[1;33m(\u001b[0m\u001b[1;33m*\u001b[0m\u001b[0margs\u001b[0m\u001b[1;33m,\u001b[0m \u001b[1;33m**\u001b[0m\u001b[0mkwds\u001b[0m\u001b[1;33m)\u001b[0m\u001b[1;33m\u001b[0m\u001b[1;33m\u001b[0m\u001b[0m\n\u001b[0m\u001b[0;32m    829\u001b[0m       \u001b[0mcompiler\u001b[0m \u001b[1;33m=\u001b[0m \u001b[1;34m\"xla\"\u001b[0m \u001b[1;32mif\u001b[0m \u001b[0mself\u001b[0m\u001b[1;33m.\u001b[0m\u001b[0m_experimental_compile\u001b[0m \u001b[1;32melse\u001b[0m \u001b[1;34m\"nonXla\"\u001b[0m\u001b[1;33m\u001b[0m\u001b[1;33m\u001b[0m\u001b[0m\n\u001b[0;32m    830\u001b[0m       \u001b[0mnew_tracing_count\u001b[0m \u001b[1;33m=\u001b[0m \u001b[0mself\u001b[0m\u001b[1;33m.\u001b[0m\u001b[0mexperimental_get_tracing_count\u001b[0m\u001b[1;33m(\u001b[0m\u001b[1;33m)\u001b[0m\u001b[1;33m\u001b[0m\u001b[1;33m\u001b[0m\u001b[0m\n",
      "\u001b[1;32m~\\AppData\\Roaming\\Python\\Python38\\site-packages\\tensorflow\\python\\eager\\def_function.py\u001b[0m in \u001b[0;36m_call\u001b[1;34m(self, *args, **kwds)\u001b[0m\n\u001b[0;32m    869\u001b[0m       \u001b[1;31m# This is the first call of __call__, so we have to initialize.\u001b[0m\u001b[1;33m\u001b[0m\u001b[1;33m\u001b[0m\u001b[1;33m\u001b[0m\u001b[0m\n\u001b[0;32m    870\u001b[0m       \u001b[0minitializers\u001b[0m \u001b[1;33m=\u001b[0m \u001b[1;33m[\u001b[0m\u001b[1;33m]\u001b[0m\u001b[1;33m\u001b[0m\u001b[1;33m\u001b[0m\u001b[0m\n\u001b[1;32m--> 871\u001b[1;33m       \u001b[0mself\u001b[0m\u001b[1;33m.\u001b[0m\u001b[0m_initialize\u001b[0m\u001b[1;33m(\u001b[0m\u001b[0margs\u001b[0m\u001b[1;33m,\u001b[0m \u001b[0mkwds\u001b[0m\u001b[1;33m,\u001b[0m \u001b[0madd_initializers_to\u001b[0m\u001b[1;33m=\u001b[0m\u001b[0minitializers\u001b[0m\u001b[1;33m)\u001b[0m\u001b[1;33m\u001b[0m\u001b[1;33m\u001b[0m\u001b[0m\n\u001b[0m\u001b[0;32m    872\u001b[0m     \u001b[1;32mfinally\u001b[0m\u001b[1;33m:\u001b[0m\u001b[1;33m\u001b[0m\u001b[1;33m\u001b[0m\u001b[0m\n\u001b[0;32m    873\u001b[0m       \u001b[1;31m# At this point we know that the initialization is complete (or less\u001b[0m\u001b[1;33m\u001b[0m\u001b[1;33m\u001b[0m\u001b[1;33m\u001b[0m\u001b[0m\n",
      "\u001b[1;32m~\\AppData\\Roaming\\Python\\Python38\\site-packages\\tensorflow\\python\\eager\\def_function.py\u001b[0m in \u001b[0;36m_initialize\u001b[1;34m(self, args, kwds, add_initializers_to)\u001b[0m\n\u001b[0;32m    723\u001b[0m     \u001b[0mself\u001b[0m\u001b[1;33m.\u001b[0m\u001b[0m_graph_deleter\u001b[0m \u001b[1;33m=\u001b[0m \u001b[0mFunctionDeleter\u001b[0m\u001b[1;33m(\u001b[0m\u001b[0mself\u001b[0m\u001b[1;33m.\u001b[0m\u001b[0m_lifted_initializer_graph\u001b[0m\u001b[1;33m)\u001b[0m\u001b[1;33m\u001b[0m\u001b[1;33m\u001b[0m\u001b[0m\n\u001b[0;32m    724\u001b[0m     self._concrete_stateful_fn = (\n\u001b[1;32m--> 725\u001b[1;33m         self._stateful_fn._get_concrete_function_internal_garbage_collected(  # pylint: disable=protected-access\n\u001b[0m\u001b[0;32m    726\u001b[0m             *args, **kwds))\n\u001b[0;32m    727\u001b[0m \u001b[1;33m\u001b[0m\u001b[0m\n",
      "\u001b[1;32m~\\AppData\\Roaming\\Python\\Python38\\site-packages\\tensorflow\\python\\eager\\function.py\u001b[0m in \u001b[0;36m_get_concrete_function_internal_garbage_collected\u001b[1;34m(self, *args, **kwargs)\u001b[0m\n\u001b[0;32m   2967\u001b[0m       \u001b[0margs\u001b[0m\u001b[1;33m,\u001b[0m \u001b[0mkwargs\u001b[0m \u001b[1;33m=\u001b[0m \u001b[1;32mNone\u001b[0m\u001b[1;33m,\u001b[0m \u001b[1;32mNone\u001b[0m\u001b[1;33m\u001b[0m\u001b[1;33m\u001b[0m\u001b[0m\n\u001b[0;32m   2968\u001b[0m     \u001b[1;32mwith\u001b[0m \u001b[0mself\u001b[0m\u001b[1;33m.\u001b[0m\u001b[0m_lock\u001b[0m\u001b[1;33m:\u001b[0m\u001b[1;33m\u001b[0m\u001b[1;33m\u001b[0m\u001b[0m\n\u001b[1;32m-> 2969\u001b[1;33m       \u001b[0mgraph_function\u001b[0m\u001b[1;33m,\u001b[0m \u001b[0m_\u001b[0m \u001b[1;33m=\u001b[0m \u001b[0mself\u001b[0m\u001b[1;33m.\u001b[0m\u001b[0m_maybe_define_function\u001b[0m\u001b[1;33m(\u001b[0m\u001b[0margs\u001b[0m\u001b[1;33m,\u001b[0m \u001b[0mkwargs\u001b[0m\u001b[1;33m)\u001b[0m\u001b[1;33m\u001b[0m\u001b[1;33m\u001b[0m\u001b[0m\n\u001b[0m\u001b[0;32m   2970\u001b[0m     \u001b[1;32mreturn\u001b[0m \u001b[0mgraph_function\u001b[0m\u001b[1;33m\u001b[0m\u001b[1;33m\u001b[0m\u001b[0m\n\u001b[0;32m   2971\u001b[0m \u001b[1;33m\u001b[0m\u001b[0m\n",
      "\u001b[1;32m~\\AppData\\Roaming\\Python\\Python38\\site-packages\\tensorflow\\python\\eager\\function.py\u001b[0m in \u001b[0;36m_maybe_define_function\u001b[1;34m(self, args, kwargs)\u001b[0m\n\u001b[0;32m   3359\u001b[0m \u001b[1;33m\u001b[0m\u001b[0m\n\u001b[0;32m   3360\u001b[0m           \u001b[0mself\u001b[0m\u001b[1;33m.\u001b[0m\u001b[0m_function_cache\u001b[0m\u001b[1;33m.\u001b[0m\u001b[0mmissed\u001b[0m\u001b[1;33m.\u001b[0m\u001b[0madd\u001b[0m\u001b[1;33m(\u001b[0m\u001b[0mcall_context_key\u001b[0m\u001b[1;33m)\u001b[0m\u001b[1;33m\u001b[0m\u001b[1;33m\u001b[0m\u001b[0m\n\u001b[1;32m-> 3361\u001b[1;33m           \u001b[0mgraph_function\u001b[0m \u001b[1;33m=\u001b[0m \u001b[0mself\u001b[0m\u001b[1;33m.\u001b[0m\u001b[0m_create_graph_function\u001b[0m\u001b[1;33m(\u001b[0m\u001b[0margs\u001b[0m\u001b[1;33m,\u001b[0m \u001b[0mkwargs\u001b[0m\u001b[1;33m)\u001b[0m\u001b[1;33m\u001b[0m\u001b[1;33m\u001b[0m\u001b[0m\n\u001b[0m\u001b[0;32m   3362\u001b[0m           \u001b[0mself\u001b[0m\u001b[1;33m.\u001b[0m\u001b[0m_function_cache\u001b[0m\u001b[1;33m.\u001b[0m\u001b[0mprimary\u001b[0m\u001b[1;33m[\u001b[0m\u001b[0mcache_key\u001b[0m\u001b[1;33m]\u001b[0m \u001b[1;33m=\u001b[0m \u001b[0mgraph_function\u001b[0m\u001b[1;33m\u001b[0m\u001b[1;33m\u001b[0m\u001b[0m\n\u001b[0;32m   3363\u001b[0m \u001b[1;33m\u001b[0m\u001b[0m\n",
      "\u001b[1;32m~\\AppData\\Roaming\\Python\\Python38\\site-packages\\tensorflow\\python\\eager\\function.py\u001b[0m in \u001b[0;36m_create_graph_function\u001b[1;34m(self, args, kwargs, override_flat_arg_shapes)\u001b[0m\n\u001b[0;32m   3194\u001b[0m     \u001b[0marg_names\u001b[0m \u001b[1;33m=\u001b[0m \u001b[0mbase_arg_names\u001b[0m \u001b[1;33m+\u001b[0m \u001b[0mmissing_arg_names\u001b[0m\u001b[1;33m\u001b[0m\u001b[1;33m\u001b[0m\u001b[0m\n\u001b[0;32m   3195\u001b[0m     graph_function = ConcreteFunction(\n\u001b[1;32m-> 3196\u001b[1;33m         func_graph_module.func_graph_from_py_func(\n\u001b[0m\u001b[0;32m   3197\u001b[0m             \u001b[0mself\u001b[0m\u001b[1;33m.\u001b[0m\u001b[0m_name\u001b[0m\u001b[1;33m,\u001b[0m\u001b[1;33m\u001b[0m\u001b[1;33m\u001b[0m\u001b[0m\n\u001b[0;32m   3198\u001b[0m             \u001b[0mself\u001b[0m\u001b[1;33m.\u001b[0m\u001b[0m_python_function\u001b[0m\u001b[1;33m,\u001b[0m\u001b[1;33m\u001b[0m\u001b[1;33m\u001b[0m\u001b[0m\n",
      "\u001b[1;32m~\\AppData\\Roaming\\Python\\Python38\\site-packages\\tensorflow\\python\\framework\\func_graph.py\u001b[0m in \u001b[0;36mfunc_graph_from_py_func\u001b[1;34m(name, python_func, args, kwargs, signature, func_graph, autograph, autograph_options, add_control_dependencies, arg_names, op_return_value, collections, capture_by_value, override_flat_arg_shapes)\u001b[0m\n\u001b[0;32m    988\u001b[0m         \u001b[0m_\u001b[0m\u001b[1;33m,\u001b[0m \u001b[0moriginal_func\u001b[0m \u001b[1;33m=\u001b[0m \u001b[0mtf_decorator\u001b[0m\u001b[1;33m.\u001b[0m\u001b[0munwrap\u001b[0m\u001b[1;33m(\u001b[0m\u001b[0mpython_func\u001b[0m\u001b[1;33m)\u001b[0m\u001b[1;33m\u001b[0m\u001b[1;33m\u001b[0m\u001b[0m\n\u001b[0;32m    989\u001b[0m \u001b[1;33m\u001b[0m\u001b[0m\n\u001b[1;32m--> 990\u001b[1;33m       \u001b[0mfunc_outputs\u001b[0m \u001b[1;33m=\u001b[0m \u001b[0mpython_func\u001b[0m\u001b[1;33m(\u001b[0m\u001b[1;33m*\u001b[0m\u001b[0mfunc_args\u001b[0m\u001b[1;33m,\u001b[0m \u001b[1;33m**\u001b[0m\u001b[0mfunc_kwargs\u001b[0m\u001b[1;33m)\u001b[0m\u001b[1;33m\u001b[0m\u001b[1;33m\u001b[0m\u001b[0m\n\u001b[0m\u001b[0;32m    991\u001b[0m \u001b[1;33m\u001b[0m\u001b[0m\n\u001b[0;32m    992\u001b[0m       \u001b[1;31m# invariant: `func_outputs` contains only Tensors, CompositeTensors,\u001b[0m\u001b[1;33m\u001b[0m\u001b[1;33m\u001b[0m\u001b[1;33m\u001b[0m\u001b[0m\n",
      "\u001b[1;32m~\\AppData\\Roaming\\Python\\Python38\\site-packages\\tensorflow\\python\\eager\\def_function.py\u001b[0m in \u001b[0;36mwrapped_fn\u001b[1;34m(*args, **kwds)\u001b[0m\n\u001b[0;32m    632\u001b[0m             \u001b[0mxla_context\u001b[0m\u001b[1;33m.\u001b[0m\u001b[0mExit\u001b[0m\u001b[1;33m(\u001b[0m\u001b[1;33m)\u001b[0m\u001b[1;33m\u001b[0m\u001b[1;33m\u001b[0m\u001b[0m\n\u001b[0;32m    633\u001b[0m         \u001b[1;32melse\u001b[0m\u001b[1;33m:\u001b[0m\u001b[1;33m\u001b[0m\u001b[1;33m\u001b[0m\u001b[0m\n\u001b[1;32m--> 634\u001b[1;33m           \u001b[0mout\u001b[0m \u001b[1;33m=\u001b[0m \u001b[0mweak_wrapped_fn\u001b[0m\u001b[1;33m(\u001b[0m\u001b[1;33m)\u001b[0m\u001b[1;33m.\u001b[0m\u001b[0m__wrapped__\u001b[0m\u001b[1;33m(\u001b[0m\u001b[1;33m*\u001b[0m\u001b[0margs\u001b[0m\u001b[1;33m,\u001b[0m \u001b[1;33m**\u001b[0m\u001b[0mkwds\u001b[0m\u001b[1;33m)\u001b[0m\u001b[1;33m\u001b[0m\u001b[1;33m\u001b[0m\u001b[0m\n\u001b[0m\u001b[0;32m    635\u001b[0m         \u001b[1;32mreturn\u001b[0m \u001b[0mout\u001b[0m\u001b[1;33m\u001b[0m\u001b[1;33m\u001b[0m\u001b[0m\n\u001b[0;32m    636\u001b[0m \u001b[1;33m\u001b[0m\u001b[0m\n",
      "\u001b[1;32m~\\AppData\\Roaming\\Python\\Python38\\site-packages\\tensorflow\\python\\framework\\func_graph.py\u001b[0m in \u001b[0;36mwrapper\u001b[1;34m(*args, **kwargs)\u001b[0m\n\u001b[0;32m    975\u001b[0m           \u001b[1;32mexcept\u001b[0m \u001b[0mException\u001b[0m \u001b[1;32mas\u001b[0m \u001b[0me\u001b[0m\u001b[1;33m:\u001b[0m  \u001b[1;31m# pylint:disable=broad-except\u001b[0m\u001b[1;33m\u001b[0m\u001b[1;33m\u001b[0m\u001b[0m\n\u001b[0;32m    976\u001b[0m             \u001b[1;32mif\u001b[0m \u001b[0mhasattr\u001b[0m\u001b[1;33m(\u001b[0m\u001b[0me\u001b[0m\u001b[1;33m,\u001b[0m \u001b[1;34m\"ag_error_metadata\"\u001b[0m\u001b[1;33m)\u001b[0m\u001b[1;33m:\u001b[0m\u001b[1;33m\u001b[0m\u001b[1;33m\u001b[0m\u001b[0m\n\u001b[1;32m--> 977\u001b[1;33m               \u001b[1;32mraise\u001b[0m \u001b[0me\u001b[0m\u001b[1;33m.\u001b[0m\u001b[0mag_error_metadata\u001b[0m\u001b[1;33m.\u001b[0m\u001b[0mto_exception\u001b[0m\u001b[1;33m(\u001b[0m\u001b[0me\u001b[0m\u001b[1;33m)\u001b[0m\u001b[1;33m\u001b[0m\u001b[1;33m\u001b[0m\u001b[0m\n\u001b[0m\u001b[0;32m    978\u001b[0m             \u001b[1;32melse\u001b[0m\u001b[1;33m:\u001b[0m\u001b[1;33m\u001b[0m\u001b[1;33m\u001b[0m\u001b[0m\n\u001b[0;32m    979\u001b[0m               \u001b[1;32mraise\u001b[0m\u001b[1;33m\u001b[0m\u001b[1;33m\u001b[0m\u001b[0m\n",
      "\u001b[1;31mValueError\u001b[0m: in user code:\n\n    <ipython-input-46-9d70de7f58f6>:13 train_step  *\n        generated_images = generator(noise, training=True)\n    C:\\Users\\RMOLLEDA\\AppData\\Roaming\\Python\\Python38\\site-packages\\tensorflow\\python\\keras\\engine\\base_layer.py:998 __call__  **\n        input_spec.assert_input_compatibility(self.input_spec, inputs, self.name)\n    C:\\Users\\RMOLLEDA\\AppData\\Roaming\\Python\\Python38\\site-packages\\tensorflow\\python\\keras\\engine\\input_spec.py:255 assert_input_compatibility\n        raise ValueError(\n\n    ValueError: Input 0 of layer sequential_2 is incompatible with the layer: expected axis -1 of input shape to have value 1 but received input with shape (256, 100)\n"
     ]
    }
   ],
   "source": [
    "train(train_dataset, EPOCHS)"
   ]
  },
  {
   "cell_type": "code",
   "execution_count": null,
   "metadata": {},
   "outputs": [],
   "source": []
  },
  {
   "cell_type": "code",
   "execution_count": null,
   "metadata": {},
   "outputs": [],
   "source": []
  },
  {
   "cell_type": "code",
   "execution_count": null,
   "metadata": {},
   "outputs": [],
   "source": []
  }
 ]
}