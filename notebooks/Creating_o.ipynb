{
 "metadata": {
  "language_info": {
   "codemirror_mode": {
    "name": "ipython",
    "version": 3
   },
   "file_extension": ".py",
   "mimetype": "text/x-python",
   "name": "python",
   "nbconvert_exporter": "python",
   "pygments_lexer": "ipython3",
   "version": "3.8.8-final"
  },
  "orig_nbformat": 2,
  "kernelspec": {
   "name": "python3",
   "display_name": "Python 3.8.8 64-bit",
   "metadata": {
    "interpreter": {
     "hash": "1baa965d5efe3ac65b79dfc60c0d706280b1da80fedb7760faf2759126c4f253"
    }
   }
  }
 },
 "nbformat": 4,
 "nbformat_minor": 2,
 "cells": [
  {
   "source": [
    "https://machinelearningmastery.com/how-to-develop-a-generative-adversarial-network-for-a-cifar-10-small-object-photographs-from-scratch/"
   ],
   "cell_type": "markdown",
   "metadata": {}
  },
  {
   "cell_type": "code",
   "execution_count": 192,
   "metadata": {},
   "outputs": [],
   "source": [
    "import numpy as np \n",
    "import tensorflow as tf \n",
    "import keras\n",
    "from keras.layers import Dense, Conv2DTranspose, LeakyReLU, Reshape, BatchNormalization, Activation, Conv2D\n",
    "from keras.models import Model, Sequential\n",
    "import matplotlib.pyplot as plt \n",
    "from numpy.random import randn"
   ]
  },
  {
   "cell_type": "code",
   "execution_count": 193,
   "metadata": {},
   "outputs": [],
   "source": [
    "from numpy import expand_dims\n",
    "from numpy import zeros\n",
    "from numpy import ones\n",
    "from numpy import vstack\n",
    "from numpy.random import randn\n",
    "from numpy.random import randint\n",
    "from keras.datasets.cifar10 import load_data\n",
    "from keras.optimizers import Adam\n",
    "from keras.models import Sequential\n",
    "from keras.layers import Dense\n",
    "from keras.layers import Reshape\n",
    "from keras.layers import Flatten\n",
    "from keras.layers import Conv2D\n",
    "from keras.layers import Conv2DTranspose\n",
    "from keras.layers import LeakyReLU\n",
    "from keras.layers import Dropout\n",
    "from matplotlib import pyplot"
   ]
  },
  {
   "cell_type": "code",
   "execution_count": 194,
   "metadata": {},
   "outputs": [],
   "source": [
    "DIMENSION = (32, 32, 3)\n",
    "RESHAPE = (32, 32)"
   ]
  },
  {
   "cell_type": "code",
   "execution_count": 210,
   "metadata": {},
   "outputs": [
    {
     "output_type": "stream",
     "name": "stdout",
     "text": [
      "Model: \"sequential_72\"\n_________________________________________________________________\nLayer (type)                 Output Shape              Param #   \n=================================================================\ndense_53 (Dense)             (None, 4096)              413696    \n_________________________________________________________________\nleaky_re_lu_212 (LeakyReLU)  (None, 4096)              0         \n_________________________________________________________________\nreshape_26 (Reshape)         (None, 4, 4, 256)         0         \n_________________________________________________________________\nconv2d_transpose_78 (Conv2DT (None, 8, 8, 128)         295040    \n_________________________________________________________________\nleaky_re_lu_213 (LeakyReLU)  (None, 8, 8, 128)         0         \n_________________________________________________________________\nconv2d_transpose_79 (Conv2DT (None, 16, 16, 128)       147584    \n_________________________________________________________________\nleaky_re_lu_214 (LeakyReLU)  (None, 16, 16, 128)       0         \n_________________________________________________________________\nconv2d_transpose_80 (Conv2DT (None, 32, 32, 128)       147584    \n_________________________________________________________________\nleaky_re_lu_215 (LeakyReLU)  (None, 32, 32, 128)       0         \n_________________________________________________________________\nconv2d_134 (Conv2D)          (None, 32, 32, 3)         3459      \n=================================================================\nTotal params: 1,007,363\nTrainable params: 1,007,363\nNon-trainable params: 0\n_________________________________________________________________\n"
     ]
    }
   ],
   "source": [
    "def generador():\n",
    "\n",
    "    generador = Sequential()\n",
    "\n",
    "    generador.add(Dense(256*4*4, input_shape = (100,)))\n",
    "    #generador.add(BatchNormalization())\n",
    "    generador.add(LeakyReLU())\n",
    "    generador.add(Reshape((4,4,256)))\n",
    "\n",
    "    generador.add(Conv2DTranspose(128,kernel_size=3, strides=2, padding = \"same\"))\n",
    "    #generador.add(BatchNormalization())\n",
    "    generador.add(LeakyReLU(alpha=0.2))\n",
    "\n",
    "\n",
    "    generador.add(Conv2DTranspose(128,kernel_size=3, strides=2, padding = \"same\"))\n",
    "    #generador.add(BatchNormalization())\n",
    "    generador.add(LeakyReLU(alpha=0.2))\n",
    "\n",
    "    generador.add(Conv2DTranspose(128,kernel_size=3, strides=2, padding = \"same\"))\n",
    "    #generador.add(BatchNormalization())\n",
    "    generador.add(LeakyReLU(alpha=0.2))\n",
    "\n",
    "    generador.add(Conv2D(3,kernel_size=3, padding = \"same\", activation='tanh'))\n",
    "\n",
    "    #Probando a compilar el generador\n",
    "\n",
    "    opt = Adam(lr=0.0002 ,beta_1=0.5)\n",
    "    generador.compile(loss='binary_crossentropy', optimizer= opt , metrics = ['accuracy'])\n",
    "\n",
    "    return(generador)\n",
    "\n",
    "modelo_generador = generador()\n",
    "\n",
    "modelo_generador.summary()"
   ]
  },
  {
   "cell_type": "code",
   "execution_count": 211,
   "metadata": {},
   "outputs": [
    {
     "output_type": "stream",
     "name": "stdout",
     "text": [
      "Model: \"sequential_73\"\n_________________________________________________________________\nLayer (type)                 Output Shape              Param #   \n=================================================================\nconv2d_135 (Conv2D)          (None, 32, 32, 64)        1792      \n_________________________________________________________________\nleaky_re_lu_216 (LeakyReLU)  (None, 32, 32, 64)        0         \n_________________________________________________________________\nconv2d_136 (Conv2D)          (None, 16, 16, 128)       73856     \n_________________________________________________________________\nleaky_re_lu_217 (LeakyReLU)  (None, 16, 16, 128)       0         \n_________________________________________________________________\nconv2d_137 (Conv2D)          (None, 8, 8, 128)         147584    \n_________________________________________________________________\nleaky_re_lu_218 (LeakyReLU)  (None, 8, 8, 128)         0         \n_________________________________________________________________\nconv2d_138 (Conv2D)          (None, 4, 4, 256)         295168    \n_________________________________________________________________\nleaky_re_lu_219 (LeakyReLU)  (None, 4, 4, 256)         0         \n_________________________________________________________________\nflatten_27 (Flatten)         (None, 4096)              0         \n_________________________________________________________________\ndropout_27 (Dropout)         (None, 4096)              0         \n_________________________________________________________________\ndense_54 (Dense)             (None, 1)                 4097      \n=================================================================\nTotal params: 522,497\nTrainable params: 522,497\nNon-trainable params: 0\n_________________________________________________________________\n"
     ]
    }
   ],
   "source": [
    "from keras.layers import Conv2D, Flatten, Dropout\n",
    "from keras.optimizers import Adam\n",
    "\n",
    "def discriminador():\n",
    "\n",
    "    discriminador = Sequential()\n",
    "    discriminador.add(Conv2D(64, kernel_size=3, padding = \"same\", input_shape =DIMENSION))\n",
    "    discriminador.add(LeakyReLU(alpha=0.2))\n",
    "    #discriminador.add(Dropout(0.2))\n",
    "\n",
    "    discriminador.add(Conv2D(128, kernel_size=3,strides=(2,2), padding = \"same\"))\n",
    "    discriminador.add(LeakyReLU(alpha=0.2))\n",
    "    #discriminador.add(Dropout(0.2))\n",
    "\n",
    "    discriminador.add(Conv2D(128, kernel_size=3,strides=(2,2), padding = \"same\"))\n",
    "    discriminador.add(LeakyReLU(alpha=0.2))\n",
    "    #discriminador.add(Dropout(0.2))\n",
    "\n",
    "    discriminador.add(Conv2D(256, kernel_size=3, strides=(2,2), padding = \"same\"))\n",
    "    discriminador.add(LeakyReLU(alpha=0.2))\n",
    "    #discriminador.add(Dropout(0.2))\n",
    "\n",
    "    discriminador.add(Flatten())\n",
    "    discriminador.add(Dropout(0.4))\n",
    "    discriminador.add(Dense(1, activation='softmax'))\n",
    "\n",
    "    opt = Adam(lr=0.0002 ,beta_1=0.5)\n",
    "    discriminador.compile(loss='binary_crossentropy', optimizer= opt , metrics = ['accuracy'])\n",
    "\n",
    "    return(discriminador)\n",
    "\n",
    "modelo_discriminador = discriminador()\n",
    "modelo_discriminador.summary()"
   ]
  },
  {
   "cell_type": "code",
   "execution_count": 212,
   "metadata": {},
   "outputs": [],
   "source": [
    "import cv2\n",
    "import os\n",
    "\n",
    "def cargar_imagenes():\n",
    "    images = []\n",
    "    for filename in os.listdir(\"../src/api/uploads\"):\n",
    "        img = cv2.imread(os.path.join(\"../src/api/uploads\",filename))\n",
    "        img = cv2.resize(img, dsize=RESHAPE, interpolation=cv2.INTER_NEAREST)\n",
    "        if img is not None:\n",
    "            images.append(img)      \n",
    "    return np.asarray(images)  "
   ]
  },
  {
   "cell_type": "code",
   "execution_count": 213,
   "metadata": {},
   "outputs": [
    {
     "output_type": "execute_result",
     "data": {
      "text/plain": [
       "(320, 32, 32, 3)"
      ]
     },
     "metadata": {},
     "execution_count": 213
    }
   ],
   "source": [
    "cargar_imagenes().shape"
   ]
  },
  {
   "cell_type": "code",
   "execution_count": 214,
   "metadata": {},
   "outputs": [
    {
     "output_type": "execute_result",
     "data": {
      "text/plain": [
       "<matplotlib.image.AxesImage at 0x29402a6ac40>"
      ]
     },
     "metadata": {},
     "execution_count": 214
    },
    {
     "output_type": "display_data",
     "data": {
      "text/plain": "<Figure size 432x288 with 1 Axes>",
      "image/svg+xml": "<?xml version=\"1.0\" encoding=\"utf-8\" standalone=\"no\"?>\r\n<!DOCTYPE svg PUBLIC \"-//W3C//DTD SVG 1.1//EN\"\r\n  \"http://www.w3.org/Graphics/SVG/1.1/DTD/svg11.dtd\">\r\n<!-- Created with matplotlib (https://matplotlib.org/) -->\r\n<svg height=\"248.919844pt\" version=\"1.1\" viewBox=\"0 0 251.565 248.919844\" width=\"251.565pt\" xmlns=\"http://www.w3.org/2000/svg\" xmlns:xlink=\"http://www.w3.org/1999/xlink\">\r\n <metadata>\r\n  <rdf:RDF xmlns:cc=\"http://creativecommons.org/ns#\" xmlns:dc=\"http://purl.org/dc/elements/1.1/\" xmlns:rdf=\"http://www.w3.org/1999/02/22-rdf-syntax-ns#\">\r\n   <cc:Work>\r\n    <dc:type rdf:resource=\"http://purl.org/dc/dcmitype/StillImage\"/>\r\n    <dc:date>2021-03-11T14:21:45.482681</dc:date>\r\n    <dc:format>image/svg+xml</dc:format>\r\n    <dc:creator>\r\n     <cc:Agent>\r\n      <dc:title>Matplotlib v3.3.3, https://matplotlib.org/</dc:title>\r\n     </cc:Agent>\r\n    </dc:creator>\r\n   </cc:Work>\r\n  </rdf:RDF>\r\n </metadata>\r\n <defs>\r\n  <style type=\"text/css\">*{stroke-linecap:butt;stroke-linejoin:round;}</style>\r\n </defs>\r\n <g id=\"figure_1\">\r\n  <g id=\"patch_1\">\r\n   <path d=\"M 0 248.919844 \r\nL 251.565 248.919844 \r\nL 251.565 0 \r\nL 0 0 \r\nz\r\n\" style=\"fill:none;\"/>\r\n  </g>\r\n  <g id=\"axes_1\">\r\n   <g id=\"patch_2\">\r\n    <path d=\"M 26.925 225.041719 \r\nL 244.365 225.041719 \r\nL 244.365 7.601719 \r\nL 26.925 7.601719 \r\nz\r\n\" style=\"fill:#ffffff;\"/>\r\n   </g>\r\n   <g clip-path=\"url(#pd44c4232a6)\">\r\n    <image height=\"218\" id=\"image124bdc66fd\" transform=\"scale(1 -1)translate(0 -218)\" width=\"218\" x=\"26.925\" xlink:href=\"data:image/png;base64,\r\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\" y=\"-7.041719\"/>\r\n   </g>\r\n   <g id=\"matplotlib.axis_1\">\r\n    <g id=\"xtick_1\">\r\n     <g id=\"line2d_1\">\r\n      <defs>\r\n       <path d=\"M 0 0 \r\nL 0 3.5 \r\n\" id=\"mb9f947bb04\" style=\"stroke:#000000;stroke-width:0.8;\"/>\r\n      </defs>\r\n      <g>\r\n       <use style=\"stroke:#000000;stroke-width:0.8;\" x=\"30.3225\" xlink:href=\"#mb9f947bb04\" y=\"225.041719\"/>\r\n      </g>\r\n     </g>\r\n     <g id=\"text_1\">\r\n      <!-- 0 -->\r\n      <g transform=\"translate(27.14125 239.640156)scale(0.1 -0.1)\">\r\n       <defs>\r\n        <path d=\"M 31.78125 66.40625 \r\nQ 24.171875 66.40625 20.328125 58.90625 \r\nQ 16.5 51.421875 16.5 36.375 \r\nQ 16.5 21.390625 20.328125 13.890625 \r\nQ 24.171875 6.390625 31.78125 6.390625 \r\nQ 39.453125 6.390625 43.28125 13.890625 \r\nQ 47.125 21.390625 47.125 36.375 \r\nQ 47.125 51.421875 43.28125 58.90625 \r\nQ 39.453125 66.40625 31.78125 66.40625 \r\nz\r\nM 31.78125 74.21875 \r\nQ 44.046875 74.21875 50.515625 64.515625 \r\nQ 56.984375 54.828125 56.984375 36.375 \r\nQ 56.984375 17.96875 50.515625 8.265625 \r\nQ 44.046875 -1.421875 31.78125 -1.421875 \r\nQ 19.53125 -1.421875 13.0625 8.265625 \r\nQ 6.59375 17.96875 6.59375 36.375 \r\nQ 6.59375 54.828125 13.0625 64.515625 \r\nQ 19.53125 74.21875 31.78125 74.21875 \r\nz\r\n\" id=\"DejaVuSans-48\"/>\r\n       </defs>\r\n       <use xlink:href=\"#DejaVuSans-48\"/>\r\n      </g>\r\n     </g>\r\n    </g>\r\n    <g id=\"xtick_2\">\r\n     <g id=\"line2d_2\">\r\n      <g>\r\n       <use style=\"stroke:#000000;stroke-width:0.8;\" x=\"64.2975\" xlink:href=\"#mb9f947bb04\" y=\"225.041719\"/>\r\n      </g>\r\n     </g>\r\n     <g id=\"text_2\">\r\n      <!-- 5 -->\r\n      <g transform=\"translate(61.11625 239.640156)scale(0.1 -0.1)\">\r\n       <defs>\r\n        <path d=\"M 10.796875 72.90625 \r\nL 49.515625 72.90625 \r\nL 49.515625 64.59375 \r\nL 19.828125 64.59375 \r\nL 19.828125 46.734375 \r\nQ 21.96875 47.46875 24.109375 47.828125 \r\nQ 26.265625 48.1875 28.421875 48.1875 \r\nQ 40.625 48.1875 47.75 41.5 \r\nQ 54.890625 34.8125 54.890625 23.390625 \r\nQ 54.890625 11.625 47.5625 5.09375 \r\nQ 40.234375 -1.421875 26.90625 -1.421875 \r\nQ 22.3125 -1.421875 17.546875 -0.640625 \r\nQ 12.796875 0.140625 7.71875 1.703125 \r\nL 7.71875 11.625 \r\nQ 12.109375 9.234375 16.796875 8.0625 \r\nQ 21.484375 6.890625 26.703125 6.890625 \r\nQ 35.15625 6.890625 40.078125 11.328125 \r\nQ 45.015625 15.765625 45.015625 23.390625 \r\nQ 45.015625 31 40.078125 35.4375 \r\nQ 35.15625 39.890625 26.703125 39.890625 \r\nQ 22.75 39.890625 18.8125 39.015625 \r\nQ 14.890625 38.140625 10.796875 36.28125 \r\nz\r\n\" id=\"DejaVuSans-53\"/>\r\n       </defs>\r\n       <use xlink:href=\"#DejaVuSans-53\"/>\r\n      </g>\r\n     </g>\r\n    </g>\r\n    <g id=\"xtick_3\">\r\n     <g id=\"line2d_3\">\r\n      <g>\r\n       <use style=\"stroke:#000000;stroke-width:0.8;\" x=\"98.2725\" xlink:href=\"#mb9f947bb04\" y=\"225.041719\"/>\r\n      </g>\r\n     </g>\r\n     <g id=\"text_3\">\r\n      <!-- 10 -->\r\n      <g transform=\"translate(91.91 239.640156)scale(0.1 -0.1)\">\r\n       <defs>\r\n        <path d=\"M 12.40625 8.296875 \r\nL 28.515625 8.296875 \r\nL 28.515625 63.921875 \r\nL 10.984375 60.40625 \r\nL 10.984375 69.390625 \r\nL 28.421875 72.90625 \r\nL 38.28125 72.90625 \r\nL 38.28125 8.296875 \r\nL 54.390625 8.296875 \r\nL 54.390625 0 \r\nL 12.40625 0 \r\nz\r\n\" id=\"DejaVuSans-49\"/>\r\n       </defs>\r\n       <use xlink:href=\"#DejaVuSans-49\"/>\r\n       <use x=\"63.623047\" xlink:href=\"#DejaVuSans-48\"/>\r\n      </g>\r\n     </g>\r\n    </g>\r\n    <g id=\"xtick_4\">\r\n     <g id=\"line2d_4\">\r\n      <g>\r\n       <use style=\"stroke:#000000;stroke-width:0.8;\" x=\"132.2475\" xlink:href=\"#mb9f947bb04\" y=\"225.041719\"/>\r\n      </g>\r\n     </g>\r\n     <g id=\"text_4\">\r\n      <!-- 15 -->\r\n      <g transform=\"translate(125.885 239.640156)scale(0.1 -0.1)\">\r\n       <use xlink:href=\"#DejaVuSans-49\"/>\r\n       <use x=\"63.623047\" xlink:href=\"#DejaVuSans-53\"/>\r\n      </g>\r\n     </g>\r\n    </g>\r\n    <g id=\"xtick_5\">\r\n     <g id=\"line2d_5\">\r\n      <g>\r\n       <use style=\"stroke:#000000;stroke-width:0.8;\" x=\"166.2225\" xlink:href=\"#mb9f947bb04\" y=\"225.041719\"/>\r\n      </g>\r\n     </g>\r\n     <g id=\"text_5\">\r\n      <!-- 20 -->\r\n      <g transform=\"translate(159.86 239.640156)scale(0.1 -0.1)\">\r\n       <defs>\r\n        <path d=\"M 19.1875 8.296875 \r\nL 53.609375 8.296875 \r\nL 53.609375 0 \r\nL 7.328125 0 \r\nL 7.328125 8.296875 \r\nQ 12.9375 14.109375 22.625 23.890625 \r\nQ 32.328125 33.6875 34.8125 36.53125 \r\nQ 39.546875 41.84375 41.421875 45.53125 \r\nQ 43.3125 49.21875 43.3125 52.78125 \r\nQ 43.3125 58.59375 39.234375 62.25 \r\nQ 35.15625 65.921875 28.609375 65.921875 \r\nQ 23.96875 65.921875 18.8125 64.3125 \r\nQ 13.671875 62.703125 7.8125 59.421875 \r\nL 7.8125 69.390625 \r\nQ 13.765625 71.78125 18.9375 73 \r\nQ 24.125 74.21875 28.421875 74.21875 \r\nQ 39.75 74.21875 46.484375 68.546875 \r\nQ 53.21875 62.890625 53.21875 53.421875 \r\nQ 53.21875 48.921875 51.53125 44.890625 \r\nQ 49.859375 40.875 45.40625 35.40625 \r\nQ 44.1875 33.984375 37.640625 27.21875 \r\nQ 31.109375 20.453125 19.1875 8.296875 \r\nz\r\n\" id=\"DejaVuSans-50\"/>\r\n       </defs>\r\n       <use xlink:href=\"#DejaVuSans-50\"/>\r\n       <use x=\"63.623047\" xlink:href=\"#DejaVuSans-48\"/>\r\n      </g>\r\n     </g>\r\n    </g>\r\n    <g id=\"xtick_6\">\r\n     <g id=\"line2d_6\">\r\n      <g>\r\n       <use style=\"stroke:#000000;stroke-width:0.8;\" x=\"200.1975\" xlink:href=\"#mb9f947bb04\" y=\"225.041719\"/>\r\n      </g>\r\n     </g>\r\n     <g id=\"text_6\">\r\n      <!-- 25 -->\r\n      <g transform=\"translate(193.835 239.640156)scale(0.1 -0.1)\">\r\n       <use xlink:href=\"#DejaVuSans-50\"/>\r\n       <use x=\"63.623047\" xlink:href=\"#DejaVuSans-53\"/>\r\n      </g>\r\n     </g>\r\n    </g>\r\n    <g id=\"xtick_7\">\r\n     <g id=\"line2d_7\">\r\n      <g>\r\n       <use style=\"stroke:#000000;stroke-width:0.8;\" x=\"234.1725\" xlink:href=\"#mb9f947bb04\" y=\"225.041719\"/>\r\n      </g>\r\n     </g>\r\n     <g id=\"text_7\">\r\n      <!-- 30 -->\r\n      <g transform=\"translate(227.81 239.640156)scale(0.1 -0.1)\">\r\n       <defs>\r\n        <path d=\"M 40.578125 39.3125 \r\nQ 47.65625 37.796875 51.625 33 \r\nQ 55.609375 28.21875 55.609375 21.1875 \r\nQ 55.609375 10.40625 48.1875 4.484375 \r\nQ 40.765625 -1.421875 27.09375 -1.421875 \r\nQ 22.515625 -1.421875 17.65625 -0.515625 \r\nQ 12.796875 0.390625 7.625 2.203125 \r\nL 7.625 11.71875 \r\nQ 11.71875 9.328125 16.59375 8.109375 \r\nQ 21.484375 6.890625 26.8125 6.890625 \r\nQ 36.078125 6.890625 40.9375 10.546875 \r\nQ 45.796875 14.203125 45.796875 21.1875 \r\nQ 45.796875 27.640625 41.28125 31.265625 \r\nQ 36.765625 34.90625 28.71875 34.90625 \r\nL 20.21875 34.90625 \r\nL 20.21875 43.015625 \r\nL 29.109375 43.015625 \r\nQ 36.375 43.015625 40.234375 45.921875 \r\nQ 44.09375 48.828125 44.09375 54.296875 \r\nQ 44.09375 59.90625 40.109375 62.90625 \r\nQ 36.140625 65.921875 28.71875 65.921875 \r\nQ 24.65625 65.921875 20.015625 65.03125 \r\nQ 15.375 64.15625 9.8125 62.3125 \r\nL 9.8125 71.09375 \r\nQ 15.4375 72.65625 20.34375 73.4375 \r\nQ 25.25 74.21875 29.59375 74.21875 \r\nQ 40.828125 74.21875 47.359375 69.109375 \r\nQ 53.90625 64.015625 53.90625 55.328125 \r\nQ 53.90625 49.265625 50.4375 45.09375 \r\nQ 46.96875 40.921875 40.578125 39.3125 \r\nz\r\n\" id=\"DejaVuSans-51\"/>\r\n       </defs>\r\n       <use xlink:href=\"#DejaVuSans-51\"/>\r\n       <use x=\"63.623047\" xlink:href=\"#DejaVuSans-48\"/>\r\n      </g>\r\n     </g>\r\n    </g>\r\n   </g>\r\n   <g id=\"matplotlib.axis_2\">\r\n    <g id=\"ytick_1\">\r\n     <g id=\"line2d_8\">\r\n      <defs>\r\n       <path d=\"M 0 0 \r\nL -3.5 0 \r\n\" id=\"m2a59ef12a5\" style=\"stroke:#000000;stroke-width:0.8;\"/>\r\n      </defs>\r\n      <g>\r\n       <use style=\"stroke:#000000;stroke-width:0.8;\" x=\"26.925\" xlink:href=\"#m2a59ef12a5\" y=\"10.999219\"/>\r\n      </g>\r\n     </g>\r\n     <g id=\"text_8\">\r\n      <!-- 0 -->\r\n      <g transform=\"translate(13.5625 14.798437)scale(0.1 -0.1)\">\r\n       <use xlink:href=\"#DejaVuSans-48\"/>\r\n      </g>\r\n     </g>\r\n    </g>\r\n    <g id=\"ytick_2\">\r\n     <g id=\"line2d_9\">\r\n      <g>\r\n       <use style=\"stroke:#000000;stroke-width:0.8;\" x=\"26.925\" xlink:href=\"#m2a59ef12a5\" y=\"44.974219\"/>\r\n      </g>\r\n     </g>\r\n     <g id=\"text_9\">\r\n      <!-- 5 -->\r\n      <g transform=\"translate(13.5625 48.773437)scale(0.1 -0.1)\">\r\n       <use xlink:href=\"#DejaVuSans-53\"/>\r\n      </g>\r\n     </g>\r\n    </g>\r\n    <g id=\"ytick_3\">\r\n     <g id=\"line2d_10\">\r\n      <g>\r\n       <use style=\"stroke:#000000;stroke-width:0.8;\" x=\"26.925\" xlink:href=\"#m2a59ef12a5\" y=\"78.949219\"/>\r\n      </g>\r\n     </g>\r\n     <g id=\"text_10\">\r\n      <!-- 10 -->\r\n      <g transform=\"translate(7.2 82.748437)scale(0.1 -0.1)\">\r\n       <use xlink:href=\"#DejaVuSans-49\"/>\r\n       <use x=\"63.623047\" xlink:href=\"#DejaVuSans-48\"/>\r\n      </g>\r\n     </g>\r\n    </g>\r\n    <g id=\"ytick_4\">\r\n     <g id=\"line2d_11\">\r\n      <g>\r\n       <use style=\"stroke:#000000;stroke-width:0.8;\" x=\"26.925\" xlink:href=\"#m2a59ef12a5\" y=\"112.924219\"/>\r\n      </g>\r\n     </g>\r\n     <g id=\"text_11\">\r\n      <!-- 15 -->\r\n      <g transform=\"translate(7.2 116.723437)scale(0.1 -0.1)\">\r\n       <use xlink:href=\"#DejaVuSans-49\"/>\r\n       <use x=\"63.623047\" xlink:href=\"#DejaVuSans-53\"/>\r\n      </g>\r\n     </g>\r\n    </g>\r\n    <g id=\"ytick_5\">\r\n     <g id=\"line2d_12\">\r\n      <g>\r\n       <use style=\"stroke:#000000;stroke-width:0.8;\" x=\"26.925\" xlink:href=\"#m2a59ef12a5\" y=\"146.899219\"/>\r\n      </g>\r\n     </g>\r\n     <g id=\"text_12\">\r\n      <!-- 20 -->\r\n      <g transform=\"translate(7.2 150.698437)scale(0.1 -0.1)\">\r\n       <use xlink:href=\"#DejaVuSans-50\"/>\r\n       <use x=\"63.623047\" xlink:href=\"#DejaVuSans-48\"/>\r\n      </g>\r\n     </g>\r\n    </g>\r\n    <g id=\"ytick_6\">\r\n     <g id=\"line2d_13\">\r\n      <g>\r\n       <use style=\"stroke:#000000;stroke-width:0.8;\" x=\"26.925\" xlink:href=\"#m2a59ef12a5\" y=\"180.874219\"/>\r\n      </g>\r\n     </g>\r\n     <g id=\"text_13\">\r\n      <!-- 25 -->\r\n      <g transform=\"translate(7.2 184.673437)scale(0.1 -0.1)\">\r\n       <use xlink:href=\"#DejaVuSans-50\"/>\r\n       <use x=\"63.623047\" xlink:href=\"#DejaVuSans-53\"/>\r\n      </g>\r\n     </g>\r\n    </g>\r\n    <g id=\"ytick_7\">\r\n     <g id=\"line2d_14\">\r\n      <g>\r\n       <use style=\"stroke:#000000;stroke-width:0.8;\" x=\"26.925\" xlink:href=\"#m2a59ef12a5\" y=\"214.849219\"/>\r\n      </g>\r\n     </g>\r\n     <g id=\"text_14\">\r\n      <!-- 30 -->\r\n      <g transform=\"translate(7.2 218.648437)scale(0.1 -0.1)\">\r\n       <use xlink:href=\"#DejaVuSans-51\"/>\r\n       <use x=\"63.623047\" xlink:href=\"#DejaVuSans-48\"/>\r\n      </g>\r\n     </g>\r\n    </g>\r\n   </g>\r\n   <g id=\"patch_3\">\r\n    <path d=\"M 26.925 225.041719 \r\nL 26.925 7.601719 \r\n\" style=\"fill:none;stroke:#000000;stroke-linecap:square;stroke-linejoin:miter;stroke-width:0.8;\"/>\r\n   </g>\r\n   <g id=\"patch_4\">\r\n    <path d=\"M 244.365 225.041719 \r\nL 244.365 7.601719 \r\n\" style=\"fill:none;stroke:#000000;stroke-linecap:square;stroke-linejoin:miter;stroke-width:0.8;\"/>\r\n   </g>\r\n   <g id=\"patch_5\">\r\n    <path d=\"M 26.925 225.041719 \r\nL 244.365 225.041719 \r\n\" style=\"fill:none;stroke:#000000;stroke-linecap:square;stroke-linejoin:miter;stroke-width:0.8;\"/>\r\n   </g>\r\n   <g id=\"patch_6\">\r\n    <path d=\"M 26.925 7.601719 \r\nL 244.365 7.601719 \r\n\" style=\"fill:none;stroke:#000000;stroke-linecap:square;stroke-linejoin:miter;stroke-width:0.8;\"/>\r\n   </g>\r\n  </g>\r\n </g>\r\n <defs>\r\n  <clipPath id=\"pd44c4232a6\">\r\n   <rect height=\"217.44\" width=\"217.44\" x=\"26.925\" y=\"7.601719\"/>\r\n  </clipPath>\r\n </defs>\r\n</svg>\r\n",
      "image/png": "[encoded data removed]"
     },
     "metadata": {
      "needs_background": "light"
     }
    }
   ],
   "source": [
    "plt.imshow(cargar_imagenes()[1])"
   ]
  },
  {
   "cell_type": "code",
   "execution_count": 215,
   "metadata": {},
   "outputs": [],
   "source": [
    "def define_gan(g_model, d_model):\n",
    "\t# make weights in the discriminator not trainable\n",
    "\td_model.trainable = True\n",
    "\t# connect them\n",
    "\tmodel = Sequential()\n",
    "\t# add generator\n",
    "\tmodel.add(g_model)\n",
    "\t# add the discriminator\n",
    "\tmodel.add(d_model)\n",
    "\t# compile model\n",
    "\topt = Adam(lr=0.0002, beta_1=0.5)\n",
    "\tmodel.compile(loss='binary_crossentropy', optimizer=opt)\n",
    "\treturn model"
   ]
  },
  {
   "cell_type": "code",
   "execution_count": 216,
   "metadata": {},
   "outputs": [],
   "source": [
    "def generate_real_samples(dataset, n_samples):\n",
    "\t# choose random instances\n",
    "\tix = np.random.randint(0, dataset.shape[0], n_samples)\n",
    "\t# retrieve selected images\n",
    "\tX = dataset[ix]\n",
    "    \n",
    "\t# generate 'real' class labels (1)\n",
    "\ty = np.ones((n_samples, 1))\n",
    "\treturn X, y"
   ]
  },
  {
   "cell_type": "code",
   "execution_count": 217,
   "metadata": {},
   "outputs": [],
   "source": [
    "def generate_latent_points(latent_dim, n_samples):\n",
    "\t# generate points in the latent space\n",
    "\tx_input = randn(latent_dim * n_samples)\n",
    "\t# reshape into a batch of inputs for the network\n",
    "\tx_input = x_input.reshape(n_samples, latent_dim)\n",
    "\treturn x_input"
   ]
  },
  {
   "cell_type": "code",
   "execution_count": 218,
   "metadata": {},
   "outputs": [],
   "source": [
    "def generate_fake_samples(g_model, latent_dim, n_samples):\n",
    "\t# generate points in latent space\n",
    "\tx_input = generate_latent_points(latent_dim, n_samples)\n",
    "\t# predict outputs\n",
    "\tX = g_model.predict(x_input)\n",
    "\t# create 'fake' class labels (0)\n",
    "\ty = zeros((n_samples, 1))\n",
    "\treturn X, y"
   ]
  },
  {
   "cell_type": "code",
   "execution_count": 225,
   "metadata": {},
   "outputs": [],
   "source": [
    "def save_plot(examples, epoch, n=1):\n",
    "\t# scale from [-1,1] to [0,1]\n",
    "\texamples = (examples + 1) / 2.0\n",
    "\t# plot images\n",
    "\tfor i in range(n * n):\n",
    "\t\t# define subplot\n",
    "\t\tpyplot.subplot(n, n, 1 + i)\n",
    "\t\t# turn off axis\n",
    "\t\tpyplot.axis('off')\n",
    "\t\t# plot raw pixel data\n",
    "\t\tpyplot.imshow(examples[i])\n",
    "\t# save plot to file\n",
    "\tfilename = 'generated_plot_e%03d.png' % (epoch+1)\n",
    "\tpyplot.savefig(filename)\n",
    "\tpyplot.close()"
   ]
  },
  {
   "cell_type": "code",
   "execution_count": 226,
   "metadata": {},
   "outputs": [],
   "source": [
    "def summarize_performance(epoch, g_model, d_model, dataset, latent_dim, n_samples=150):\n",
    "\t# prepare real samples\n",
    "\tX_real, y_real = generate_real_samples(dataset, n_samples)\n",
    "\t# evaluate discriminator on real examples\n",
    "\t_, acc_real = d_model.evaluate(X_real, y_real, verbose=0)\n",
    "\t# prepare fake examples\n",
    "\tx_fake, y_fake = generate_fake_samples(g_model, latent_dim, n_samples)\n",
    "\t# evaluate discriminator on fake examples\n",
    "\t_, acc_fake = d_model.evaluate(x_fake, y_fake, verbose=0)\n",
    "\t# summarize discriminator performance\n",
    "\tprint('>Accuracy real: %.0f%%, fake: %.0f%%' % (acc_real*100, acc_fake*100))\n",
    "\t# save plot\n",
    "\tsave_plot(x_fake, epoch)\n",
    "\t# save the generator model tile file\n",
    "\tfilename = 'generator_model_%03d.h5' % (epoch+1)\n",
    "\tg_model.save(filename)"
   ]
  },
  {
   "cell_type": "code",
   "execution_count": 233,
   "metadata": {},
   "outputs": [],
   "source": [
    "def train(g_model, d_model, gan_model, dataset, latent_dim, n_epochs=1000, n_batch=128):\n",
    "\tbat_per_epo = int(dataset.shape[0] / n_batch)\n",
    "\thalf_batch = int(n_batch / 2)\n",
    "\t# manually enumerate epochs\n",
    "\tfor i in range(n_epochs):\n",
    "\t\t# enumerate batches over the training set\n",
    "\t\tfor j in range(bat_per_epo):\n",
    "\t\t\t# get randomly selected 'real' samples\n",
    "\t\t\tX_real, y_real = generate_real_samples(dataset, half_batch)\n",
    "\t\t\t# update discriminator model weights\n",
    "\t\t\td_loss1, _ = d_model.train_on_batch(X_real, y_real)\n",
    "\t\t\t# generate 'fake' examples\n",
    "\t\t\tX_fake, y_fake = generate_fake_samples(g_model, latent_dim, half_batch)\n",
    "\t\t\t# update discriminator model weights\n",
    "\t\t\td_loss2, _ = d_model.train_on_batch(X_fake, y_fake)\n",
    "\t\t\t# prepare points in latent space as input for the generator\n",
    "\t\t\tX_gan = generate_latent_points(latent_dim, n_batch)\n",
    "\t\t\t# create inverted labels for the fake samples\n",
    "\t\t\ty_gan = ones((n_batch, 1))\n",
    "\t\t\t# update the generator via the discriminator's error\n",
    "\t\t\tg_loss = gan_model.train_on_batch(X_gan, y_gan)\n",
    "\t\t\t# summarize loss on this batch\n",
    "\t\t\tprint('>%d, %d/%d, d1=%.3f, d2=%.3f g=%.3f' %\n",
    "\t\t\t\t(i+1, j+1, bat_per_epo, d_loss1, d_loss2, g_loss))\n",
    "\t\t# evaluate the model performance, sometimes\n",
    "\t\tif (i+1) % 10 == 0:\n",
    "\t\t\tsummarize_performance(i, g_model, d_model, dataset, latent_dim)"
   ]
  },
  {
   "cell_type": "code",
   "execution_count": 234,
   "metadata": {
    "tags": []
   },
   "outputs": [
    {
     "output_type": "stream",
     "name": "stdout",
     "text": [
      ">1, 1/2, d1=2.177, d2=0.695 g=0.692\n",
      ">1, 2/2, d1=0.000, d2=0.697 g=0.691\n",
      ">2, 1/2, d1=0.000, d2=0.699 g=0.689\n",
      ">2, 2/2, d1=0.000, d2=0.703 g=0.686\n",
      ">3, 1/2, d1=0.000, d2=0.713 g=0.677\n",
      ">3, 2/2, d1=0.000, d2=0.738 g=0.657\n",
      ">4, 1/2, d1=0.000, d2=0.792 g=0.613\n",
      ">4, 2/2, d1=0.000, d2=0.909 g=0.530\n",
      ">5, 1/2, d1=0.000, d2=1.191 g=0.389\n",
      ">5, 2/2, d1=0.000, d2=1.804 g=0.216\n",
      ">6, 1/2, d1=0.000, d2=2.811 g=0.093\n",
      ">6, 2/2, d1=0.000, d2=3.938 g=0.042\n",
      ">7, 1/2, d1=0.000, d2=4.505 g=0.028\n",
      ">7, 2/2, d1=0.000, d2=4.655 g=0.028\n",
      ">8, 1/2, d1=0.000, d2=4.481 g=0.033\n",
      ">8, 2/2, d1=0.000, d2=4.237 g=0.038\n",
      ">9, 1/2, d1=0.000, d2=4.136 g=0.041\n",
      ">9, 2/2, d1=0.000, d2=4.019 g=0.040\n",
      ">10, 1/2, d1=0.000, d2=4.098 g=0.038\n",
      ">10, 2/2, d1=0.000, d2=4.230 g=0.038\n",
      ">Accuracy real: 100%, fake: 0%\n",
      ">11, 1/2, d1=3.363, d2=4.230 g=0.037\n",
      ">11, 2/2, d1=0.000, d2=4.288 g=0.037\n",
      ">12, 1/2, d1=0.000, d2=4.266 g=0.037\n",
      ">12, 2/2, d1=0.000, d2=4.308 g=0.037\n",
      ">13, 1/2, d1=0.000, d2=4.329 g=0.037\n",
      ">13, 2/2, d1=0.000, d2=4.350 g=0.036\n",
      ">14, 1/2, d1=0.000, d2=4.368 g=0.035\n",
      ">14, 2/2, d1=0.000, d2=4.392 g=0.037\n",
      ">15, 1/2, d1=0.000, d2=4.342 g=0.037\n",
      ">15, 2/2, d1=0.000, d2=4.428 g=0.039\n",
      ">16, 1/2, d1=0.000, d2=4.451 g=0.039\n",
      ">16, 2/2, d1=0.000, d2=4.367 g=0.043\n",
      ">17, 1/2, d1=0.000, d2=4.407 g=0.041\n",
      ">17, 2/2, d1=0.000, d2=4.333 g=0.043\n",
      ">18, 1/2, d1=0.000, d2=4.394 g=0.043\n",
      ">18, 2/2, d1=0.000, d2=4.335 g=0.044\n",
      ">19, 1/2, d1=0.000, d2=4.267 g=0.044\n",
      ">19, 2/2, d1=0.000, d2=4.294 g=0.046\n",
      ">20, 1/2, d1=0.000, d2=4.278 g=0.047\n",
      ">20, 2/2, d1=0.000, d2=4.255 g=0.047\n",
      ">Accuracy real: 100%, fake: 0%\n",
      ">21, 1/2, d1=3.439, d2=4.291 g=0.046\n",
      ">21, 2/2, d1=0.000, d2=4.247 g=0.046\n",
      ">22, 1/2, d1=0.000, d2=4.304 g=0.047\n",
      ">22, 2/2, d1=0.000, d2=4.231 g=0.049\n",
      ">23, 1/2, d1=0.000, d2=4.216 g=0.048\n",
      ">23, 2/2, d1=0.000, d2=4.268 g=0.047\n",
      ">24, 1/2, d1=0.000, d2=4.282 g=0.049\n",
      ">24, 2/2, d1=0.000, d2=4.239 g=0.047\n",
      ">25, 1/2, d1=0.000, d2=4.222 g=0.049\n",
      ">25, 2/2, d1=0.000, d2=4.171 g=0.049\n",
      ">26, 1/2, d1=0.000, d2=4.148 g=0.049\n",
      ">26, 2/2, d1=0.000, d2=4.158 g=0.050\n",
      ">27, 1/2, d1=0.000, d2=4.054 g=0.050\n",
      ">27, 2/2, d1=0.000, d2=4.167 g=0.052\n",
      ">28, 1/2, d1=0.000, d2=4.110 g=0.052\n",
      ">28, 2/2, d1=0.000, d2=4.010 g=0.053\n",
      ">29, 1/2, d1=0.000, d2=4.095 g=0.054\n",
      ">29, 2/2, d1=0.000, d2=4.021 g=0.054\n",
      ">30, 1/2, d1=0.000, d2=4.035 g=0.053\n",
      ">30, 2/2, d1=0.000, d2=4.004 g=0.054\n",
      ">Accuracy real: 100%, fake: 0%\n",
      ">31, 1/2, d1=3.228, d2=3.986 g=0.055\n",
      ">31, 2/2, d1=0.000, d2=3.958 g=0.054\n",
      ">32, 1/2, d1=0.000, d2=3.964 g=0.058\n",
      ">32, 2/2, d1=0.000, d2=3.961 g=0.057\n",
      ">33, 1/2, d1=0.000, d2=3.945 g=0.056\n",
      ">33, 2/2, d1=0.000, d2=3.946 g=0.058\n",
      ">34, 1/2, d1=0.000, d2=3.951 g=0.059\n",
      ">34, 2/2, d1=0.000, d2=3.929 g=0.058\n",
      ">35, 1/2, d1=0.000, d2=3.894 g=0.060\n",
      ">35, 2/2, d1=0.000, d2=3.934 g=0.057\n",
      ">36, 1/2, d1=0.000, d2=3.873 g=0.059\n",
      ">36, 2/2, d1=0.000, d2=3.886 g=0.061\n",
      ">37, 1/2, d1=0.000, d2=3.855 g=0.061\n",
      ">37, 2/2, d1=0.000, d2=3.896 g=0.062\n",
      ">38, 1/2, d1=0.000, d2=3.861 g=0.063\n",
      ">38, 2/2, d1=0.000, d2=3.893 g=0.063\n",
      ">39, 1/2, d1=0.000, d2=3.845 g=0.064\n",
      ">39, 2/2, d1=0.000, d2=3.853 g=0.065\n",
      ">40, 1/2, d1=0.000, d2=3.857 g=0.066\n",
      ">40, 2/2, d1=0.000, d2=3.818 g=0.065\n",
      ">Accuracy real: 100%, fake: 0%\n",
      ">41, 1/2, d1=3.059, d2=3.770 g=0.065\n",
      ">41, 2/2, d1=0.000, d2=3.787 g=0.064\n",
      ">42, 1/2, d1=0.000, d2=3.792 g=0.064\n",
      ">42, 2/2, d1=0.000, d2=3.822 g=0.066\n",
      ">43, 1/2, d1=0.000, d2=3.799 g=0.066\n",
      ">43, 2/2, d1=0.000, d2=3.785 g=0.067\n",
      ">44, 1/2, d1=0.000, d2=3.751 g=0.065\n",
      ">44, 2/2, d1=0.000, d2=3.748 g=0.069\n",
      ">45, 1/2, d1=0.000, d2=3.743 g=0.068\n",
      ">45, 2/2, d1=0.000, d2=3.714 g=0.068\n",
      ">46, 1/2, d1=0.000, d2=3.696 g=0.067\n",
      ">46, 2/2, d1=0.000, d2=3.762 g=0.067\n",
      ">47, 1/2, d1=0.000, d2=3.768 g=0.069\n",
      ">47, 2/2, d1=0.000, d2=3.769 g=0.072\n",
      ">48, 1/2, d1=0.000, d2=3.802 g=0.073\n",
      ">48, 2/2, d1=0.000, d2=3.788 g=0.070\n",
      ">49, 1/2, d1=0.000, d2=3.792 g=0.071\n",
      ">49, 2/2, d1=0.000, d2=3.832 g=0.073\n",
      ">50, 1/2, d1=0.000, d2=3.917 g=0.073\n",
      ">50, 2/2, d1=0.000, d2=3.915 g=0.074\n",
      ">Accuracy real: 100%, fake: 0%\n",
      ">51, 1/2, d1=3.245, d2=3.911 g=0.078\n",
      ">51, 2/2, d1=0.000, d2=3.851 g=0.076\n",
      ">52, 1/2, d1=0.000, d2=3.838 g=0.073\n",
      ">52, 2/2, d1=0.000, d2=3.874 g=0.077\n",
      ">53, 1/2, d1=0.000, d2=3.884 g=0.079\n",
      ">53, 2/2, d1=0.000, d2=3.898 g=0.075\n",
      ">54, 1/2, d1=0.000, d2=3.859 g=0.079\n",
      ">54, 2/2, d1=0.000, d2=3.873 g=0.082\n",
      ">55, 1/2, d1=0.000, d2=3.823 g=0.082\n",
      ">55, 2/2, d1=0.000, d2=3.827 g=0.081\n",
      ">56, 1/2, d1=0.000, d2=3.785 g=0.082\n",
      ">56, 2/2, d1=0.000, d2=3.807 g=0.083\n",
      ">57, 1/2, d1=0.000, d2=3.800 g=0.081\n",
      ">57, 2/2, d1=0.000, d2=3.734 g=0.082\n",
      ">58, 1/2, d1=0.000, d2=3.711 g=0.083\n",
      ">58, 2/2, d1=0.000, d2=3.705 g=0.083\n",
      ">59, 1/2, d1=0.000, d2=3.717 g=0.087\n",
      ">59, 2/2, d1=0.000, d2=3.712 g=0.083\n",
      ">60, 1/2, d1=0.000, d2=3.659 g=0.087\n",
      ">60, 2/2, d1=0.000, d2=3.632 g=0.085\n",
      ">Accuracy real: 100%, fake: 0%\n",
      ">61, 1/2, d1=2.988, d2=3.604 g=0.087\n",
      ">61, 2/2, d1=0.000, d2=3.582 g=0.087\n",
      ">62, 1/2, d1=0.000, d2=3.554 g=0.088\n",
      ">62, 2/2, d1=0.000, d2=3.554 g=0.087\n",
      ">63, 1/2, d1=0.000, d2=3.558 g=0.089\n",
      ">63, 2/2, d1=0.000, d2=3.555 g=0.087\n",
      ">64, 1/2, d1=0.000, d2=3.524 g=0.089\n",
      ">64, 2/2, d1=0.000, d2=3.474 g=0.089\n",
      ">65, 1/2, d1=0.000, d2=3.492 g=0.089\n",
      ">65, 2/2, d1=0.000, d2=3.540 g=0.088\n",
      ">66, 1/2, d1=0.000, d2=3.557 g=0.087\n",
      ">66, 2/2, d1=0.000, d2=3.547 g=0.088\n",
      ">67, 1/2, d1=0.000, d2=3.556 g=0.088\n",
      ">67, 2/2, d1=0.000, d2=3.531 g=0.088\n",
      ">68, 1/2, d1=0.000, d2=3.511 g=0.088\n",
      ">68, 2/2, d1=0.000, d2=3.530 g=0.091\n",
      ">69, 1/2, d1=0.000, d2=3.515 g=0.090\n",
      ">69, 2/2, d1=0.000, d2=3.499 g=0.091\n",
      ">70, 1/2, d1=0.000, d2=3.509 g=0.089\n",
      ">70, 2/2, d1=0.000, d2=3.499 g=0.094\n",
      ">Accuracy real: 100%, fake: 0%\n",
      ">71, 1/2, d1=2.891, d2=3.509 g=0.091\n",
      ">71, 2/2, d1=0.000, d2=3.530 g=0.091\n",
      ">72, 1/2, d1=0.000, d2=3.504 g=0.093\n",
      ">72, 2/2, d1=0.000, d2=3.492 g=0.092\n",
      ">73, 1/2, d1=0.000, d2=3.500 g=0.094\n",
      ">73, 2/2, d1=0.000, d2=3.501 g=0.092\n",
      ">74, 1/2, d1=0.000, d2=3.476 g=0.095\n",
      ">74, 2/2, d1=0.000, d2=3.506 g=0.093\n",
      ">75, 1/2, d1=0.000, d2=3.504 g=0.095\n",
      ">75, 2/2, d1=0.000, d2=3.466 g=0.098\n",
      ">76, 1/2, d1=0.000, d2=3.470 g=0.095\n",
      ">76, 2/2, d1=0.000, d2=3.433 g=0.102\n",
      ">77, 1/2, d1=0.000, d2=3.502 g=0.100\n",
      ">77, 2/2, d1=0.000, d2=3.506 g=0.098\n",
      ">78, 1/2, d1=0.000, d2=3.458 g=0.099\n",
      ">78, 2/2, d1=0.000, d2=3.453 g=0.096\n",
      ">79, 1/2, d1=0.000, d2=3.450 g=0.099\n",
      ">79, 2/2, d1=0.000, d2=3.445 g=0.101\n",
      ">80, 1/2, d1=0.000, d2=3.435 g=0.101\n",
      ">80, 2/2, d1=0.000, d2=3.423 g=0.097\n",
      ">Accuracy real: 100%, fake: 0%\n",
      ">81, 1/2, d1=2.802, d2=3.374 g=0.104\n",
      ">81, 2/2, d1=0.000, d2=3.408 g=0.104\n",
      ">82, 1/2, d1=0.000, d2=3.438 g=0.101\n",
      ">82, 2/2, d1=0.000, d2=3.393 g=0.101\n",
      ">83, 1/2, d1=0.000, d2=3.341 g=0.103\n",
      ">83, 2/2, d1=0.000, d2=3.402 g=0.103\n",
      ">84, 1/2, d1=0.000, d2=3.404 g=0.103\n",
      ">84, 2/2, d1=0.000, d2=3.369 g=0.106\n",
      ">85, 1/2, d1=0.000, d2=3.409 g=0.106\n",
      ">85, 2/2, d1=0.000, d2=3.400 g=0.101\n",
      ">86, 1/2, d1=0.000, d2=3.394 g=0.104\n",
      ">86, 2/2, d1=0.000, d2=3.390 g=0.109\n",
      ">87, 1/2, d1=0.000, d2=3.441 g=0.104\n",
      ">87, 2/2, d1=0.000, d2=3.392 g=0.105\n",
      ">88, 1/2, d1=0.000, d2=3.398 g=0.108\n",
      ">88, 2/2, d1=0.000, d2=3.355 g=0.104\n",
      ">89, 1/2, d1=0.000, d2=3.367 g=0.106\n",
      ">89, 2/2, d1=0.000, d2=3.341 g=0.108\n",
      ">90, 1/2, d1=0.000, d2=3.304 g=0.112\n",
      ">90, 2/2, d1=0.000, d2=3.442 g=0.105\n",
      ">Accuracy real: 100%, fake: 0%\n",
      ">91, 1/2, d1=2.807, d2=3.371 g=0.106\n",
      ">91, 2/2, d1=0.000, d2=3.331 g=0.108\n",
      ">92, 1/2, d1=0.000, d2=3.324 g=0.112\n",
      ">92, 2/2, d1=0.000, d2=3.363 g=0.113\n",
      ">93, 1/2, d1=0.000, d2=3.336 g=0.106\n",
      ">93, 2/2, d1=0.000, d2=3.285 g=0.110\n"
     ]
    },
    {
     "output_type": "error",
     "ename": "KeyboardInterrupt",
     "evalue": "",
     "traceback": [
      "\u001b[1;31m---------------------------------------------------------------------------\u001b[0m",
      "\u001b[1;31mKeyboardInterrupt\u001b[0m                         Traceback (most recent call last)",
      "\u001b[1;32m<ipython-input-234-a5e2eee519f5>\u001b[0m in \u001b[0;36m<module>\u001b[1;34m\u001b[0m\n\u001b[0;32m     10\u001b[0m \u001b[0mdataset\u001b[0m \u001b[1;33m=\u001b[0m \u001b[0mcargar_imagenes\u001b[0m\u001b[1;33m(\u001b[0m\u001b[1;33m)\u001b[0m\u001b[1;33m\u001b[0m\u001b[1;33m\u001b[0m\u001b[0m\n\u001b[0;32m     11\u001b[0m \u001b[1;31m# train model\u001b[0m\u001b[1;33m\u001b[0m\u001b[1;33m\u001b[0m\u001b[1;33m\u001b[0m\u001b[0m\n\u001b[1;32m---> 12\u001b[1;33m \u001b[0mtrain\u001b[0m\u001b[1;33m(\u001b[0m\u001b[0mg_model\u001b[0m\u001b[1;33m,\u001b[0m \u001b[0md_model\u001b[0m\u001b[1;33m,\u001b[0m \u001b[0mgan_model\u001b[0m\u001b[1;33m,\u001b[0m \u001b[0mdataset\u001b[0m\u001b[1;33m,\u001b[0m \u001b[0mlatent_dim\u001b[0m\u001b[1;33m)\u001b[0m\u001b[1;33m\u001b[0m\u001b[1;33m\u001b[0m\u001b[0m\n\u001b[0m",
      "\u001b[1;32m<ipython-input-233-eb8a8b02b54c>\u001b[0m in \u001b[0;36mtrain\u001b[1;34m(g_model, d_model, gan_model, dataset, latent_dim, n_epochs, n_batch)\u001b[0m\n\u001b[0;32m     19\u001b[0m                         \u001b[0my_gan\u001b[0m \u001b[1;33m=\u001b[0m \u001b[0mones\u001b[0m\u001b[1;33m(\u001b[0m\u001b[1;33m(\u001b[0m\u001b[0mn_batch\u001b[0m\u001b[1;33m,\u001b[0m \u001b[1;36m1\u001b[0m\u001b[1;33m)\u001b[0m\u001b[1;33m)\u001b[0m\u001b[1;33m\u001b[0m\u001b[1;33m\u001b[0m\u001b[0m\n\u001b[0;32m     20\u001b[0m                         \u001b[1;31m# update the generator via the discriminator's error\u001b[0m\u001b[1;33m\u001b[0m\u001b[1;33m\u001b[0m\u001b[1;33m\u001b[0m\u001b[0m\n\u001b[1;32m---> 21\u001b[1;33m                         \u001b[0mg_loss\u001b[0m \u001b[1;33m=\u001b[0m \u001b[0mgan_model\u001b[0m\u001b[1;33m.\u001b[0m\u001b[0mtrain_on_batch\u001b[0m\u001b[1;33m(\u001b[0m\u001b[0mX_gan\u001b[0m\u001b[1;33m,\u001b[0m \u001b[0my_gan\u001b[0m\u001b[1;33m)\u001b[0m\u001b[1;33m\u001b[0m\u001b[1;33m\u001b[0m\u001b[0m\n\u001b[0m\u001b[0;32m     22\u001b[0m                         \u001b[1;31m# summarize loss on this batch\u001b[0m\u001b[1;33m\u001b[0m\u001b[1;33m\u001b[0m\u001b[1;33m\u001b[0m\u001b[0m\n\u001b[0;32m     23\u001b[0m \t\t\tprint('>%d, %d/%d, d1=%.3f, d2=%.3f g=%.3f' %\n",
      "\u001b[1;32m~\\AppData\\Roaming\\Python\\Python38\\site-packages\\tensorflow\\python\\keras\\engine\\training.py\u001b[0m in \u001b[0;36mtrain_on_batch\u001b[1;34m(self, x, y, sample_weight, class_weight, reset_metrics, return_dict)\u001b[0m\n\u001b[0;32m   1725\u001b[0m                                                     class_weight)\n\u001b[0;32m   1726\u001b[0m       \u001b[0mself\u001b[0m\u001b[1;33m.\u001b[0m\u001b[0mtrain_function\u001b[0m \u001b[1;33m=\u001b[0m \u001b[0mself\u001b[0m\u001b[1;33m.\u001b[0m\u001b[0mmake_train_function\u001b[0m\u001b[1;33m(\u001b[0m\u001b[1;33m)\u001b[0m\u001b[1;33m\u001b[0m\u001b[1;33m\u001b[0m\u001b[0m\n\u001b[1;32m-> 1727\u001b[1;33m       \u001b[0mlogs\u001b[0m \u001b[1;33m=\u001b[0m \u001b[0mself\u001b[0m\u001b[1;33m.\u001b[0m\u001b[0mtrain_function\u001b[0m\u001b[1;33m(\u001b[0m\u001b[0miterator\u001b[0m\u001b[1;33m)\u001b[0m\u001b[1;33m\u001b[0m\u001b[1;33m\u001b[0m\u001b[0m\n\u001b[0m\u001b[0;32m   1728\u001b[0m \u001b[1;33m\u001b[0m\u001b[0m\n\u001b[0;32m   1729\u001b[0m     \u001b[1;32mif\u001b[0m \u001b[0mreset_metrics\u001b[0m\u001b[1;33m:\u001b[0m\u001b[1;33m\u001b[0m\u001b[1;33m\u001b[0m\u001b[0m\n",
      "\u001b[1;32m~\\AppData\\Roaming\\Python\\Python38\\site-packages\\tensorflow\\python\\eager\\def_function.py\u001b[0m in \u001b[0;36m__call__\u001b[1;34m(self, *args, **kwds)\u001b[0m\n\u001b[0;32m    826\u001b[0m     \u001b[0mtracing_count\u001b[0m \u001b[1;33m=\u001b[0m \u001b[0mself\u001b[0m\u001b[1;33m.\u001b[0m\u001b[0mexperimental_get_tracing_count\u001b[0m\u001b[1;33m(\u001b[0m\u001b[1;33m)\u001b[0m\u001b[1;33m\u001b[0m\u001b[1;33m\u001b[0m\u001b[0m\n\u001b[0;32m    827\u001b[0m     \u001b[1;32mwith\u001b[0m \u001b[0mtrace\u001b[0m\u001b[1;33m.\u001b[0m\u001b[0mTrace\u001b[0m\u001b[1;33m(\u001b[0m\u001b[0mself\u001b[0m\u001b[1;33m.\u001b[0m\u001b[0m_name\u001b[0m\u001b[1;33m)\u001b[0m \u001b[1;32mas\u001b[0m \u001b[0mtm\u001b[0m\u001b[1;33m:\u001b[0m\u001b[1;33m\u001b[0m\u001b[1;33m\u001b[0m\u001b[0m\n\u001b[1;32m--> 828\u001b[1;33m       \u001b[0mresult\u001b[0m \u001b[1;33m=\u001b[0m \u001b[0mself\u001b[0m\u001b[1;33m.\u001b[0m\u001b[0m_call\u001b[0m\u001b[1;33m(\u001b[0m\u001b[1;33m*\u001b[0m\u001b[0margs\u001b[0m\u001b[1;33m,\u001b[0m \u001b[1;33m**\u001b[0m\u001b[0mkwds\u001b[0m\u001b[1;33m)\u001b[0m\u001b[1;33m\u001b[0m\u001b[1;33m\u001b[0m\u001b[0m\n\u001b[0m\u001b[0;32m    829\u001b[0m       \u001b[0mcompiler\u001b[0m \u001b[1;33m=\u001b[0m \u001b[1;34m\"xla\"\u001b[0m \u001b[1;32mif\u001b[0m \u001b[0mself\u001b[0m\u001b[1;33m.\u001b[0m\u001b[0m_experimental_compile\u001b[0m \u001b[1;32melse\u001b[0m \u001b[1;34m\"nonXla\"\u001b[0m\u001b[1;33m\u001b[0m\u001b[1;33m\u001b[0m\u001b[0m\n\u001b[0;32m    830\u001b[0m       \u001b[0mnew_tracing_count\u001b[0m \u001b[1;33m=\u001b[0m \u001b[0mself\u001b[0m\u001b[1;33m.\u001b[0m\u001b[0mexperimental_get_tracing_count\u001b[0m\u001b[1;33m(\u001b[0m\u001b[1;33m)\u001b[0m\u001b[1;33m\u001b[0m\u001b[1;33m\u001b[0m\u001b[0m\n",
      "\u001b[1;32m~\\AppData\\Roaming\\Python\\Python38\\site-packages\\tensorflow\\python\\eager\\def_function.py\u001b[0m in \u001b[0;36m_call\u001b[1;34m(self, *args, **kwds)\u001b[0m\n\u001b[0;32m    853\u001b[0m       \u001b[1;31m# In this case we have created variables on the first call, so we run the\u001b[0m\u001b[1;33m\u001b[0m\u001b[1;33m\u001b[0m\u001b[1;33m\u001b[0m\u001b[0m\n\u001b[0;32m    854\u001b[0m       \u001b[1;31m# defunned version which is guaranteed to never create variables.\u001b[0m\u001b[1;33m\u001b[0m\u001b[1;33m\u001b[0m\u001b[1;33m\u001b[0m\u001b[0m\n\u001b[1;32m--> 855\u001b[1;33m       \u001b[1;32mreturn\u001b[0m \u001b[0mself\u001b[0m\u001b[1;33m.\u001b[0m\u001b[0m_stateless_fn\u001b[0m\u001b[1;33m(\u001b[0m\u001b[1;33m*\u001b[0m\u001b[0margs\u001b[0m\u001b[1;33m,\u001b[0m \u001b[1;33m**\u001b[0m\u001b[0mkwds\u001b[0m\u001b[1;33m)\u001b[0m  \u001b[1;31m# pylint: disable=not-callable\u001b[0m\u001b[1;33m\u001b[0m\u001b[1;33m\u001b[0m\u001b[0m\n\u001b[0m\u001b[0;32m    856\u001b[0m     \u001b[1;32melif\u001b[0m \u001b[0mself\u001b[0m\u001b[1;33m.\u001b[0m\u001b[0m_stateful_fn\u001b[0m \u001b[1;32mis\u001b[0m \u001b[1;32mnot\u001b[0m \u001b[1;32mNone\u001b[0m\u001b[1;33m:\u001b[0m\u001b[1;33m\u001b[0m\u001b[1;33m\u001b[0m\u001b[0m\n\u001b[0;32m    857\u001b[0m       \u001b[1;31m# Release the lock early so that multiple threads can perform the call\u001b[0m\u001b[1;33m\u001b[0m\u001b[1;33m\u001b[0m\u001b[1;33m\u001b[0m\u001b[0m\n",
      "\u001b[1;32m~\\AppData\\Roaming\\Python\\Python38\\site-packages\\tensorflow\\python\\eager\\function.py\u001b[0m in \u001b[0;36m__call__\u001b[1;34m(self, *args, **kwargs)\u001b[0m\n\u001b[0;32m   2940\u001b[0m       (graph_function,\n\u001b[0;32m   2941\u001b[0m        filtered_flat_args) = self._maybe_define_function(args, kwargs)\n\u001b[1;32m-> 2942\u001b[1;33m     return graph_function._call_flat(\n\u001b[0m\u001b[0;32m   2943\u001b[0m         filtered_flat_args, captured_inputs=graph_function.captured_inputs)  # pylint: disable=protected-access\n\u001b[0;32m   2944\u001b[0m \u001b[1;33m\u001b[0m\u001b[0m\n",
      "\u001b[1;32m~\\AppData\\Roaming\\Python\\Python38\\site-packages\\tensorflow\\python\\eager\\function.py\u001b[0m in \u001b[0;36m_call_flat\u001b[1;34m(self, args, captured_inputs, cancellation_manager)\u001b[0m\n\u001b[0;32m   1916\u001b[0m         and executing_eagerly):\n\u001b[0;32m   1917\u001b[0m       \u001b[1;31m# No tape is watching; skip to running the function.\u001b[0m\u001b[1;33m\u001b[0m\u001b[1;33m\u001b[0m\u001b[1;33m\u001b[0m\u001b[0m\n\u001b[1;32m-> 1918\u001b[1;33m       return self._build_call_outputs(self._inference_function.call(\n\u001b[0m\u001b[0;32m   1919\u001b[0m           ctx, args, cancellation_manager=cancellation_manager))\n\u001b[0;32m   1920\u001b[0m     forward_backward = self._select_forward_and_backward_functions(\n",
      "\u001b[1;32m~\\AppData\\Roaming\\Python\\Python38\\site-packages\\tensorflow\\python\\eager\\function.py\u001b[0m in \u001b[0;36mcall\u001b[1;34m(self, ctx, args, cancellation_manager)\u001b[0m\n\u001b[0;32m    553\u001b[0m       \u001b[1;32mwith\u001b[0m \u001b[0m_InterpolateFunctionError\u001b[0m\u001b[1;33m(\u001b[0m\u001b[0mself\u001b[0m\u001b[1;33m)\u001b[0m\u001b[1;33m:\u001b[0m\u001b[1;33m\u001b[0m\u001b[1;33m\u001b[0m\u001b[0m\n\u001b[0;32m    554\u001b[0m         \u001b[1;32mif\u001b[0m \u001b[0mcancellation_manager\u001b[0m \u001b[1;32mis\u001b[0m \u001b[1;32mNone\u001b[0m\u001b[1;33m:\u001b[0m\u001b[1;33m\u001b[0m\u001b[1;33m\u001b[0m\u001b[0m\n\u001b[1;32m--> 555\u001b[1;33m           outputs = execute.execute(\n\u001b[0m\u001b[0;32m    556\u001b[0m               \u001b[0mstr\u001b[0m\u001b[1;33m(\u001b[0m\u001b[0mself\u001b[0m\u001b[1;33m.\u001b[0m\u001b[0msignature\u001b[0m\u001b[1;33m.\u001b[0m\u001b[0mname\u001b[0m\u001b[1;33m)\u001b[0m\u001b[1;33m,\u001b[0m\u001b[1;33m\u001b[0m\u001b[1;33m\u001b[0m\u001b[0m\n\u001b[0;32m    557\u001b[0m               \u001b[0mnum_outputs\u001b[0m\u001b[1;33m=\u001b[0m\u001b[0mself\u001b[0m\u001b[1;33m.\u001b[0m\u001b[0m_num_outputs\u001b[0m\u001b[1;33m,\u001b[0m\u001b[1;33m\u001b[0m\u001b[1;33m\u001b[0m\u001b[0m\n",
      "\u001b[1;32m~\\AppData\\Roaming\\Python\\Python38\\site-packages\\tensorflow\\python\\eager\\execute.py\u001b[0m in \u001b[0;36mquick_execute\u001b[1;34m(op_name, num_outputs, inputs, attrs, ctx, name)\u001b[0m\n\u001b[0;32m     57\u001b[0m   \u001b[1;32mtry\u001b[0m\u001b[1;33m:\u001b[0m\u001b[1;33m\u001b[0m\u001b[1;33m\u001b[0m\u001b[0m\n\u001b[0;32m     58\u001b[0m     \u001b[0mctx\u001b[0m\u001b[1;33m.\u001b[0m\u001b[0mensure_initialized\u001b[0m\u001b[1;33m(\u001b[0m\u001b[1;33m)\u001b[0m\u001b[1;33m\u001b[0m\u001b[1;33m\u001b[0m\u001b[0m\n\u001b[1;32m---> 59\u001b[1;33m     tensors = pywrap_tfe.TFE_Py_Execute(ctx._handle, device_name, op_name,\n\u001b[0m\u001b[0;32m     60\u001b[0m                                         inputs, attrs, num_outputs)\n\u001b[0;32m     61\u001b[0m   \u001b[1;32mexcept\u001b[0m \u001b[0mcore\u001b[0m\u001b[1;33m.\u001b[0m\u001b[0m_NotOkStatusException\u001b[0m \u001b[1;32mas\u001b[0m \u001b[0me\u001b[0m\u001b[1;33m:\u001b[0m\u001b[1;33m\u001b[0m\u001b[1;33m\u001b[0m\u001b[0m\n",
      "\u001b[1;31mKeyboardInterrupt\u001b[0m: "
     ]
    }
   ],
   "source": [
    "# size of the latent space\n",
    "latent_dim = 100\n",
    "# create the discriminator\n",
    "d_model = discriminador()\n",
    "# create the generator\n",
    "g_model = generador()\n",
    "# create the gan\n",
    "gan_model = define_gan(g_model, d_model)\n",
    "# load image data\n",
    "dataset = cargar_imagenes()\n",
    "# train model\n",
    "train(g_model, d_model, gan_model, dataset, latent_dim)"
   ]
  },
  {
   "cell_type": "code",
   "execution_count": 131,
   "metadata": {},
   "outputs": [
    {
     "output_type": "execute_result",
     "data": {
      "text/plain": [
       "(20, 32, 32, 3)"
      ]
     },
     "metadata": {},
     "execution_count": 131
    }
   ],
   "source": [
    "generate_real_samples(dataset, n_samples=20)[0].shape"
   ]
  },
  {
   "cell_type": "code",
   "execution_count": 148,
   "metadata": {},
   "outputs": [
    {
     "output_type": "execute_result",
     "data": {
      "text/plain": [
       "<matplotlib.image.AxesImage at 0x2946f89d460>"
      ]
     },
     "metadata": {},
     "execution_count": 148
    },
    {
     "output_type": "display_data",
     "data": {
      "text/plain": "<Figure size 432x288 with 1 Axes>",
      "image/svg+xml": "<?xml version=\"1.0\" encoding=\"utf-8\" standalone=\"no\"?>\r\n<!DOCTYPE svg PUBLIC \"-//W3C//DTD SVG 1.1//EN\"\r\n  \"http://www.w3.org/Graphics/SVG/1.1/DTD/svg11.dtd\">\r\n<!-- Created with matplotlib (https://matplotlib.org/) -->\r\n<svg height=\"248.919844pt\" version=\"1.1\" viewBox=\"0 0 251.565 248.919844\" width=\"251.565pt\" xmlns=\"http://www.w3.org/2000/svg\" xmlns:xlink=\"http://www.w3.org/1999/xlink\">\r\n <metadata>\r\n  <rdf:RDF xmlns:cc=\"http://creativecommons.org/ns#\" xmlns:dc=\"http://purl.org/dc/elements/1.1/\" xmlns:rdf=\"http://www.w3.org/1999/02/22-rdf-syntax-ns#\">\r\n   <cc:Work>\r\n    <dc:type rdf:resource=\"http://purl.org/dc/dcmitype/StillImage\"/>\r\n    <dc:date>2021-03-11T13:53:53.295624</dc:date>\r\n    <dc:format>image/svg+xml</dc:format>\r\n    <dc:creator>\r\n     <cc:Agent>\r\n      <dc:title>Matplotlib v3.3.3, https://matplotlib.org/</dc:title>\r\n     </cc:Agent>\r\n    </dc:creator>\r\n   </cc:Work>\r\n  </rdf:RDF>\r\n </metadata>\r\n <defs>\r\n  <style type=\"text/css\">*{stroke-linecap:butt;stroke-linejoin:round;}</style>\r\n </defs>\r\n <g id=\"figure_1\">\r\n  <g id=\"patch_1\">\r\n   <path d=\"M 0 248.919844 \r\nL 251.565 248.919844 \r\nL 251.565 0 \r\nL 0 0 \r\nz\r\n\" style=\"fill:none;\"/>\r\n  </g>\r\n  <g id=\"axes_1\">\r\n   <g id=\"patch_2\">\r\n    <path d=\"M 26.925 225.041719 \r\nL 244.365 225.041719 \r\nL 244.365 7.601719 \r\nL 26.925 7.601719 \r\nz\r\n\" style=\"fill:#ffffff;\"/>\r\n   </g>\r\n   <g clip-path=\"url(#p1cf864888e)\">\r\n    <image height=\"218\" id=\"image419adb6779\" transform=\"scale(1 -1)translate(0 -218)\" width=\"218\" x=\"26.925\" xlink:href=\"data:image/png;base64,\r\niVBORw0KGgoAAAANSUhEUgAAANoAAADaCAYAAADAHVzbAAARa0lEQVR4nO2d+4+c11nHn5l557Yze5mdXe9l1rtee911nMauQ526cVQ3VeIkxIRSIEiohEYpKiSIImgrLkoQLT8UqYJfiIraIC5SKkAEqkBJoMRuHBLsXJzUruOsnfi69l5md2Z27veXf+D5HoG1ebKxvp8fz1fn3XnPzHdf6Xue9zmBHxzN+QIolqtIkuxaTR334NVEfv3Baaj5XTyv3cViOOKp47VqE86p1xpQCwTx56jg5ZAvPXEYaocO7VLH030hOMeXANRKNbzIrXYbavV6XR1fK+PrDad6oFYo6tcTEfnlO0egFgnr99bbG8VzwPcsIuKF8FqFQniNA0H8ZaMVefbFS3BOx49AzfGzIoSsFzQaIQbQaIQYQKMRYgCNRogBNBohBgSOnijAbHc5hyPynpCuHZ8rwzl7p2NQu//gFNR837FngKJ/R3S7vFSE2q985TWoHfpZvD2xbSQMtVpL/yxe+Pri/U4br0fQMa9e07+bRByv1bGzeCskk8Zx9pUs3gt59Kf16D+ZwPF+ergfas7fxzrzzOGrUBvsxdtQfKIRYgCNRogBNBohBtBohBhAoxFiAI1GiAFe0hHt1vtwZJ1d0av3B5I4sn5zDm8X3H8QShII4MhaQHV2Pl+BU/7231ag9ruP7oSa45JSqP//K8gH4ni7o9Pp4OslcSV7pYqr98ulljp+bRFH+GMp/Pvoj+F7XnJ8ZXOX9O2VPTfhin8Xzt+HA9e2wDPPz6vjqSG89nEPrxWfaIQYQKMRYgCNRogBNBohBtBohBjgxWO4EDJRx9pSV09fgkGcesUidsWfEUfB7h239kHtagHfczuAk8CAo9lIR/R5zS5eq3YXJ2ntqp4eioi0G/iaqM465Dn+lo/XsYRbhsjMWAJqyb6kOt519IZx4UoPrzeRbID174vh9QiGmToS8oFCoxFiAI1GiAE0GiEG0GiEGECjEWKA5wuOKxMJ7MN4TI+s6zlcedsWHEv/3EPHoPYvf7cPaohEEhfsXszmoBZ2bAu0OzhG7jpacfu+HhXnO7iYdylXwNfr4O8lmcR9PIpVPT53tc32u44tDUecXXf0Nbm6qP9Gds/gviAurjfC/5t/vgC1zZO96rjvahnfdET//+dPRQi5bmg0Qgyg0QgxgEYjxAAajRADaDRCDPBaIHoWEYk4Yt/euK4lIrit83Ie9wxp1bDnH/v6Cag9+cSt6vizP7wG53QcReLhIO4JEQrhyLrTwDH4Xzyqt8ce6ME9WaKRNNQqjui828BrXKrk1fFPPYyvt+02PeYWEfEca1V3vEWQLejjCceJn+8Hccdppn1gm6TcwD+enhCr9wn5QKHRCDGARiPEABqNEANoNEIMoNEIMcBL9eBIdSmHq8v7B/Tq+NA13LGl2cWV5SOzOOo+dAfWEOUmjtubHbxtEQrjqNv1poMXw3H2l5/U7/uvvwqnSKuLT04NOar3RfDn/8pfDarjVR+vVcfRJCjkeNOhiw/8lHZLX6t8Dv92UoP4bQwXr55eglpmCMf77bZ+3yFX+b6jeROfaIQYQKMRYgCNRogBNBohBtBohBhAoxFigDfkONGx6+M4fqWkR5k9vbjneiqN489qDUe7931mGmqItaKj0t7DsXR/H65Ijzii846Pq7p9EIN/6S/hFAmhRvki0nE0CcqV8JZMDXzGUBBvnyRi+HO43nTI4a9aCiU93j9yfBnO+dx9k/iCDo68gddj/268ZdAG/fzT+NgGqdTw98InGiEG0GiEGECjEWIAjUaIATQaIQbQaIQY4MUj2GsRx1G4XkCPaMcc8efx1/XmMCIifhVvJbh4+I8vquP9PbjP/0dmcMOZuIej7lgSR/ilCq7ej0f0GLzbxWtfq+PrhRxbCckgrrZvtvVthljS1YTJ0azI8TZDPII/40VwNPC5a/ieDz58CmrPffdmqI0N4wg/7ngpJAvOKajmsCfu3au/HSHCJxohJtBohBhAoxFiAI1GiAE0GiEG4EhJRMYGcaoU8PXIxnFApNy9fzPUTs7hUzjfOoMLjmsdPamKthynlTp6XTi6oEtfGC9Xx9EKPVvQC1vnzuL23SdfPQ+1+z87AbVvPPY41B75oz9Vx2/ux0llOoXvq1mDkgz04tQxGNB/O6//GJ8Wu2kar/0zRwpQGx3AX+hiDq//tnE9Bd+x9fpOJeUTjRADaDRCDKDRCDGARiPEABqNEANoNEIMcMb7LkbT+tRrKziKHx7AUXG6F3v+t3//P6B28O6t6ni2MQDnJGOOYti449RGx7ZAzMNxdrerazOTuLh5/57dUHPx9W//GdTyRT3OjsRw4W2rhaP/oOC9nB5HB+/RIf13cOkCXvvA/AWoFasDUMtswnF8yXEq6fXG+Ag+0QgxgEYjxAAajRADaDRCDKDRCDGARiPEgOuO9xG3zuKW4G+dw9F/NI6j7i88tA9qf/LEU+r4I7/3Rfy3YjiKDzvahTeaeB4oSBcRkaF+/WTJ7CquVq+38XoUS7hvxZXlEtQmN+vXbDZxzN0K43g/GsFrFXY05BhM6dsCqTTuG/PC916C2p7b90Jt+wS+t2QYa+sNn2iEGECjEWIAjUaIATQaIQbQaIQYQKMRYsC6x/siOA7ujWNty3gcalcuF6BWzr2rjkcdLal9x7+XYgO3EvdBIyARkahjWyDo6XF2Xx+Os2t1fFJlF7RjFxFJ9elbCSIiQdHvLeg4XbRSxhX65RD+PhttrHUbelcfv4Pv+Te++gjUPjaL7zlfxL+Dz945BLX1hk80Qgyg0QgxgEYjxAAajRADaDRCDKDRCDHgfYj3MdsmcMeWQhlX9r+Rxx/z1772O+q438aN4VfWcPV7Eu8yyEAUR8Xnr1bxvLD+/yzQj9906O3BH8Tr4HVstPCpqkEQn2cX8HZBfx9e+wsX34NaNzIMtVZXj+NXFy7DObOf+QTUEmB9RUS2TjgOU3BsRa03fKIRYgCNRogBNBohBtBohBhAoxFigGnq6OKnduAk7egxXGy6MzOijp+6tATnnD6/CLXJEO65cfXi81Cr+zjJ3D5znzo+smMbnJOM4uLm8bEU1HKLZaidPr+qjn9yO27V/s7JY/h6Z/GppNnCFNTCQ5Pq+NmTp+Ac71f3Q60hOFm8dMGRZG6ehdp6wycaIQbQaIQYQKMRYgCNRogBNBohBtBohBiwYeL9Rh0Xtu7bi4s/s1k9mt46iYtaK/kVqJ05fw1qF87hQuUHfuGXoLaypvfdGMjhQuq+URy5e4K3ErphvE0yMZxWx7/33Gtwzo4t+omqIiLTu3ZCrfb2PNRu3qNva+zctgvOiTlajLfbRaj953+fhdrBTzHeJ+SGgkYjxAAajRADaDRCDKDRCDGARiPEgIDvO8rODfn+4dNQ60lkoOZ5+g5FqYyr30fTeLvgHVDhLiKSK+A4vlBeg9rUmN56OtGDW1mPDjtae4N7FhGRLu5rkl3T+5p0qnitchV8z71RvJWQSuGeJ6gF+QuH8Rru24fbdw+m8T2//NJxqP3hb90LtfWGTzRCDKDRCDGARiPEABqNEANoNEIMoNEIMWDDVO+feXcZavcemICa39VvYamEY2lUTS8isvejo1DrtHAMXinitwXWwOmXEUdMHw1jrd51tDSP4kY1kZD+fzXbwm9OzGb6oRaN4Yr6N8/hNyRGhvVrhmL4BNSxFL7nZhvH+8ObeqFmCZ9ohBhAoxFiAI1GiAE0GiEG0GiEGECjEWLAhqnef+Ut3CP9z7/zQ6j9zKd/Xh0f244j34iH/79UG1hbmcdbEKs5HJFHk/oSR8O4wn16GvfXjwZxhN/18dZFtaVvGRQqTThnLYvPKRgf05v9iIiEI3gdF1b1v1eq4DMWUpE+qH3rm49D7bEvfx5qX3zwdqitN3yiEWIAjUaIATQaIQbQaIQYQKMRYsCGKSr+6HZczFtfwy2fr6zk1fGhSdzPwvcd/TiCOD0ccbQZ3zyD/2f5ohcVd308JxzC6WGlgRPVYABfswaKopNJ/DOIxPH3UnSklY0iThC9sL4eIR9fz/fwekzO4JNT+1L4u7aETzRCDKDRCDGARiPEABqNEANoNEIMoNEIMWDDxPvxMPb83ffh4s9/ffYf1fHR8UNwzsQkLsr1InhJvCDukRHxcG12va7H8QHHyZ2NFm5bHsCSiODoPxpFE/HnaDWxFgjiteoKjuoXc3pr8jePnYFzikvnoNao4u2fegVv11jCJxohBtBohBhAoxFiAI1GiAE0GiEG0GiEGLBh4v2wI1bv7Y1CrVrWo93vP/86nPO5+/dDbdMwbiHd24/j/SqI8EVE0GZCsY4r3Bs4HZdmA1ey98TxWiH8jh63i4i0mngrZK2M59VqNaidOnVJHS8XF+AccbxVMT27FWqOlxlM2SAfg5AbGxqNEANoNEIMoNEIMYBGI8QAGo0QAzZMvO+qIF91NHo5cM9d6vgrP3oZzjnyoxNQm946BbUd2/HJo14Il9SfOLekjm+dwm2/T52+ArWl+SzUJqbHoTY0pLfVDjhOEK3X8CmnuQre0rh85iTUlhfOquPTk3jt0+PTUKvnC1DLLuC1soRPNEIMoNEIMYBGI8QAGo0QA2g0Qgyg0QgxYAPF+zgezwziPvonXvkfdXz33lvhnLmfnILa2so81I4fxSX1/Skc1UcSev/3l597D85p10tQC4YSUKuv4m2B042KOl4orME5PX2DUCuvrUItMYBP6Cwt6p+xkxmDc86+/ROo7bzpFqidftfxRoAhfKIRYgCNRogBNBohBtBohBhAoxFiAI1GiAEbKN7HoKpzEZHMmH70a3oQV6QvOqLnsuMY33YHx/vVon7Er4jI3I9fU8f7B3AjneyCXvEvIrJpBMfgly8sQ21keEgXWnrsLyLSLuM3J0KdOtSyV1ag1pPQmxwND+Oji6+843rj4gDUfvMLD0LNEj7RCDGARiPEABqNEANoNEIMoNEIMeBDkTreddsWqL12Yk4dX83htEw6uA9GpYJTR8/DKeHC/HmoXZh7SR2fmsbFsJEw/lvzl/SeGyIiAR+3Cy+tXlTHwzH8tyoVnEiGHSePNqp4Xq1fTxebq3qrcBGRbdu3Q+3Avj1QC7iPRzWDTzRCDKDRCDGARiPEABqNEANoNEIMoNEIMeBDEe+7ItpMWj+h89z5a3BOs4r7cdx9z51Q+6/nX4BazXHNT3z6F9Xx/DKOsztdvAXRk8BFxR1Hr5GrC/rfmx3ZBefklnDPjUgS93KZnLkJauPjW9Tx/gF82mqqjbctbpkFxdIbCD7RCDGARiPEABqNEANoNEIMoNEIMYBGI8SAgO/7uLnGh5ivfevfoTYziePxw0dehNrls6fxNT/yMagV8vqpk/UW3rZ49cV/glpmAp88ms/iOH7Ljk+q45ffewvOaXfwWxAf3/NxqGUyuNq+0da3LjJT2+Ccb/yBvkUiIhIMbvznxcb/hITcANBohBhAoxFiAI1GiAE0GiEG0GiEGHDDxvuu2wo4tKeeeQNqJUd77HNz70Dt2vyiOr5pOA3nzL2NtxJqTdz4Jr+EW4KPTmxRx5tV3JAoMzkOtaFNGahNZLB2xx362wIHbtsK54RCIah9GOATjRADaDRCDKDRCDGARiPEABqNEANoNEIMuGHj/evFtRzzSzgG/+4/vAK1qH7Apfz9U9+BcxYWzkCtr38z1Hbf/gDUbtmlV/13Gl04RwK4f1OtXoXa5x/Alf237NSr9MORG/f//o17Z4RsIGg0Qgyg0QgxgEYjxAAajRADmDquE47cTlpNXX3y6aNwzvn3cEvzqSlc6LuWy0PtnrtuU8effvoHcM43H38IagMp3BLcWdS9QU7htIRPNEIMoNEIMYBGI8QAGo0QA2g0Qgyg0QgxgPH+B0jHsScQ6mKx6dhM8B3/OsNBvUCY/23ff7jGhBhAoxFiAI1GiAE0GiEG0GiEGECjEWLA/wJ9Tm0+Nuu+9QAAAABJRU5ErkJggg==\" y=\"-7.041719\"/>\r\n   </g>\r\n   <g id=\"matplotlib.axis_1\">\r\n    <g id=\"xtick_1\">\r\n     <g id=\"line2d_1\">\r\n      <defs>\r\n       <path d=\"M 0 0 \r\nL 0 3.5 \r\n\" id=\"mf5c67d6fe7\" style=\"stroke:#000000;stroke-width:0.8;\"/>\r\n      </defs>\r\n      <g>\r\n       <use style=\"stroke:#000000;stroke-width:0.8;\" x=\"30.3225\" xlink:href=\"#mf5c67d6fe7\" y=\"225.041719\"/>\r\n      </g>\r\n     </g>\r\n     <g id=\"text_1\">\r\n      <!-- 0 -->\r\n      <g transform=\"translate(27.14125 239.640156)scale(0.1 -0.1)\">\r\n       <defs>\r\n        <path d=\"M 31.78125 66.40625 \r\nQ 24.171875 66.40625 20.328125 58.90625 \r\nQ 16.5 51.421875 16.5 36.375 \r\nQ 16.5 21.390625 20.328125 13.890625 \r\nQ 24.171875 6.390625 31.78125 6.390625 \r\nQ 39.453125 6.390625 43.28125 13.890625 \r\nQ 47.125 21.390625 47.125 36.375 \r\nQ 47.125 51.421875 43.28125 58.90625 \r\nQ 39.453125 66.40625 31.78125 66.40625 \r\nz\r\nM 31.78125 74.21875 \r\nQ 44.046875 74.21875 50.515625 64.515625 \r\nQ 56.984375 54.828125 56.984375 36.375 \r\nQ 56.984375 17.96875 50.515625 8.265625 \r\nQ 44.046875 -1.421875 31.78125 -1.421875 \r\nQ 19.53125 -1.421875 13.0625 8.265625 \r\nQ 6.59375 17.96875 6.59375 36.375 \r\nQ 6.59375 54.828125 13.0625 64.515625 \r\nQ 19.53125 74.21875 31.78125 74.21875 \r\nz\r\n\" id=\"DejaVuSans-48\"/>\r\n       </defs>\r\n       <use xlink:href=\"#DejaVuSans-48\"/>\r\n      </g>\r\n     </g>\r\n    </g>\r\n    <g id=\"xtick_2\">\r\n     <g id=\"line2d_2\">\r\n      <g>\r\n       <use style=\"stroke:#000000;stroke-width:0.8;\" x=\"64.2975\" xlink:href=\"#mf5c67d6fe7\" y=\"225.041719\"/>\r\n      </g>\r\n     </g>\r\n     <g id=\"text_2\">\r\n      <!-- 5 -->\r\n      <g transform=\"translate(61.11625 239.640156)scale(0.1 -0.1)\">\r\n       <defs>\r\n        <path d=\"M 10.796875 72.90625 \r\nL 49.515625 72.90625 \r\nL 49.515625 64.59375 \r\nL 19.828125 64.59375 \r\nL 19.828125 46.734375 \r\nQ 21.96875 47.46875 24.109375 47.828125 \r\nQ 26.265625 48.1875 28.421875 48.1875 \r\nQ 40.625 48.1875 47.75 41.5 \r\nQ 54.890625 34.8125 54.890625 23.390625 \r\nQ 54.890625 11.625 47.5625 5.09375 \r\nQ 40.234375 -1.421875 26.90625 -1.421875 \r\nQ 22.3125 -1.421875 17.546875 -0.640625 \r\nQ 12.796875 0.140625 7.71875 1.703125 \r\nL 7.71875 11.625 \r\nQ 12.109375 9.234375 16.796875 8.0625 \r\nQ 21.484375 6.890625 26.703125 6.890625 \r\nQ 35.15625 6.890625 40.078125 11.328125 \r\nQ 45.015625 15.765625 45.015625 23.390625 \r\nQ 45.015625 31 40.078125 35.4375 \r\nQ 35.15625 39.890625 26.703125 39.890625 \r\nQ 22.75 39.890625 18.8125 39.015625 \r\nQ 14.890625 38.140625 10.796875 36.28125 \r\nz\r\n\" id=\"DejaVuSans-53\"/>\r\n       </defs>\r\n       <use xlink:href=\"#DejaVuSans-53\"/>\r\n      </g>\r\n     </g>\r\n    </g>\r\n    <g id=\"xtick_3\">\r\n     <g id=\"line2d_3\">\r\n      <g>\r\n       <use style=\"stroke:#000000;stroke-width:0.8;\" x=\"98.2725\" xlink:href=\"#mf5c67d6fe7\" y=\"225.041719\"/>\r\n      </g>\r\n     </g>\r\n     <g id=\"text_3\">\r\n      <!-- 10 -->\r\n      <g transform=\"translate(91.91 239.640156)scale(0.1 -0.1)\">\r\n       <defs>\r\n        <path d=\"M 12.40625 8.296875 \r\nL 28.515625 8.296875 \r\nL 28.515625 63.921875 \r\nL 10.984375 60.40625 \r\nL 10.984375 69.390625 \r\nL 28.421875 72.90625 \r\nL 38.28125 72.90625 \r\nL 38.28125 8.296875 \r\nL 54.390625 8.296875 \r\nL 54.390625 0 \r\nL 12.40625 0 \r\nz\r\n\" id=\"DejaVuSans-49\"/>\r\n       </defs>\r\n       <use xlink:href=\"#DejaVuSans-49\"/>\r\n       <use x=\"63.623047\" xlink:href=\"#DejaVuSans-48\"/>\r\n      </g>\r\n     </g>\r\n    </g>\r\n    <g id=\"xtick_4\">\r\n     <g id=\"line2d_4\">\r\n      <g>\r\n       <use style=\"stroke:#000000;stroke-width:0.8;\" x=\"132.2475\" xlink:href=\"#mf5c67d6fe7\" y=\"225.041719\"/>\r\n      </g>\r\n     </g>\r\n     <g id=\"text_4\">\r\n      <!-- 15 -->\r\n      <g transform=\"translate(125.885 239.640156)scale(0.1 -0.1)\">\r\n       <use xlink:href=\"#DejaVuSans-49\"/>\r\n       <use x=\"63.623047\" xlink:href=\"#DejaVuSans-53\"/>\r\n      </g>\r\n     </g>\r\n    </g>\r\n    <g id=\"xtick_5\">\r\n     <g id=\"line2d_5\">\r\n      <g>\r\n       <use style=\"stroke:#000000;stroke-width:0.8;\" x=\"166.2225\" xlink:href=\"#mf5c67d6fe7\" y=\"225.041719\"/>\r\n      </g>\r\n     </g>\r\n     <g id=\"text_5\">\r\n      <!-- 20 -->\r\n      <g transform=\"translate(159.86 239.640156)scale(0.1 -0.1)\">\r\n       <defs>\r\n        <path d=\"M 19.1875 8.296875 \r\nL 53.609375 8.296875 \r\nL 53.609375 0 \r\nL 7.328125 0 \r\nL 7.328125 8.296875 \r\nQ 12.9375 14.109375 22.625 23.890625 \r\nQ 32.328125 33.6875 34.8125 36.53125 \r\nQ 39.546875 41.84375 41.421875 45.53125 \r\nQ 43.3125 49.21875 43.3125 52.78125 \r\nQ 43.3125 58.59375 39.234375 62.25 \r\nQ 35.15625 65.921875 28.609375 65.921875 \r\nQ 23.96875 65.921875 18.8125 64.3125 \r\nQ 13.671875 62.703125 7.8125 59.421875 \r\nL 7.8125 69.390625 \r\nQ 13.765625 71.78125 18.9375 73 \r\nQ 24.125 74.21875 28.421875 74.21875 \r\nQ 39.75 74.21875 46.484375 68.546875 \r\nQ 53.21875 62.890625 53.21875 53.421875 \r\nQ 53.21875 48.921875 51.53125 44.890625 \r\nQ 49.859375 40.875 45.40625 35.40625 \r\nQ 44.1875 33.984375 37.640625 27.21875 \r\nQ 31.109375 20.453125 19.1875 8.296875 \r\nz\r\n\" id=\"DejaVuSans-50\"/>\r\n       </defs>\r\n       <use xlink:href=\"#DejaVuSans-50\"/>\r\n       <use x=\"63.623047\" xlink:href=\"#DejaVuSans-48\"/>\r\n      </g>\r\n     </g>\r\n    </g>\r\n    <g id=\"xtick_6\">\r\n     <g id=\"line2d_6\">\r\n      <g>\r\n       <use style=\"stroke:#000000;stroke-width:0.8;\" x=\"200.1975\" xlink:href=\"#mf5c67d6fe7\" y=\"225.041719\"/>\r\n      </g>\r\n     </g>\r\n     <g id=\"text_6\">\r\n      <!-- 25 -->\r\n      <g transform=\"translate(193.835 239.640156)scale(0.1 -0.1)\">\r\n       <use xlink:href=\"#DejaVuSans-50\"/>\r\n       <use x=\"63.623047\" xlink:href=\"#DejaVuSans-53\"/>\r\n      </g>\r\n     </g>\r\n    </g>\r\n    <g id=\"xtick_7\">\r\n     <g id=\"line2d_7\">\r\n      <g>\r\n       <use style=\"stroke:#000000;stroke-width:0.8;\" x=\"234.1725\" xlink:href=\"#mf5c67d6fe7\" y=\"225.041719\"/>\r\n      </g>\r\n     </g>\r\n     <g id=\"text_7\">\r\n      <!-- 30 -->\r\n      <g transform=\"translate(227.81 239.640156)scale(0.1 -0.1)\">\r\n       <defs>\r\n        <path d=\"M 40.578125 39.3125 \r\nQ 47.65625 37.796875 51.625 33 \r\nQ 55.609375 28.21875 55.609375 21.1875 \r\nQ 55.609375 10.40625 48.1875 4.484375 \r\nQ 40.765625 -1.421875 27.09375 -1.421875 \r\nQ 22.515625 -1.421875 17.65625 -0.515625 \r\nQ 12.796875 0.390625 7.625 2.203125 \r\nL 7.625 11.71875 \r\nQ 11.71875 9.328125 16.59375 8.109375 \r\nQ 21.484375 6.890625 26.8125 6.890625 \r\nQ 36.078125 6.890625 40.9375 10.546875 \r\nQ 45.796875 14.203125 45.796875 21.1875 \r\nQ 45.796875 27.640625 41.28125 31.265625 \r\nQ 36.765625 34.90625 28.71875 34.90625 \r\nL 20.21875 34.90625 \r\nL 20.21875 43.015625 \r\nL 29.109375 43.015625 \r\nQ 36.375 43.015625 40.234375 45.921875 \r\nQ 44.09375 48.828125 44.09375 54.296875 \r\nQ 44.09375 59.90625 40.109375 62.90625 \r\nQ 36.140625 65.921875 28.71875 65.921875 \r\nQ 24.65625 65.921875 20.015625 65.03125 \r\nQ 15.375 64.15625 9.8125 62.3125 \r\nL 9.8125 71.09375 \r\nQ 15.4375 72.65625 20.34375 73.4375 \r\nQ 25.25 74.21875 29.59375 74.21875 \r\nQ 40.828125 74.21875 47.359375 69.109375 \r\nQ 53.90625 64.015625 53.90625 55.328125 \r\nQ 53.90625 49.265625 50.4375 45.09375 \r\nQ 46.96875 40.921875 40.578125 39.3125 \r\nz\r\n\" id=\"DejaVuSans-51\"/>\r\n       </defs>\r\n       <use xlink:href=\"#DejaVuSans-51\"/>\r\n       <use x=\"63.623047\" xlink:href=\"#DejaVuSans-48\"/>\r\n      </g>\r\n     </g>\r\n    </g>\r\n   </g>\r\n   <g id=\"matplotlib.axis_2\">\r\n    <g id=\"ytick_1\">\r\n     <g id=\"line2d_8\">\r\n      <defs>\r\n       <path d=\"M 0 0 \r\nL -3.5 0 \r\n\" id=\"m1c9f500775\" style=\"stroke:#000000;stroke-width:0.8;\"/>\r\n      </defs>\r\n      <g>\r\n       <use style=\"stroke:#000000;stroke-width:0.8;\" x=\"26.925\" xlink:href=\"#m1c9f500775\" y=\"10.999219\"/>\r\n      </g>\r\n     </g>\r\n     <g id=\"text_8\">\r\n      <!-- 0 -->\r\n      <g transform=\"translate(13.5625 14.798437)scale(0.1 -0.1)\">\r\n       <use xlink:href=\"#DejaVuSans-48\"/>\r\n      </g>\r\n     </g>\r\n    </g>\r\n    <g id=\"ytick_2\">\r\n     <g id=\"line2d_9\">\r\n      <g>\r\n       <use style=\"stroke:#000000;stroke-width:0.8;\" x=\"26.925\" xlink:href=\"#m1c9f500775\" y=\"44.974219\"/>\r\n      </g>\r\n     </g>\r\n     <g id=\"text_9\">\r\n      <!-- 5 -->\r\n      <g transform=\"translate(13.5625 48.773437)scale(0.1 -0.1)\">\r\n       <use xlink:href=\"#DejaVuSans-53\"/>\r\n      </g>\r\n     </g>\r\n    </g>\r\n    <g id=\"ytick_3\">\r\n     <g id=\"line2d_10\">\r\n      <g>\r\n       <use style=\"stroke:#000000;stroke-width:0.8;\" x=\"26.925\" xlink:href=\"#m1c9f500775\" y=\"78.949219\"/>\r\n      </g>\r\n     </g>\r\n     <g id=\"text_10\">\r\n      <!-- 10 -->\r\n      <g transform=\"translate(7.2 82.748437)scale(0.1 -0.1)\">\r\n       <use xlink:href=\"#DejaVuSans-49\"/>\r\n       <use x=\"63.623047\" xlink:href=\"#DejaVuSans-48\"/>\r\n      </g>\r\n     </g>\r\n    </g>\r\n    <g id=\"ytick_4\">\r\n     <g id=\"line2d_11\">\r\n      <g>\r\n       <use style=\"stroke:#000000;stroke-width:0.8;\" x=\"26.925\" xlink:href=\"#m1c9f500775\" y=\"112.924219\"/>\r\n      </g>\r\n     </g>\r\n     <g id=\"text_11\">\r\n      <!-- 15 -->\r\n      <g transform=\"translate(7.2 116.723437)scale(0.1 -0.1)\">\r\n       <use xlink:href=\"#DejaVuSans-49\"/>\r\n       <use x=\"63.623047\" xlink:href=\"#DejaVuSans-53\"/>\r\n      </g>\r\n     </g>\r\n    </g>\r\n    <g id=\"ytick_5\">\r\n     <g id=\"line2d_12\">\r\n      <g>\r\n       <use style=\"stroke:#000000;stroke-width:0.8;\" x=\"26.925\" xlink:href=\"#m1c9f500775\" y=\"146.899219\"/>\r\n      </g>\r\n     </g>\r\n     <g id=\"text_12\">\r\n      <!-- 20 -->\r\n      <g transform=\"translate(7.2 150.698437)scale(0.1 -0.1)\">\r\n       <use xlink:href=\"#DejaVuSans-50\"/>\r\n       <use x=\"63.623047\" xlink:href=\"#DejaVuSans-48\"/>\r\n      </g>\r\n     </g>\r\n    </g>\r\n    <g id=\"ytick_6\">\r\n     <g id=\"line2d_13\">\r\n      <g>\r\n       <use style=\"stroke:#000000;stroke-width:0.8;\" x=\"26.925\" xlink:href=\"#m1c9f500775\" y=\"180.874219\"/>\r\n      </g>\r\n     </g>\r\n     <g id=\"text_13\">\r\n      <!-- 25 -->\r\n      <g transform=\"translate(7.2 184.673437)scale(0.1 -0.1)\">\r\n       <use xlink:href=\"#DejaVuSans-50\"/>\r\n       <use x=\"63.623047\" xlink:href=\"#DejaVuSans-53\"/>\r\n      </g>\r\n     </g>\r\n    </g>\r\n    <g id=\"ytick_7\">\r\n     <g id=\"line2d_14\">\r\n      <g>\r\n       <use style=\"stroke:#000000;stroke-width:0.8;\" x=\"26.925\" xlink:href=\"#m1c9f500775\" y=\"214.849219\"/>\r\n      </g>\r\n     </g>\r\n     <g id=\"text_14\">\r\n      <!-- 30 -->\r\n      <g transform=\"translate(7.2 218.648437)scale(0.1 -0.1)\">\r\n       <use xlink:href=\"#DejaVuSans-51\"/>\r\n       <use x=\"63.623047\" xlink:href=\"#DejaVuSans-48\"/>\r\n      </g>\r\n     </g>\r\n    </g>\r\n   </g>\r\n   <g id=\"patch_3\">\r\n    <path d=\"M 26.925 225.041719 \r\nL 26.925 7.601719 \r\n\" style=\"fill:none;stroke:#000000;stroke-linecap:square;stroke-linejoin:miter;stroke-width:0.8;\"/>\r\n   </g>\r\n   <g id=\"patch_4\">\r\n    <path d=\"M 244.365 225.041719 \r\nL 244.365 7.601719 \r\n\" style=\"fill:none;stroke:#000000;stroke-linecap:square;stroke-linejoin:miter;stroke-width:0.8;\"/>\r\n   </g>\r\n   <g id=\"patch_5\">\r\n    <path d=\"M 26.925 225.041719 \r\nL 244.365 225.041719 \r\n\" style=\"fill:none;stroke:#000000;stroke-linecap:square;stroke-linejoin:miter;stroke-width:0.8;\"/>\r\n   </g>\r\n   <g id=\"patch_6\">\r\n    <path d=\"M 26.925 7.601719 \r\nL 244.365 7.601719 \r\n\" style=\"fill:none;stroke:#000000;stroke-linecap:square;stroke-linejoin:miter;stroke-width:0.8;\"/>\r\n   </g>\r\n  </g>\r\n </g>\r\n <defs>\r\n  <clipPath id=\"p1cf864888e\">\r\n   <rect height=\"217.44\" width=\"217.44\" x=\"26.925\" y=\"7.601719\"/>\r\n  </clipPath>\r\n </defs>\r\n</svg>\r\n",
      "image/png": "[encoded data removed]"
     },
     "metadata": {
      "needs_background": "light"
     }
    }
   ],
   "source": [
    "plt.imshow(generate_real_samples(dataset, n_samples=2)[0][0])"
   ]
  },
  {
   "cell_type": "code",
   "execution_count": 149,
   "metadata": {},
   "outputs": [
    {
     "output_type": "execute_result",
     "data": {
      "text/plain": [
       "(2, 32, 32, 3)"
      ]
     },
     "metadata": {},
     "execution_count": 149
    }
   ],
   "source": [
    "generate_fake_samples(g_model, latent_dim, 2)[0].shape"
   ]
  },
  {
   "cell_type": "code",
   "execution_count": 153,
   "metadata": {},
   "outputs": [
    {
     "output_type": "stream",
     "name": "stderr",
     "text": [
      "Clipping input data to the valid range for imshow with RGB data ([0..1] for floats or [0..255] for integers).\n"
     ]
    },
    {
     "output_type": "execute_result",
     "data": {
      "text/plain": [
       "<matplotlib.image.AxesImage at 0x2946fa3af10>"
      ]
     },
     "metadata": {},
     "execution_count": 153
    },
    {
     "output_type": "display_data",
     "data": {
      "text/plain": "<Figure size 432x288 with 1 Axes>",
      "image/svg+xml": "<?xml version=\"1.0\" encoding=\"utf-8\" standalone=\"no\"?>\r\n<!DOCTYPE svg PUBLIC \"-//W3C//DTD SVG 1.1//EN\"\r\n  \"http://www.w3.org/Graphics/SVG/1.1/DTD/svg11.dtd\">\r\n<!-- Created with matplotlib (https://matplotlib.org/) -->\r\n<svg height=\"248.919844pt\" version=\"1.1\" viewBox=\"0 0 251.565 248.919844\" width=\"251.565pt\" xmlns=\"http://www.w3.org/2000/svg\" xmlns:xlink=\"http://www.w3.org/1999/xlink\">\r\n <metadata>\r\n  <rdf:RDF xmlns:cc=\"http://creativecommons.org/ns#\" xmlns:dc=\"http://purl.org/dc/elements/1.1/\" xmlns:rdf=\"http://www.w3.org/1999/02/22-rdf-syntax-ns#\">\r\n   <cc:Work>\r\n    <dc:type rdf:resource=\"http://purl.org/dc/dcmitype/StillImage\"/>\r\n    <dc:date>2021-03-11T13:54:59.643573</dc:date>\r\n    <dc:format>image/svg+xml</dc:format>\r\n    <dc:creator>\r\n     <cc:Agent>\r\n      <dc:title>Matplotlib v3.3.3, https://matplotlib.org/</dc:title>\r\n     </cc:Agent>\r\n    </dc:creator>\r\n   </cc:Work>\r\n  </rdf:RDF>\r\n </metadata>\r\n <defs>\r\n  <style type=\"text/css\">*{stroke-linecap:butt;stroke-linejoin:round;}</style>\r\n </defs>\r\n <g id=\"figure_1\">\r\n  <g id=\"patch_1\">\r\n   <path d=\"M 0 248.919844 \r\nL 251.565 248.919844 \r\nL 251.565 0 \r\nL 0 0 \r\nz\r\n\" style=\"fill:none;\"/>\r\n  </g>\r\n  <g id=\"axes_1\">\r\n   <g id=\"patch_2\">\r\n    <path d=\"M 26.925 225.041719 \r\nL 244.365 225.041719 \r\nL 244.365 7.601719 \r\nL 26.925 7.601719 \r\nz\r\n\" style=\"fill:#ffffff;\"/>\r\n   </g>\r\n   <g clip-path=\"url(#p02dd9ab8f5)\">\r\n    <image height=\"218\" id=\"image2f5040e019\" transform=\"scale(1 -1)translate(0 -218)\" width=\"218\" x=\"26.925\" xlink:href=\"data:image/png;base64,\r\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\" y=\"-7.041719\"/>\r\n   </g>\r\n   <g id=\"matplotlib.axis_1\">\r\n    <g id=\"xtick_1\">\r\n     <g id=\"line2d_1\">\r\n      <defs>\r\n       <path d=\"M 0 0 \r\nL 0 3.5 \r\n\" id=\"md5177b7046\" style=\"stroke:#000000;stroke-width:0.8;\"/>\r\n      </defs>\r\n      <g>\r\n       <use style=\"stroke:#000000;stroke-width:0.8;\" x=\"30.3225\" xlink:href=\"#md5177b7046\" y=\"225.041719\"/>\r\n      </g>\r\n     </g>\r\n     <g id=\"text_1\">\r\n      <!-- 0 -->\r\n      <g transform=\"translate(27.14125 239.640156)scale(0.1 -0.1)\">\r\n       <defs>\r\n        <path d=\"M 31.78125 66.40625 \r\nQ 24.171875 66.40625 20.328125 58.90625 \r\nQ 16.5 51.421875 16.5 36.375 \r\nQ 16.5 21.390625 20.328125 13.890625 \r\nQ 24.171875 6.390625 31.78125 6.390625 \r\nQ 39.453125 6.390625 43.28125 13.890625 \r\nQ 47.125 21.390625 47.125 36.375 \r\nQ 47.125 51.421875 43.28125 58.90625 \r\nQ 39.453125 66.40625 31.78125 66.40625 \r\nz\r\nM 31.78125 74.21875 \r\nQ 44.046875 74.21875 50.515625 64.515625 \r\nQ 56.984375 54.828125 56.984375 36.375 \r\nQ 56.984375 17.96875 50.515625 8.265625 \r\nQ 44.046875 -1.421875 31.78125 -1.421875 \r\nQ 19.53125 -1.421875 13.0625 8.265625 \r\nQ 6.59375 17.96875 6.59375 36.375 \r\nQ 6.59375 54.828125 13.0625 64.515625 \r\nQ 19.53125 74.21875 31.78125 74.21875 \r\nz\r\n\" id=\"DejaVuSans-48\"/>\r\n       </defs>\r\n       <use xlink:href=\"#DejaVuSans-48\"/>\r\n      </g>\r\n     </g>\r\n    </g>\r\n    <g id=\"xtick_2\">\r\n     <g id=\"line2d_2\">\r\n      <g>\r\n       <use style=\"stroke:#000000;stroke-width:0.8;\" x=\"64.2975\" xlink:href=\"#md5177b7046\" y=\"225.041719\"/>\r\n      </g>\r\n     </g>\r\n     <g id=\"text_2\">\r\n      <!-- 5 -->\r\n      <g transform=\"translate(61.11625 239.640156)scale(0.1 -0.1)\">\r\n       <defs>\r\n        <path d=\"M 10.796875 72.90625 \r\nL 49.515625 72.90625 \r\nL 49.515625 64.59375 \r\nL 19.828125 64.59375 \r\nL 19.828125 46.734375 \r\nQ 21.96875 47.46875 24.109375 47.828125 \r\nQ 26.265625 48.1875 28.421875 48.1875 \r\nQ 40.625 48.1875 47.75 41.5 \r\nQ 54.890625 34.8125 54.890625 23.390625 \r\nQ 54.890625 11.625 47.5625 5.09375 \r\nQ 40.234375 -1.421875 26.90625 -1.421875 \r\nQ 22.3125 -1.421875 17.546875 -0.640625 \r\nQ 12.796875 0.140625 7.71875 1.703125 \r\nL 7.71875 11.625 \r\nQ 12.109375 9.234375 16.796875 8.0625 \r\nQ 21.484375 6.890625 26.703125 6.890625 \r\nQ 35.15625 6.890625 40.078125 11.328125 \r\nQ 45.015625 15.765625 45.015625 23.390625 \r\nQ 45.015625 31 40.078125 35.4375 \r\nQ 35.15625 39.890625 26.703125 39.890625 \r\nQ 22.75 39.890625 18.8125 39.015625 \r\nQ 14.890625 38.140625 10.796875 36.28125 \r\nz\r\n\" id=\"DejaVuSans-53\"/>\r\n       </defs>\r\n       <use xlink:href=\"#DejaVuSans-53\"/>\r\n      </g>\r\n     </g>\r\n    </g>\r\n    <g id=\"xtick_3\">\r\n     <g id=\"line2d_3\">\r\n      <g>\r\n       <use style=\"stroke:#000000;stroke-width:0.8;\" x=\"98.2725\" xlink:href=\"#md5177b7046\" y=\"225.041719\"/>\r\n      </g>\r\n     </g>\r\n     <g id=\"text_3\">\r\n      <!-- 10 -->\r\n      <g transform=\"translate(91.91 239.640156)scale(0.1 -0.1)\">\r\n       <defs>\r\n        <path d=\"M 12.40625 8.296875 \r\nL 28.515625 8.296875 \r\nL 28.515625 63.921875 \r\nL 10.984375 60.40625 \r\nL 10.984375 69.390625 \r\nL 28.421875 72.90625 \r\nL 38.28125 72.90625 \r\nL 38.28125 8.296875 \r\nL 54.390625 8.296875 \r\nL 54.390625 0 \r\nL 12.40625 0 \r\nz\r\n\" id=\"DejaVuSans-49\"/>\r\n       </defs>\r\n       <use xlink:href=\"#DejaVuSans-49\"/>\r\n       <use x=\"63.623047\" xlink:href=\"#DejaVuSans-48\"/>\r\n      </g>\r\n     </g>\r\n    </g>\r\n    <g id=\"xtick_4\">\r\n     <g id=\"line2d_4\">\r\n      <g>\r\n       <use style=\"stroke:#000000;stroke-width:0.8;\" x=\"132.2475\" xlink:href=\"#md5177b7046\" y=\"225.041719\"/>\r\n      </g>\r\n     </g>\r\n     <g id=\"text_4\">\r\n      <!-- 15 -->\r\n      <g transform=\"translate(125.885 239.640156)scale(0.1 -0.1)\">\r\n       <use xlink:href=\"#DejaVuSans-49\"/>\r\n       <use x=\"63.623047\" xlink:href=\"#DejaVuSans-53\"/>\r\n      </g>\r\n     </g>\r\n    </g>\r\n    <g id=\"xtick_5\">\r\n     <g id=\"line2d_5\">\r\n      <g>\r\n       <use style=\"stroke:#000000;stroke-width:0.8;\" x=\"166.2225\" xlink:href=\"#md5177b7046\" y=\"225.041719\"/>\r\n      </g>\r\n     </g>\r\n     <g id=\"text_5\">\r\n      <!-- 20 -->\r\n      <g transform=\"translate(159.86 239.640156)scale(0.1 -0.1)\">\r\n       <defs>\r\n        <path d=\"M 19.1875 8.296875 \r\nL 53.609375 8.296875 \r\nL 53.609375 0 \r\nL 7.328125 0 \r\nL 7.328125 8.296875 \r\nQ 12.9375 14.109375 22.625 23.890625 \r\nQ 32.328125 33.6875 34.8125 36.53125 \r\nQ 39.546875 41.84375 41.421875 45.53125 \r\nQ 43.3125 49.21875 43.3125 52.78125 \r\nQ 43.3125 58.59375 39.234375 62.25 \r\nQ 35.15625 65.921875 28.609375 65.921875 \r\nQ 23.96875 65.921875 18.8125 64.3125 \r\nQ 13.671875 62.703125 7.8125 59.421875 \r\nL 7.8125 69.390625 \r\nQ 13.765625 71.78125 18.9375 73 \r\nQ 24.125 74.21875 28.421875 74.21875 \r\nQ 39.75 74.21875 46.484375 68.546875 \r\nQ 53.21875 62.890625 53.21875 53.421875 \r\nQ 53.21875 48.921875 51.53125 44.890625 \r\nQ 49.859375 40.875 45.40625 35.40625 \r\nQ 44.1875 33.984375 37.640625 27.21875 \r\nQ 31.109375 20.453125 19.1875 8.296875 \r\nz\r\n\" id=\"DejaVuSans-50\"/>\r\n       </defs>\r\n       <use xlink:href=\"#DejaVuSans-50\"/>\r\n       <use x=\"63.623047\" xlink:href=\"#DejaVuSans-48\"/>\r\n      </g>\r\n     </g>\r\n    </g>\r\n    <g id=\"xtick_6\">\r\n     <g id=\"line2d_6\">\r\n      <g>\r\n       <use style=\"stroke:#000000;stroke-width:0.8;\" x=\"200.1975\" xlink:href=\"#md5177b7046\" y=\"225.041719\"/>\r\n      </g>\r\n     </g>\r\n     <g id=\"text_6\">\r\n      <!-- 25 -->\r\n      <g transform=\"translate(193.835 239.640156)scale(0.1 -0.1)\">\r\n       <use xlink:href=\"#DejaVuSans-50\"/>\r\n       <use x=\"63.623047\" xlink:href=\"#DejaVuSans-53\"/>\r\n      </g>\r\n     </g>\r\n    </g>\r\n    <g id=\"xtick_7\">\r\n     <g id=\"line2d_7\">\r\n      <g>\r\n       <use style=\"stroke:#000000;stroke-width:0.8;\" x=\"234.1725\" xlink:href=\"#md5177b7046\" y=\"225.041719\"/>\r\n      </g>\r\n     </g>\r\n     <g id=\"text_7\">\r\n      <!-- 30 -->\r\n      <g transform=\"translate(227.81 239.640156)scale(0.1 -0.1)\">\r\n       <defs>\r\n        <path d=\"M 40.578125 39.3125 \r\nQ 47.65625 37.796875 51.625 33 \r\nQ 55.609375 28.21875 55.609375 21.1875 \r\nQ 55.609375 10.40625 48.1875 4.484375 \r\nQ 40.765625 -1.421875 27.09375 -1.421875 \r\nQ 22.515625 -1.421875 17.65625 -0.515625 \r\nQ 12.796875 0.390625 7.625 2.203125 \r\nL 7.625 11.71875 \r\nQ 11.71875 9.328125 16.59375 8.109375 \r\nQ 21.484375 6.890625 26.8125 6.890625 \r\nQ 36.078125 6.890625 40.9375 10.546875 \r\nQ 45.796875 14.203125 45.796875 21.1875 \r\nQ 45.796875 27.640625 41.28125 31.265625 \r\nQ 36.765625 34.90625 28.71875 34.90625 \r\nL 20.21875 34.90625 \r\nL 20.21875 43.015625 \r\nL 29.109375 43.015625 \r\nQ 36.375 43.015625 40.234375 45.921875 \r\nQ 44.09375 48.828125 44.09375 54.296875 \r\nQ 44.09375 59.90625 40.109375 62.90625 \r\nQ 36.140625 65.921875 28.71875 65.921875 \r\nQ 24.65625 65.921875 20.015625 65.03125 \r\nQ 15.375 64.15625 9.8125 62.3125 \r\nL 9.8125 71.09375 \r\nQ 15.4375 72.65625 20.34375 73.4375 \r\nQ 25.25 74.21875 29.59375 74.21875 \r\nQ 40.828125 74.21875 47.359375 69.109375 \r\nQ 53.90625 64.015625 53.90625 55.328125 \r\nQ 53.90625 49.265625 50.4375 45.09375 \r\nQ 46.96875 40.921875 40.578125 39.3125 \r\nz\r\n\" id=\"DejaVuSans-51\"/>\r\n       </defs>\r\n       <use xlink:href=\"#DejaVuSans-51\"/>\r\n       <use x=\"63.623047\" xlink:href=\"#DejaVuSans-48\"/>\r\n      </g>\r\n     </g>\r\n    </g>\r\n   </g>\r\n   <g id=\"matplotlib.axis_2\">\r\n    <g id=\"ytick_1\">\r\n     <g id=\"line2d_8\">\r\n      <defs>\r\n       <path d=\"M 0 0 \r\nL -3.5 0 \r\n\" id=\"m87d924d85b\" style=\"stroke:#000000;stroke-width:0.8;\"/>\r\n      </defs>\r\n      <g>\r\n       <use style=\"stroke:#000000;stroke-width:0.8;\" x=\"26.925\" xlink:href=\"#m87d924d85b\" y=\"10.999219\"/>\r\n      </g>\r\n     </g>\r\n     <g id=\"text_8\">\r\n      <!-- 0 -->\r\n      <g transform=\"translate(13.5625 14.798437)scale(0.1 -0.1)\">\r\n       <use xlink:href=\"#DejaVuSans-48\"/>\r\n      </g>\r\n     </g>\r\n    </g>\r\n    <g id=\"ytick_2\">\r\n     <g id=\"line2d_9\">\r\n      <g>\r\n       <use style=\"stroke:#000000;stroke-width:0.8;\" x=\"26.925\" xlink:href=\"#m87d924d85b\" y=\"44.974219\"/>\r\n      </g>\r\n     </g>\r\n     <g id=\"text_9\">\r\n      <!-- 5 -->\r\n      <g transform=\"translate(13.5625 48.773437)scale(0.1 -0.1)\">\r\n       <use xlink:href=\"#DejaVuSans-53\"/>\r\n      </g>\r\n     </g>\r\n    </g>\r\n    <g id=\"ytick_3\">\r\n     <g id=\"line2d_10\">\r\n      <g>\r\n       <use style=\"stroke:#000000;stroke-width:0.8;\" x=\"26.925\" xlink:href=\"#m87d924d85b\" y=\"78.949219\"/>\r\n      </g>\r\n     </g>\r\n     <g id=\"text_10\">\r\n      <!-- 10 -->\r\n      <g transform=\"translate(7.2 82.748437)scale(0.1 -0.1)\">\r\n       <use xlink:href=\"#DejaVuSans-49\"/>\r\n       <use x=\"63.623047\" xlink:href=\"#DejaVuSans-48\"/>\r\n      </g>\r\n     </g>\r\n    </g>\r\n    <g id=\"ytick_4\">\r\n     <g id=\"line2d_11\">\r\n      <g>\r\n       <use style=\"stroke:#000000;stroke-width:0.8;\" x=\"26.925\" xlink:href=\"#m87d924d85b\" y=\"112.924219\"/>\r\n      </g>\r\n     </g>\r\n     <g id=\"text_11\">\r\n      <!-- 15 -->\r\n      <g transform=\"translate(7.2 116.723437)scale(0.1 -0.1)\">\r\n       <use xlink:href=\"#DejaVuSans-49\"/>\r\n       <use x=\"63.623047\" xlink:href=\"#DejaVuSans-53\"/>\r\n      </g>\r\n     </g>\r\n    </g>\r\n    <g id=\"ytick_5\">\r\n     <g id=\"line2d_12\">\r\n      <g>\r\n       <use style=\"stroke:#000000;stroke-width:0.8;\" x=\"26.925\" xlink:href=\"#m87d924d85b\" y=\"146.899219\"/>\r\n      </g>\r\n     </g>\r\n     <g id=\"text_12\">\r\n      <!-- 20 -->\r\n      <g transform=\"translate(7.2 150.698437)scale(0.1 -0.1)\">\r\n       <use xlink:href=\"#DejaVuSans-50\"/>\r\n       <use x=\"63.623047\" xlink:href=\"#DejaVuSans-48\"/>\r\n      </g>\r\n     </g>\r\n    </g>\r\n    <g id=\"ytick_6\">\r\n     <g id=\"line2d_13\">\r\n      <g>\r\n       <use style=\"stroke:#000000;stroke-width:0.8;\" x=\"26.925\" xlink:href=\"#m87d924d85b\" y=\"180.874219\"/>\r\n      </g>\r\n     </g>\r\n     <g id=\"text_13\">\r\n      <!-- 25 -->\r\n      <g transform=\"translate(7.2 184.673437)scale(0.1 -0.1)\">\r\n       <use xlink:href=\"#DejaVuSans-50\"/>\r\n       <use x=\"63.623047\" xlink:href=\"#DejaVuSans-53\"/>\r\n      </g>\r\n     </g>\r\n    </g>\r\n    <g id=\"ytick_7\">\r\n     <g id=\"line2d_14\">\r\n      <g>\r\n       <use style=\"stroke:#000000;stroke-width:0.8;\" x=\"26.925\" xlink:href=\"#m87d924d85b\" y=\"214.849219\"/>\r\n      </g>\r\n     </g>\r\n     <g id=\"text_14\">\r\n      <!-- 30 -->\r\n      <g transform=\"translate(7.2 218.648437)scale(0.1 -0.1)\">\r\n       <use xlink:href=\"#DejaVuSans-51\"/>\r\n       <use x=\"63.623047\" xlink:href=\"#DejaVuSans-48\"/>\r\n      </g>\r\n     </g>\r\n    </g>\r\n   </g>\r\n   <g id=\"patch_3\">\r\n    <path d=\"M 26.925 225.041719 \r\nL 26.925 7.601719 \r\n\" style=\"fill:none;stroke:#000000;stroke-linecap:square;stroke-linejoin:miter;stroke-width:0.8;\"/>\r\n   </g>\r\n   <g id=\"patch_4\">\r\n    <path d=\"M 244.365 225.041719 \r\nL 244.365 7.601719 \r\n\" style=\"fill:none;stroke:#000000;stroke-linecap:square;stroke-linejoin:miter;stroke-width:0.8;\"/>\r\n   </g>\r\n   <g id=\"patch_5\">\r\n    <path d=\"M 26.925 225.041719 \r\nL 244.365 225.041719 \r\n\" style=\"fill:none;stroke:#000000;stroke-linecap:square;stroke-linejoin:miter;stroke-width:0.8;\"/>\r\n   </g>\r\n   <g id=\"patch_6\">\r\n    <path d=\"M 26.925 7.601719 \r\nL 244.365 7.601719 \r\n\" style=\"fill:none;stroke:#000000;stroke-linecap:square;stroke-linejoin:miter;stroke-width:0.8;\"/>\r\n   </g>\r\n  </g>\r\n </g>\r\n <defs>\r\n  <clipPath id=\"p02dd9ab8f5\">\r\n   <rect height=\"217.44\" width=\"217.44\" x=\"26.925\" y=\"7.601719\"/>\r\n  </clipPath>\r\n </defs>\r\n</svg>\r\n",
      "image/png": "[encoded data removed]"
     },
     "metadata": {
      "needs_background": "light"
     }
    }
   ],
   "source": [
    "plt.imshow(generate_fake_samples(g_model, latent_dim, 2)[0][0])"
   ]
  },
  {
   "cell_type": "code",
   "execution_count": null,
   "metadata": {},
   "outputs": [],
   "source": []
  }
 ]
}