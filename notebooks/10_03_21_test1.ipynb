{
 "metadata": {
  "language_info": {
   "codemirror_mode": {
    "name": "ipython",
    "version": 3
   },
   "file_extension": ".py",
   "mimetype": "text/x-python",
   "name": "python",
   "nbconvert_exporter": "python",
   "pygments_lexer": "ipython3",
   "version": "3.8.8-final"
  },
  "orig_nbformat": 2,
  "kernelspec": {
   "name": "python3",
   "display_name": "Python 3.8.8 64-bit",
   "metadata": {
    "interpreter": {
     "hash": "1baa965d5efe3ac65b79dfc60c0d706280b1da80fedb7760faf2759126c4f253"
    }
   }
  }
 },
 "nbformat": 4,
 "nbformat_minor": 2,
 "cells": [
  {
   "cell_type": "code",
   "execution_count": 1,
   "metadata": {},
   "outputs": [
    {
     "output_type": "stream",
     "name": "stdout",
     "text": [
      "Model: \"sequential\"\n_________________________________________________________________\nLayer (type)                 Output Shape              Param #   \n=================================================================\ndense (Dense)                (None, 4096)              413696    \n_________________________________________________________________\nleaky_re_lu (LeakyReLU)      (None, 4096)              0         \n_________________________________________________________________\nreshape (Reshape)            (None, 4, 4, 256)         0         \n_________________________________________________________________\nconv2d_transpose (Conv2DTran (None, 8, 8, 128)         295040    \n_________________________________________________________________\nleaky_re_lu_1 (LeakyReLU)    (None, 8, 8, 128)         0         \n_________________________________________________________________\nconv2d_transpose_1 (Conv2DTr (None, 16, 16, 128)       147584    \n_________________________________________________________________\nleaky_re_lu_2 (LeakyReLU)    (None, 16, 16, 128)       0         \n_________________________________________________________________\nconv2d_transpose_2 (Conv2DTr (None, 32, 32, 128)       147584    \n_________________________________________________________________\nleaky_re_lu_3 (LeakyReLU)    (None, 32, 32, 128)       0         \n_________________________________________________________________\nconv2d (Conv2D)              (None, 32, 32, 3)         3459      \n=================================================================\nTotal params: 1,007,363\nTrainable params: 1,007,363\nNon-trainable params: 0\n_________________________________________________________________\n"
     ]
    }
   ],
   "source": [
    "import keras\n",
    "from keras.layers import Dense, Conv2DTranspose, LeakyReLU, Reshape, BatchNormalization, Activation, Conv2D\n",
    "from keras.models import Model, Sequential\n",
    "\n",
    "\n",
    "def generador_de_imagenes():\n",
    "\n",
    "    generador = Sequential()\n",
    "\n",
    "    generador.add(Dense(256*4*4, input_shape = (100,)))\n",
    "    #generador.add(BatchNormalization())\n",
    "    generador.add(LeakyReLU())\n",
    "    generador.add(Reshape((4,4,256)))\n",
    "\n",
    "    generador.add(Conv2DTranspose(128,kernel_size=3, strides=2, padding = \"same\"))\n",
    "    #generador.add(BatchNormalization())\n",
    "    generador.add(LeakyReLU(alpha=0.2))\n",
    "\n",
    "\n",
    "    generador.add(Conv2DTranspose(128,kernel_size=3, strides=2, padding = \"same\"))\n",
    "    #generador.add(BatchNormalization())\n",
    "    generador.add(LeakyReLU(alpha=0.2))\n",
    "\n",
    "    generador.add(Conv2DTranspose(128,kernel_size=3, strides=2, padding = \"same\"))\n",
    "    #generador.add(BatchNormalization())\n",
    "    generador.add(LeakyReLU(alpha=0.2))\n",
    "\n",
    "    generador.add(Conv2D(3,kernel_size=3, padding = \"same\", activation='tanh'))\n",
    "\n",
    "    return(generador)\n",
    "\n",
    "modelo_generador = generador_de_imagenes()\n",
    "\n",
    "modelo_generador.summary()"
   ]
  },
  {
   "cell_type": "code",
   "execution_count": 2,
   "metadata": {},
   "outputs": [
    {
     "output_type": "stream",
     "name": "stderr",
     "text": [
      "Clipping input data to the valid range for imshow with RGB data ([0..1] for floats or [0..255] for integers).\n",
      "Clipping input data to the valid range for imshow with RGB data ([0..1] for floats or [0..255] for integers).\n",
      "Clipping input data to the valid range for imshow with RGB data ([0..1] for floats or [0..255] for integers).\n",
      "Clipping input data to the valid range for imshow with RGB data ([0..1] for floats or [0..255] for integers).\n"
     ]
    },
    {
     "output_type": "display_data",
     "data": {
      "text/plain": "<Figure size 432x288 with 4 Axes>",
      "image/svg+xml": "<?xml version=\"1.0\" encoding=\"utf-8\" standalone=\"no\"?>\r\n<!DOCTYPE svg PUBLIC \"-//W3C//DTD SVG 1.1//EN\"\r\n  \"http://www.w3.org/Graphics/SVG/1.1/DTD/svg11.dtd\">\r\n<!-- Created with matplotlib (https://matplotlib.org/) -->\r\n<svg height=\"231.84pt\" version=\"1.1\" viewBox=\"0 0 295.854545 231.84\" width=\"295.854545pt\" xmlns=\"http://www.w3.org/2000/svg\" xmlns:xlink=\"http://www.w3.org/1999/xlink\">\r\n <metadata>\r\n  <rdf:RDF xmlns:cc=\"http://creativecommons.org/ns#\" xmlns:dc=\"http://purl.org/dc/elements/1.1/\" xmlns:rdf=\"http://www.w3.org/1999/02/22-rdf-syntax-ns#\">\r\n   <cc:Work>\r\n    <dc:type rdf:resource=\"http://purl.org/dc/dcmitype/StillImage\"/>\r\n    <dc:date>2021-03-10T13:52:05.112327</dc:date>\r\n    <dc:format>image/svg+xml</dc:format>\r\n    <dc:creator>\r\n     <cc:Agent>\r\n      <dc:title>Matplotlib v3.3.3, https://matplotlib.org/</dc:title>\r\n     </cc:Agent>\r\n    </dc:creator>\r\n   </cc:Work>\r\n  </rdf:RDF>\r\n </metadata>\r\n <defs>\r\n  <style type=\"text/css\">*{stroke-linecap:butt;stroke-linejoin:round;}</style>\r\n </defs>\r\n <g id=\"figure_1\">\r\n  <g id=\"patch_1\">\r\n   <path d=\"M 0 231.84 \r\nL 295.854545 231.84 \r\nL 295.854545 0 \r\nL 0 0 \r\nz\r\n\" style=\"fill:none;\"/>\r\n  </g>\r\n  <g id=\"axes_1\">\r\n   <g clip-path=\"url(#p479ea869f8)\">\r\n    <image height=\"99\" id=\"image3cd23f8d1b\" transform=\"scale(1 -1)translate(0 -99)\" width=\"99\" x=\"7.2\" xlink:href=\"data:image/png;base64,\r\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\" y=\"-7.036364\"/>\r\n   </g>\r\n  </g>\r\n  <g id=\"axes_2\">\r\n   <g clip-path=\"url(#p486371e837)\">\r\n    <image height=\"99\" id=\"image6054f32ef8\" transform=\"scale(1 -1)translate(0 -99)\" width=\"99\" x=\"189.818182\" xlink:href=\"data:image/png;base64,\r\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\" y=\"-7.036364\"/>\r\n   </g>\r\n  </g>\r\n  <g id=\"axes_3\">\r\n   <g clip-path=\"url(#pc763c490a4)\">\r\n    <image height=\"99\" id=\"imagefc59a8b414\" transform=\"scale(1 -1)translate(0 -99)\" width=\"99\" x=\"7.2\" xlink:href=\"data:image/png;base64,\r\niVBORw0KGgoAAAANSUhEUgAAAGMAAABjCAYAAACPO76VAAAKyklEQVR4nO2dy9bbOA6EAZKyk3Pm/d+0u39LvMxiOsFXjNQ9u3BBrGSZEinRLONSAN3Mhv0tbv7j0Eacxlk0NjOzbCr951Gye+nyCXfOuHPjffvtsUsPHKHZKC0+1GiX0a7Jk+BeqcZde4zDLe7Z2d71iRKG3ivHxfFifO63Lbb8ZtmTsZAUfhiOpYsVxtMDy6oMhYeKht7vIaHkmH80sdHi/CgBFRlD7ISp0XFex1FafK6EucKxo28Za0girGWeD+mufXuLGyd00jNucKFzDG+vjIVkT8ZCUrjCUyJuoNXAEoP20CZNwvzFi3B8xWHjuozfQhkBR1clPNxrddbY12Ui+Vt0cfwVl3zF+ZI+0cZjHA3A3c4478CpQXRPp/aN57AacPuu0e48os3YMLWm7MlYSNw8VKB0/ydvhByHRjKamoCeuJShlwCOUoc2laKXo8bxBY3LY6WbHdFm8HyeflMFxtqJ8XZAyhFtMrTAcdJwjWt74bjR1zVBNV8JDVm8A0J12jC1puzJWEjcHnxTDs2qdzVsfsoxfb7Q7oV5vuDvobElAwGUObUprGP6eri+h9iuZiPunC36FgUMEHuM+KL3aD8IUzTaiMBiJpqNRFjEE2b4oAiL7d/9eVt+g+zJWEiK0dDDYe9i9UUTQQqFB7rdR4O6Q8vmDU0HKzwD8mqLLw4oQFfBkgbM9KRQkWCk0sa0C52MuHE7cC8+NqA2jTAsnYhVJ4ikAYp3VY6Awkrf1IPPa8tvlj0ZC8mejIWkOGISg9juDEU+hGMVqq1JNBLWsgNXYRGLv/+LvwtYu+wA+Doa/+s+bGUd4VKDU67AcWfvOKwfYDisfP8glgLV1gfG+p7+r1r8L3WEcPsH7V54qgv/S7ZlGdmTsZCIBS6SAC2IW3i/b25m5omqbZyngXyIQQ2LH6rqQN8SCgb0MRBTp9Bn4hhhqSfASyUki36JsCleTYd3UFg0mR5L07gtnZFXfEE4Z+x5r4yFZE/GQqIw9cBW09P8NJPYYikyxNAII4xroj1Dn4qE7ANaE5W9GWl7aDRORyHbiMcyxkQnXhrUpgCjgLsxprArxpuB1c0ZP8H5/4P4t+U3yJ6MhcQda5xhVy5pxhqcocQZHWBAElwQ2bXa7h2T1Hrg+rfRw8E2HJAgxqr+pl7g2hJEnsLK2QPW2jUxTX4M9cCzkcrr80vAWODYJOGvMlzt2+hbUvZkLCSiTSUh2NIYgbEEACtDl2iFsfaCUUX/1wdaRQL1IyM2UgUkocXAP5SEVPYl40gAyfaCsniGQ8pLkNtesNs+iGGMi842xmcYb54YMvDDJbBRBoCRrjNv2+hbUvZkLCRuGTqG+HQYW8ScwRdTJqob0aUijuoJGkqG3+mLmUhwuecHXxEIYx1Q5FnHocBB8ixOI1SboCl1uNML7sTnSYNZTFMuF8bboGnlK8ZBbfHEvfbKWEj2ZCwk7rTIBt1UWLqyFKEtZI1y9RQGmvBUoVU46BoZLDhqGw2/EQTkrB7wM4ltRnaamX0PH1b5C3CGZtcJ+Hrj+Ui4I/rBOMuI4LWmv+eM56gcfYFfjepU376pJWVPxkIiOZJ0FamLJeCkgsz1CwUXht5Q59ZPyWJAosl3fPjc53s3cHkTMKS/lJBgNWCgM3+bxAiQzY4rOm9064PcVpGDUAthUSN9Hdqi9RiXpLmP+zWwV8ZCsidjISlp3EewaOh1Me7i/KvqXJ5vwAsieoOYBY3LSkDF+xNQ+AEPqpG/BZdQ/4SmkqfsoQYNhVB6iDv+T7ShMYk+SJst8TzHVwzkF4c7b4BI4Tf45P54B7Slun1TS8qejIXkOcGS9RwAWQeonq1PRh+zcypcXgfmXAxLGH3Ik6b29UZ/H4wji2tdhmEZPraLLntmJTGJUyJv9646x7MNqV0xcVzHfRSPIYVTeKrkaW1ZRvZkLCR7MhaSiWv7wCdlZqmY3VN5H2Ak1VnSdjvzukjCJe8W/UkVJf5HST2TCbfRRUZcphGfhSkCB2eKEC7LFx18Vg5j8kKIVwHPN/i7L9EHq73tlbGQ7MlYSNzc7nUrSWIChGBd9plqS4sVTjZmplLz65JNSosfpYHQ/iMQ+VD6yMwKAhcXoM1BbqO3gdmxvcZDFDgWK9ghIJzY+U1fQgL13xg+pqoPi58ZBXtlLCR7MhaSIgv/KczIZQyLszC53MwqACOBAMZqaonkNmF+MNYAWJOkdzJnwdaY6neI9yARmv4T5+GM/I4CAn+yMMFgiBij4LuZMgJ6IwsEGIQh9jfha7NDlpQ9GQuJaFNC/UflMDHUCAFTbqHkOZKyT4cZpv8E/BWGNQEtB+sSIX/6OhETmLQ6J8VfYi4IzzJVHOOo6GNAAyq8z4sMEO3cT8CivE+8N9q653YULil7MhaSQmxhGeoBDGJlNKnKNuVf06Ar9P8zRlDpU3ryU2Hpwk91Ut0TOq5CRUeJJELvCz6oE1T8xgKTnwjH8umo1H1D+kKboPqVonbuh9oYLOR68SK8Z9uyjOzJWEgK68xKyJFuYlwgOZETGasdyG++7l3iJIbRuTXafY73hSo1o9+zT+pcMoJEMmiCV6GPDFlT8GV15n7jlgntURjIRtJ38HFkUb0Af6zoA3gGJ3CvjJVkT8ZCUjqiZJmwI9seIYLH2rf/kLkkxSOZHlDBRHvwHycYeihMYx+pofFUAkNp+Q1QkS+63bFDAazGL2ZbdhLx4HKvvI9C5PEKct0JxLo49kx/1CaxLSl7MhYSpwrlUosQjcDm0gC8zqXLnkiAJmpTUn+QWAi1giuaPi7UG7RKPu20PRsNWWo+tEqhNWWQ24h4BQYqc9Od456yt1jWe0iJCxiKMtztQl9S9mQsJEpIEGxiwB7GoJS0mG92D1NMfKZvy5mOILsExKWs1MNdJJmQWVx/U6x0o5unyPaSdieZECf53iEOo9LHlLkkhcT43PSr3ad17ZWxkOzJWEimSJ+oHvdXPBiD/7uEpR5CWIWfTMzOun2AIKZWC8zQfY/CWjYRI7A9kmlyFemruJ67Z0rV63tIZnWMyd40R4ey4S9JZoOa2YapJWVPxkJSnvZAktIvTOFBhGyuqkPeFI/FZyWcUBAPWLCLRhzLW8CtJS70KXuoyrBo3HEftocah4Q/PCvd940g/EsFbPaHsyyAhnfrO8FyTdmTsZDsyVhIdJ++BxKaSwYoz0/sEPlwX79bKu9L1qfYuNGem7lrynwczmWGwO2l9s14BsMqmm6EC/h/wHAx/2Pq5IbQTfxwDTdDuc/M2itjIdmTsZAoTInn72HLAMDGmGscPdQ1cmbqSInv+wTEhHBsl1QnrmmyT+Z9jzime85vYjlsqrPQi8k3Fr8n1dw5wxLOSIe7gX1LGoBv1XZJ2ZOxkEx54A8JjPelP0z21TRT5pvfa2P5wUpPT8OAFfy0+bJNYVfmVg9+xx1W+j0rhpuLPLH3WE2uTWOS+rzwWCaSTiT8u1MClpQ9GQvJvGUvBEudWhJd/JOTjMvSxRhikuN9mQmpnQtL7eBeTE8pBHMIlXFb9JehKQ0662gZgslCFsigZiQankI1yXuMswyOFxXobDsK15Q9GQuJalM+f/VDHvwyM9eWBgwZJQIbTDrE6XavielOlWR9sPzDrGY9qH8IMHATEVUQWXHtvr4u382YK/o8MGzsKZy7tak1ZU/GQvJf21CBiBKzJeYAAAAASUVORK5CYII=\" y=\"-125.64\"/>\r\n   </g>\r\n  </g>\r\n  <g id=\"axes_4\">\r\n   <g clip-path=\"url(#p032d958fd3)\">\r\n    <image height=\"99\" id=\"imagefb0484a0ab\" transform=\"scale(1 -1)translate(0 -99)\" width=\"99\" x=\"189.818182\" xlink:href=\"data:image/png;base64,\r\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\" y=\"-125.64\"/>\r\n   </g>\r\n  </g>\r\n </g>\r\n <defs>\r\n  <clipPath id=\"p479ea869f8\">\r\n   <rect height=\"98.836364\" width=\"98.836364\" x=\"7.2\" y=\"7.2\"/>\r\n  </clipPath>\r\n  <clipPath id=\"p486371e837\">\r\n   <rect height=\"98.836364\" width=\"98.836364\" x=\"189.818182\" y=\"7.2\"/>\r\n  </clipPath>\r\n  <clipPath id=\"pc763c490a4\">\r\n   <rect height=\"98.836364\" width=\"98.836364\" x=\"7.2\" y=\"125.803636\"/>\r\n  </clipPath>\r\n  <clipPath id=\"p032d958fd3\">\r\n   <rect height=\"98.836364\" width=\"98.836364\" x=\"189.818182\" y=\"125.803636\"/>\r\n  </clipPath>\r\n </defs>\r\n</svg>\r\n",
      "image/png": "[encoded data removed]"
     },
     "metadata": {
      "needs_background": "light"
     }
    }
   ],
   "source": [
    "import matplotlib.pyplot as plt\n",
    "import numpy as np\n",
    "\n",
    "# Definir datos de entrada\n",
    "def generar_datos_entrada(n_muestras):\n",
    "  X = np.random.randn(100 * n_muestras)\n",
    "  X = X.reshape(n_muestras, 100)\n",
    "  return X\n",
    "\n",
    "def crear_datos_fake(modelo_generador, n_muestras):\n",
    "  input = generar_datos_entrada(n_muestras)\n",
    "  X = modelo_generador.predict(input)\n",
    "  y = np.zeros((n_muestras, 1))\n",
    "  return X,y\n",
    "\n",
    "numero_muestras = 4\n",
    "X,_ = crear_datos_fake(modelo_generador, numero_muestras)\n",
    "\n",
    "# Visualizamos resultados\n",
    "for i in range(numero_muestras):\n",
    "    plt.subplot(2, 2, 1 + i)\n",
    "    plt.axis('off')\n",
    "    plt.imshow(X[i])"
   ]
  },
  {
   "cell_type": "code",
   "execution_count": 3,
   "metadata": {},
   "outputs": [
    {
     "output_type": "stream",
     "name": "stdout",
     "text": [
      "Model: \"sequential_1\"\n_________________________________________________________________\nLayer (type)                 Output Shape              Param #   \n=================================================================\nconv2d_1 (Conv2D)            (None, 32, 32, 64)        1792      \n_________________________________________________________________\nleaky_re_lu_4 (LeakyReLU)    (None, 32, 32, 64)        0         \n_________________________________________________________________\nconv2d_2 (Conv2D)            (None, 16, 16, 128)       73856     \n_________________________________________________________________\nleaky_re_lu_5 (LeakyReLU)    (None, 16, 16, 128)       0         \n_________________________________________________________________\nconv2d_3 (Conv2D)            (None, 8, 8, 128)         147584    \n_________________________________________________________________\nleaky_re_lu_6 (LeakyReLU)    (None, 8, 8, 128)         0         \n_________________________________________________________________\nconv2d_4 (Conv2D)            (None, 4, 4, 256)         295168    \n_________________________________________________________________\nleaky_re_lu_7 (LeakyReLU)    (None, 4, 4, 256)         0         \n_________________________________________________________________\nflatten (Flatten)            (None, 4096)              0         \n_________________________________________________________________\ndropout (Dropout)            (None, 4096)              0         \n_________________________________________________________________\ndense_1 (Dense)              (None, 1)                 4097      \n=================================================================\nTotal params: 522,497\nTrainable params: 522,497\nNon-trainable params: 0\n_________________________________________________________________\n"
     ]
    }
   ],
   "source": [
    "from keras.layers import Conv2D, Flatten, Dropout\n",
    "from keras.optimizers import Adam\n",
    "\n",
    "def discriminador_de_imagenes():\n",
    "\n",
    "    discriminador = Sequential()\n",
    "    discriminador.add(Conv2D(64, kernel_size=3, padding = \"same\", input_shape = (32,32,3)))\n",
    "    discriminador.add(LeakyReLU(alpha=0.2))\n",
    "    #discriminador.add(Dropout(0.2))\n",
    "\n",
    "    discriminador.add(Conv2D(128, kernel_size=3,strides=(2,2), padding = \"same\"))\n",
    "    discriminador.add(LeakyReLU(alpha=0.2))\n",
    "    #discriminador.add(Dropout(0.2))\n",
    "\n",
    "    discriminador.add(Conv2D(128, kernel_size=3,strides=(2,2), padding = \"same\"))\n",
    "    discriminador.add(LeakyReLU(alpha=0.2))\n",
    "    #discriminador.add(Dropout(0.2))\n",
    "\n",
    "    discriminador.add(Conv2D(256, kernel_size=3, strides=(2,2), padding = \"same\"))\n",
    "    discriminador.add(LeakyReLU(alpha=0.2))\n",
    "    #discriminador.add(Dropout(0.2))\n",
    "\n",
    "    discriminador.add(Flatten())\n",
    "    discriminador.add(Dropout(0.4))\n",
    "    discriminador.add(Dense(1, activation='sigmoid'))\n",
    "\n",
    "    opt = Adam(lr=0.0002 ,beta_1=0.5)\n",
    "    discriminador.compile(loss='binary_crossentropy', optimizer= opt , metrics = ['accuracy'])\n",
    "\n",
    "    return(discriminador)\n",
    "\n",
    "modelo_discriminador = discriminador_de_imagenes()\n",
    "modelo_discriminador.summary()"
   ]
  },
  {
   "cell_type": "code",
   "execution_count": 10,
   "metadata": {},
   "outputs": [],
   "source": [
    "import cv2\n",
    "import os\n",
    "\n",
    "def load_images_from_folder(folder):\n",
    "    images = []\n",
    "    for filename in os.listdir(folder):\n",
    "        img = cv2.imread(os.path.join(folder,filename))\n",
    "        img = cv2.resize(img, dsize=(32, 32), interpolation=cv2.INTER_NEAREST)\n",
    "        if img is not None:\n",
    "            images.append(img)\n",
    "    return images    "
   ]
  },
  {
   "cell_type": "code",
   "execution_count": 11,
   "metadata": {},
   "outputs": [
    {
     "output_type": "stream",
     "name": "stdout",
     "text": [
      "Wall time: 152 ms\n"
     ]
    }
   ],
   "source": [
    "%%time\n",
    "images = load_images_from_folder(folder=\"../src/api/uploads\")"
   ]
  },
  {
   "cell_type": "code",
   "execution_count": 12,
   "metadata": {},
   "outputs": [
    {
     "output_type": "stream",
     "name": "stdout",
     "text": [
      "Model: \"sequential_2\"\n_________________________________________________________________\nLayer (type)                 Output Shape              Param #   \n=================================================================\nsequential (Sequential)      (None, 32, 32, 3)         1007363   \n_________________________________________________________________\nsequential_1 (Sequential)    (None, 1)                 522497    \n=================================================================\nTotal params: 1,529,860\nTrainable params: 1,007,363\nNon-trainable params: 522,497\n_________________________________________________________________\n"
     ]
    }
   ],
   "source": [
    "def crear_gan(discriminador, generador):\n",
    "    discriminador.trainable=False\n",
    "    gan = Sequential()\n",
    "    gan.add(generador)\n",
    "    gan.add(discriminador)\n",
    "\n",
    "    opt = Adam(lr=0.0002,beta_1=0.5) \n",
    "    gan.compile(loss = \"binary_crossentropy\", optimizer = opt)\n",
    "\n",
    "    return gan\n",
    "\n",
    "gan = crear_gan(modelo_discriminador,modelo_generador)\n",
    "gan.summary()"
   ]
  },
  {
   "cell_type": "code",
   "execution_count": 13,
   "metadata": {},
   "outputs": [],
   "source": [
    "def evaluar_y_guardar(modelo_generador, epoch, medio_dataset):\n",
    "\n",
    "  # We save the model\n",
    "  now = datetime.now()\n",
    "  now = now.strftime(\"%Y%m%d_%H%M%S\")\n",
    "  nombre = str(epoch) + '_' + str(now)+\"_modelo_generador_\" + '.h5'\n",
    "  modelo_generador.save(nombre)\n",
    "\n",
    "  # We generate new data\n",
    "  X_real,Y_real = cargar_datos_reales(dataset, medio_dataset)\n",
    "  X_fake, Y_fake =  crear_datos_fake(modelo_generador,medio_dataset)\n",
    "\n",
    "  # We evaluate the model\n",
    "  _, acc_real = modelo_discriminador.evaluate(X_real, Y_real)\n",
    "  _, acc_fake = modelo_discriminador.evaluate(X_fake, Y_fake)\n",
    "\n",
    "  print('Acc Real:' + str(acc_real*100) + '% Acc Fake:' + str(acc_fake*100)+'%')"
   ]
  },
  {
   "cell_type": "code",
   "execution_count": 14,
   "metadata": {},
   "outputs": [],
   "source": [
    "def entrenamiento(datos, modelo_generador, modelo_discriminador, epochs, n_batch, inicio = 0):\n",
    "  dimension_batch = int(datos.shape[0]/n_batch)\n",
    "  medio_dataset = int(n_batch/2)\n",
    "\n",
    "  # We iterate over the epochs\n",
    "  for epoch in range(inicio, inicio + epochs):\n",
    "    # We iterate over all batches\n",
    "    for batch in range(n_batch):\n",
    "\n",
    "      # We load all the real data\n",
    "      X_real,Y_real = cargar_datos_reales(dataset, medio_dataset)\n",
    "\n",
    "\n",
    "      # We train the discriminator withEnrenamos discriminador con datos reales\n",
    "      coste_discriminador_real, _ = modelo_discriminador.train_on_batch(X_real, Y_real)\n",
    "      X_fake, Y_fake =  crear_datos_fake(modelo_generador,medio_dataset)\n",
    "\n",
    "      coste_discriminador_fake, _ = modelo_discriminador.train_on_batch(X_fake, Y_fake)\n",
    "\n",
    "      # We generate input images for the GAN\n",
    "      X_gan = generar_datos_entrada(medio_dataset)\n",
    "      Y_gan = np.ones((medio_dataset, 1))\n",
    "\n",
    "      # We train the GAN with fake data\n",
    "      coste_gan = gan.train_on_batch(X_gan, Y_gan)\n",
    "\n",
    "    # Every 10 epochs we show the results and cost \n",
    "    if (epoch+1) % 10 == 0:\n",
    "      evaluar_y_guardar(modelo_generador,epoch = epoch, medio_dataset= medio_dataset)\n",
    "      mostrar_imagenes_generadas(X_fake, epoch = epoch)"
   ]
  },
  {
   "cell_type": "code",
   "execution_count": 18,
   "metadata": {},
   "outputs": [],
   "source": [
    "images = np.asarray(images)"
   ]
  },
  {
   "cell_type": "code",
   "execution_count": 21,
   "metadata": {},
   "outputs": [
    {
     "output_type": "error",
     "ename": "NameError",
     "evalue": "name 'dataset' is not defined",
     "traceback": [
      "\u001b[1;31m---------------------------------------------------------------------------\u001b[0m",
      "\u001b[1;31mNameError\u001b[0m                                 Traceback (most recent call last)",
      "\u001b[1;32m<ipython-input-21-e60cc92d3c3a>\u001b[0m in \u001b[0;36m<module>\u001b[1;34m\u001b[0m\n\u001b[1;32m----> 1\u001b[1;33m \u001b[0mentrenamiento\u001b[0m\u001b[1;33m(\u001b[0m\u001b[0mimages\u001b[0m\u001b[1;33m,\u001b[0m \u001b[0mmodelo_generador\u001b[0m\u001b[1;33m,\u001b[0m \u001b[0mmodelo_discriminador\u001b[0m\u001b[1;33m,\u001b[0m \u001b[0mepochs\u001b[0m \u001b[1;33m=\u001b[0m \u001b[1;36m300\u001b[0m\u001b[1;33m,\u001b[0m \u001b[0mn_batch\u001b[0m\u001b[1;33m=\u001b[0m\u001b[1;36m128\u001b[0m\u001b[1;33m,\u001b[0m \u001b[0minicio\u001b[0m \u001b[1;33m=\u001b[0m \u001b[1;36m0\u001b[0m\u001b[1;33m)\u001b[0m\u001b[1;33m\u001b[0m\u001b[1;33m\u001b[0m\u001b[0m\n\u001b[0m",
      "\u001b[1;32m<ipython-input-14-8c0bbc63685a>\u001b[0m in \u001b[0;36mentrenamiento\u001b[1;34m(datos, modelo_generador, modelo_discriminador, epochs, n_batch, inicio)\u001b[0m\n\u001b[0;32m      9\u001b[0m \u001b[1;33m\u001b[0m\u001b[0m\n\u001b[0;32m     10\u001b[0m       \u001b[1;31m# We load all the real data\u001b[0m\u001b[1;33m\u001b[0m\u001b[1;33m\u001b[0m\u001b[1;33m\u001b[0m\u001b[0m\n\u001b[1;32m---> 11\u001b[1;33m       \u001b[0mX_real\u001b[0m\u001b[1;33m,\u001b[0m\u001b[0mY_real\u001b[0m \u001b[1;33m=\u001b[0m \u001b[0mcargar_datos_reales\u001b[0m\u001b[1;33m(\u001b[0m\u001b[0mdataset\u001b[0m\u001b[1;33m,\u001b[0m \u001b[0mmedio_dataset\u001b[0m\u001b[1;33m)\u001b[0m\u001b[1;33m\u001b[0m\u001b[1;33m\u001b[0m\u001b[0m\n\u001b[0m\u001b[0;32m     12\u001b[0m \u001b[1;33m\u001b[0m\u001b[0m\n\u001b[0;32m     13\u001b[0m \u001b[1;33m\u001b[0m\u001b[0m\n",
      "\u001b[1;31mNameError\u001b[0m: name 'dataset' is not defined"
     ]
    }
   ],
   "source": [
    "entrenamiento(images, modelo_generador, modelo_discriminador, epochs = 300, n_batch=128, inicio = 0)\n"
   ]
  },
  {
   "cell_type": "code",
   "execution_count": 20,
   "metadata": {},
   "outputs": [],
   "source": [
    "import random\n",
    "\n",
    "def cargar_datos_reales(dataset, n_muestras):\n",
    "  ix = np.random.randint(0, dataset.shape[0], n_muestras)\n",
    "  X = dataset[ix]\n",
    "  y = np.ones((n_muestras, 1))\n",
    "  return X,y\n",
    "\n",
    "def cargar_datos_fake(n_muestras):\n",
    "  X = np.random.rand(32 * 32 * 3 * n_muestras)\n",
    "  X = -1 + X * 2\n",
    "  X = X.reshape((n_muestras, 32,32,3))\n",
    "  y = np.zeros((n_muestras, 1))\n",
    "  return X,y"
   ]
  },
  {
   "cell_type": "code",
   "execution_count": null,
   "metadata": {},
   "outputs": [],
   "source": []
  }
 ]
}