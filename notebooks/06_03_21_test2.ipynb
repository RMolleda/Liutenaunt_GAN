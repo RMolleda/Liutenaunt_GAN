{
 "metadata": {
  "language_info": {
   "codemirror_mode": {
    "name": "ipython",
    "version": 3
   },
   "file_extension": ".py",
   "mimetype": "text/x-python",
   "name": "python",
   "nbconvert_exporter": "python",
   "pygments_lexer": "ipython3",
   "version": "3.8.8-final"
  },
  "orig_nbformat": 2,
  "kernelspec": {
   "name": "python3",
   "display_name": "Python 3.8.8 64-bit",
   "metadata": {
    "interpreter": {
     "hash": "1baa965d5efe3ac65b79dfc60c0d706280b1da80fedb7760faf2759126c4f253"
    }
   }
  }
 },
 "nbformat": 4,
 "nbformat_minor": 2,
 "cells": [
  {
   "cell_type": "code",
   "execution_count": 1,
   "metadata": {},
   "outputs": [],
   "source": [
    "import tensorflow as tf\n",
    "from tensorflow.keras import layers\n",
    "import os\n",
    "import numpy as np \n",
    "import matplotlib.pyplot as plt \n",
    "import cv2\n",
    "import time \n",
    "from IPython import display"
   ]
  },
  {
   "cell_type": "code",
   "execution_count": 2,
   "metadata": {},
   "outputs": [],
   "source": [
    "def load_images_from_folder(folder):\n",
    "    \"\"\"\n",
    "    This function read and import the uploaded images by CV2.\n",
    "    Receives \"folder\" as the folder where are allocated the images to import by relative path\n",
    "    \"\"\"\n",
    "    images = []\n",
    "    for filename in os.listdir(folder):\n",
    "        img = cv2.imread(os.path.join(folder,filename))\n",
    "        if img is not None:\n",
    "            images.append(img)\n",
    "    return images   "
   ]
  },
  {
   "cell_type": "code",
   "execution_count": 3,
   "metadata": {},
   "outputs": [],
   "source": [
    "\"\"\"\n",
    "Now call the function to import as an numpy array the files uploaded by the server.py\n",
    "\"\"\"\n",
    "images = load_images_from_folder(folder=\"../src/api/uploads\")"
   ]
  },
  {
   "cell_type": "code",
   "execution_count": 4,
   "metadata": {},
   "outputs": [],
   "source": [
    "\"\"\"\n",
    "Change the type of the files from whatever to float64 and regroup all into a list\n",
    "\"\"\"\n",
    "images_shaped = []\n",
    "for i in images:\n",
    "    img = i.astype('float64')\n",
    "    images_shaped.append(img)\n",
    "\n",
    "#Now change the list to a numpy array to work with it and delete the varibles that we dont need to use in future to save RAM\n",
    "train_images = np.asarray(images_shaped)\n",
    "\n",
    "del images, images_shaped"
   ]
  },
  {
   "cell_type": "code",
   "execution_count": 5,
   "metadata": {},
   "outputs": [],
   "source": [
    "train_images = train_images / 255.0"
   ]
  },
  {
   "cell_type": "code",
   "execution_count": 6,
   "metadata": {},
   "outputs": [
    {
     "output_type": "execute_result",
     "data": {
      "text/plain": [
       "(600, 600, 3)"
      ]
     },
     "metadata": {},
     "execution_count": 6
    }
   ],
   "source": [
    "train_images[0].shape\n"
   ]
  },
  {
   "cell_type": "code",
   "execution_count": 29,
   "metadata": {},
   "outputs": [],
   "source": [
    "def generator_model():\n",
    "    model = tf.keras.Sequential()\n",
    "    model.add(layers.Conv2D(600,\n",
    "                    (3, 3),\n",
    "                    activation=\"relu\",\n",
    "                    padding=\"same\",\n",
    "                    input_shape=train_images[0].shape\n",
    "                    ))\n",
    "    model.add(layers.BatchNormalization())\n",
    "    model.add(layers.MaxPooling2D((2,2), \n",
    "                    padding=\"same\"\n",
    "                    ))\n",
    "    model.add(layers.Conv2D(128,\n",
    "                    (3,3),\n",
    "                    activation=\"relu\",\n",
    "                    padding=\"same\"\n",
    "                    ))\n",
    "    model.add(layers.MaxPooling2D((2 ,2),\n",
    "                    padding=\"same\"))\n",
    "\n",
    "    return model"
   ]
  },
  {
   "cell_type": "code",
   "execution_count": 30,
   "metadata": {},
   "outputs": [],
   "source": [
    "generator = generator_model()"
   ]
  },
  {
   "cell_type": "code",
   "execution_count": 31,
   "metadata": {},
   "outputs": [],
   "source": [
    "generator.compile(tf.keras.optimizers.Adam(learning_rate=0.01),\n",
    "                                            loss=\"sparse_categorical_crossentropy\")"
   ]
  },
  {
   "cell_type": "code",
   "execution_count": 32,
   "metadata": {},
   "outputs": [
    {
     "output_type": "stream",
     "name": "stdout",
     "text": [
      "Model: \"sequential_4\"\n_________________________________________________________________\nLayer (type)                 Output Shape              Param #   \n=================================================================\nconv2d_8 (Conv2D)            (None, 600, 600, 600)     16800     \n_________________________________________________________________\nbatch_normalization_4 (Batch (None, 600, 600, 600)     2400      \n_________________________________________________________________\nmax_pooling2d_8 (MaxPooling2 (None, 300, 300, 600)     0         \n_________________________________________________________________\nconv2d_9 (Conv2D)            (None, 300, 300, 128)     691328    \n_________________________________________________________________\nmax_pooling2d_9 (MaxPooling2 (None, 150, 150, 128)     0         \n=================================================================\nTotal params: 710,528\nTrainable params: 709,328\nNon-trainable params: 1,200\n_________________________________________________________________\n"
     ]
    }
   ],
   "source": [
    "generator.summary()"
   ]
  },
  {
   "cell_type": "code",
   "execution_count": 13,
   "metadata": {},
   "outputs": [
    {
     "output_type": "execute_result",
     "data": {
      "text/plain": [
       "(10, 600, 600, 3)"
      ]
     },
     "metadata": {},
     "execution_count": 13
    }
   ],
   "source": [
    "train_images.shape"
   ]
  },
  {
   "cell_type": "code",
   "execution_count": 15,
   "metadata": {},
   "outputs": [],
   "source": [
    "generator.fit(train_images, labels)"
   ]
  },
  {
   "cell_type": "code",
   "execution_count": null,
   "metadata": {},
   "outputs": [],
   "source": []
  }
 ]
}