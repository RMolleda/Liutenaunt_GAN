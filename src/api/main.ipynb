{
 "metadata": {
  "language_info": {
   "codemirror_mode": {
    "name": "ipython",
    "version": 3
   },
   "file_extension": ".py",
   "mimetype": "text/x-python",
   "name": "python",
   "nbconvert_exporter": "python",
   "pygments_lexer": "ipython3",
   "version": "3.8.8-final"
  },
  "orig_nbformat": 2,
  "kernelspec": {
   "name": "python3",
   "display_name": "Python 3.8.8 64-bit",
   "metadata": {
    "interpreter": {
     "hash": "1baa965d5efe3ac65b79dfc60c0d706280b1da80fedb7760faf2759126c4f253"
    }
   }
  }
 },
 "nbformat": 4,
 "nbformat_minor": 2,
 "cells": [
  {
   "source": [
    "# Liutenaunt GAN"
   ],
   "cell_type": "markdown",
   "metadata": {}
  },
  {
   "source": [
    "### This is a web app to generate inexisting images from your desired sample. "
   ],
   "cell_type": "markdown",
   "metadata": {}
  },
  {
   "source": [
    "There's something you have to do before start running the program. You have the required libraries to execute correctly the app in the \"requirements.txt\" file. By executing the cell below, you will install all that packages to run the app."
   ],
   "cell_type": "markdown",
   "metadata": {}
  },
  {
   "cell_type": "code",
   "execution_count": null,
   "metadata": {},
   "outputs": [],
   "source": [
    "!pip install -r requirements.txt"
   ]
  },
  {
   "source": [
    "### Now, you are ready to run the app. You could connect to it by the localhost:5000 and upload your pictures."
   ],
   "cell_type": "markdown",
   "metadata": {}
  },
  {
   "cell_type": "code",
   "execution_count": 1,
   "metadata": {},
   "outputs": [
    {
     "output_type": "stream",
     "name": "stdout",
     "text": [
      "c:\\datascience\\Neural_project\\src\\api\n",
      " * Serving Flask app \"server\" (lazy loading)\n",
      " * Environment: production\n",
      "   WARNING: This is a development server. Do not use it in a production deployment.\n",
      "   Use a production WSGI server instead.\n",
      " * Debug mode: on\n",
      " * Restarting with stat\n"
     ]
    }
   ],
   "source": [
    "%run -i \"server.py\""
   ]
  },
  {
   "source": [
    "Be patient about process, the app is generating more than 20.000 examples of your pictures and trying to create a non-existing sample.\n",
    "\n",
    "We recommend to run in a powerfull computer and, if possible, get the GPU accelerator.\n",
    "\n",
    "**HOPE YOU ENJOY**\n",
    "\n",
    "\n",
    "\n",
    "\n",
    "**© Roberto Molleda  \n",
    "Mar/2021** "
   ],
   "cell_type": "markdown",
   "metadata": {}
  },
  {
   "cell_type": "code",
   "execution_count": null,
   "metadata": {},
   "outputs": [],
   "source": []
  }
 ]
}